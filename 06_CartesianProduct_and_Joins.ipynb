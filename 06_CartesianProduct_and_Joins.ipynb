{
 "cells": [
  {
   "cell_type": "markdown",
   "metadata": {},
   "source": [
    "# Cartesian Product\n"
   ]
  },
  {
   "cell_type": "markdown",
   "metadata": {},
   "source": [
    "## Cartesian Product\n",
    "\n",
    "So far we have restricted ourselves to operators that operate on one table at a time.  This is logical in the sense that our operators create relations!  However, we know that a typical database contains many tables, which in fact may be related.  So, how do we do queries using mulitple tables?  \n",
    "\n",
    "The first step toward applying the operators we have learned about so far to multiple tables is to merge the tables together   We do this using the cartesian product.   A cartesian product creates one table out of two tables by creating every possible combination of each row in table A with each row in table B, forming a new relation with A+B columns, and A*B rows!\n",
    "\n",
    "![](cartprod1.png)\n",
    "\n",
    "\n",
    "Of course this can create an **enormous** table, so the cartesian product is always followed by a query where we limit the number of rows by comparing a column in relation A against a column in relation B.\n",
    "\n",
    "![](cartprod2.png)\n"
   ]
  },
  {
   "cell_type": "markdown",
   "metadata": {},
   "source": [
    "# Natural Join"
   ]
  },
  {
   "cell_type": "markdown",
   "metadata": {
    "collapsed": true
   },
   "source": [
    "The natural join or ``njoin`` operator takes the pattern of cartesian product followed by query, and wraps it all into one operation subject to the following:\n",
    "\n",
    "* The query condition tests for equality\n",
    "* The query condition of equality applies to all columns with the same name in both relations.\n",
    "\n",
    "You can see this in the following diagram, where we have two relations.  Both have a column named C1.  \n",
    "The resulting relation has a single C1 column where only the rows where C1 holds the same value in both relations.  The other values from the row are filled in with the values from the matching rows.\n",
    "\n",
    "![](njoin.png)\n",
    "\n"
   ]
  },
  {
   "cell_type": "code",
   "execution_count": 8,
   "metadata": {
    "collapsed": false
   },
   "outputs": [
    {
     "data": {
      "text/html": [
       "<div>\n",
       "<table border=\"1\" class=\"dataframe\">\n",
       "  <thead>\n",
       "    <tr style=\"text-align: right;\">\n",
       "      <th></th>\n",
       "      <th>C1</th>\n",
       "      <th>C2</th>\n",
       "    </tr>\n",
       "  </thead>\n",
       "  <tbody>\n",
       "    <tr>\n",
       "      <th>0</th>\n",
       "      <td>1</td>\n",
       "      <td>A</td>\n",
       "    </tr>\n",
       "    <tr>\n",
       "      <th>1</th>\n",
       "      <td>2</td>\n",
       "      <td>B</td>\n",
       "    </tr>\n",
       "    <tr>\n",
       "      <th>2</th>\n",
       "      <td>3</td>\n",
       "      <td>C</td>\n",
       "    </tr>\n",
       "    <tr>\n",
       "      <th>3</th>\n",
       "      <td>5</td>\n",
       "      <td>D</td>\n",
       "    </tr>\n",
       "  </tbody>\n",
       "</table>\n",
       "</div>"
      ],
      "text/plain": [
       "   C1 C2\n",
       "0   1  A\n",
       "1   2  B\n",
       "2   3  C\n",
       "3   5  D"
      ]
     },
     "execution_count": 8,
     "metadata": {},
     "output_type": "execute_result"
    }
   ],
   "source": [
    "import warnings\n",
    "warnings.filterwarnings('ignore')\n",
    "\n",
    "from reframe import Relation\n",
    "r1 = Relation('/home/faculty/millbr02/pub/R1.csv',sep=',')\n",
    "r2 = Relation('/home/faculty/millbr02/pub/R2.csv',sep=',')\n",
    "r1"
   ]
  },
  {
   "cell_type": "code",
   "execution_count": 9,
   "metadata": {
    "collapsed": false
   },
   "outputs": [
    {
     "data": {
      "text/html": [
       "<div>\n",
       "<table border=\"1\" class=\"dataframe\">\n",
       "  <thead>\n",
       "    <tr style=\"text-align: right;\">\n",
       "      <th></th>\n",
       "      <th>C1</th>\n",
       "      <th>C3</th>\n",
       "    </tr>\n",
       "  </thead>\n",
       "  <tbody>\n",
       "    <tr>\n",
       "      <th>0</th>\n",
       "      <td>7</td>\n",
       "      <td>E</td>\n",
       "    </tr>\n",
       "    <tr>\n",
       "      <th>1</th>\n",
       "      <td>3</td>\n",
       "      <td>F</td>\n",
       "    </tr>\n",
       "    <tr>\n",
       "      <th>2</th>\n",
       "      <td>1</td>\n",
       "      <td>J</td>\n",
       "    </tr>\n",
       "    <tr>\n",
       "      <th>3</th>\n",
       "      <td>2</td>\n",
       "      <td>L</td>\n",
       "    </tr>\n",
       "  </tbody>\n",
       "</table>\n",
       "</div>"
      ],
      "text/plain": [
       "   C1 C3\n",
       "0   7  E\n",
       "1   3  F\n",
       "2   1  J\n",
       "3   2  L"
      ]
     },
     "execution_count": 9,
     "metadata": {},
     "output_type": "execute_result"
    }
   ],
   "source": [
    "r2"
   ]
  },
  {
   "cell_type": "code",
   "execution_count": 10,
   "metadata": {
    "collapsed": false
   },
   "outputs": [
    {
     "data": {
      "text/html": [
       "<div>\n",
       "<table border=\"1\" class=\"dataframe\">\n",
       "  <thead>\n",
       "    <tr style=\"text-align: right;\">\n",
       "      <th></th>\n",
       "      <th>C1</th>\n",
       "      <th>C2</th>\n",
       "      <th>C3</th>\n",
       "    </tr>\n",
       "  </thead>\n",
       "  <tbody>\n",
       "    <tr>\n",
       "      <th>0</th>\n",
       "      <td>1</td>\n",
       "      <td>A</td>\n",
       "      <td>J</td>\n",
       "    </tr>\n",
       "    <tr>\n",
       "      <th>1</th>\n",
       "      <td>2</td>\n",
       "      <td>B</td>\n",
       "      <td>L</td>\n",
       "    </tr>\n",
       "    <tr>\n",
       "      <th>2</th>\n",
       "      <td>3</td>\n",
       "      <td>C</td>\n",
       "      <td>F</td>\n",
       "    </tr>\n",
       "  </tbody>\n",
       "</table>\n",
       "</div>"
      ],
      "text/plain": [
       "   C1 C2 C3\n",
       "0   1  A  J\n",
       "1   2  B  L\n",
       "2   3  C  F"
      ]
     },
     "execution_count": 10,
     "metadata": {},
     "output_type": "execute_result"
    }
   ],
   "source": [
    "r1.njoin(r2)"
   ]
  },
  {
   "cell_type": "code",
   "execution_count": 11,
   "metadata": {
    "collapsed": true
   },
   "outputs": [],
   "source": [
    "%load_ext sql"
   ]
  },
  {
   "cell_type": "code",
   "execution_count": 16,
   "metadata": {
    "collapsed": false
   },
   "outputs": [
    {
     "data": {
      "text/plain": [
       "'Connected: millbr02@jtest'"
      ]
     },
     "execution_count": 16,
     "metadata": {},
     "output_type": "execute_result"
    }
   ],
   "source": [
    "%sql postgresql://millbr02:@localhost/jtest"
   ]
  },
  {
   "cell_type": "code",
   "execution_count": 18,
   "metadata": {
    "collapsed": false
   },
   "outputs": [
    {
     "name": "stdout",
     "output_type": "stream",
     "text": [
      "3 rows affected.\n"
     ]
    },
    {
     "data": {
      "text/html": [
       "<table>\n",
       "    <tr>\n",
       "        <th>C1</th>\n",
       "        <th>C2</th>\n",
       "        <th>C3</th>\n",
       "    </tr>\n",
       "    <tr>\n",
       "        <td>1</td>\n",
       "        <td>A</td>\n",
       "        <td>J</td>\n",
       "    </tr>\n",
       "    <tr>\n",
       "        <td>2</td>\n",
       "        <td>B</td>\n",
       "        <td>L</td>\n",
       "    </tr>\n",
       "    <tr>\n",
       "        <td>3</td>\n",
       "        <td>C</td>\n",
       "        <td>F</td>\n",
       "    </tr>\n",
       "</table>"
      ],
      "text/plain": [
       "[(1, 'A', 'J'), (2, 'B', 'L'), (3, 'C', 'F')]"
      ]
     },
     "execution_count": 18,
     "metadata": {},
     "output_type": "execute_result"
    }
   ],
   "source": [
    "%%sql\n",
    "\n",
    "select * \n",
    "from r1 natural join r2\n"
   ]
  },
  {
   "cell_type": "markdown",
   "metadata": {},
   "source": [
    "To return to the cartesian product example, note that it is not 100% equivalent as the cartesian product retains and renames the second copy of column1."
   ]
  },
  {
   "cell_type": "code",
   "execution_count": 27,
   "metadata": {
    "collapsed": false
   },
   "outputs": [
    {
     "name": "stdout",
     "output_type": "stream",
     "text": [
      "3 rows affected.\n"
     ]
    },
    {
     "data": {
      "text/html": [
       "<table>\n",
       "    <tr>\n",
       "        <th>C1</th>\n",
       "        <th>C2</th>\n",
       "        <th>C1_1</th>\n",
       "        <th>C3</th>\n",
       "    </tr>\n",
       "    <tr>\n",
       "        <td>1</td>\n",
       "        <td>A</td>\n",
       "        <td>1</td>\n",
       "        <td>J</td>\n",
       "    </tr>\n",
       "    <tr>\n",
       "        <td>2</td>\n",
       "        <td>B</td>\n",
       "        <td>2</td>\n",
       "        <td>L</td>\n",
       "    </tr>\n",
       "    <tr>\n",
       "        <td>3</td>\n",
       "        <td>C</td>\n",
       "        <td>3</td>\n",
       "        <td>F</td>\n",
       "    </tr>\n",
       "</table>"
      ],
      "text/plain": [
       "[(1, 'A', 1, 'J'), (2, 'B', 2, 'L'), (3, 'C', 3, 'F')]"
      ]
     },
     "execution_count": 27,
     "metadata": {},
     "output_type": "execute_result"
    }
   ],
   "source": [
    "%%sql\n",
    "\n",
    "select * \n",
    "from r1, r2\n",
    "where r1.\"C1\" = r2.\"C1\""
   ]
  },
  {
   "cell_type": "markdown",
   "metadata": {},
   "source": [
    "Now lets look at a more real example.  From our city and country tables we have a problem:\n",
    "\n",
    "* the column name is in both relations, but means different things\n",
    "* the column population is in both relations but means different things\n",
    "* the column we would like to join on is the countrycode column, but it is called code in the country relation and countrycode in the city relation.\n",
    "\n",
    "We can remedy this in relational algebra by using the rename operator."
   ]
  },
  {
   "cell_type": "code",
   "execution_count": 28,
   "metadata": {
    "collapsed": true
   },
   "outputs": [],
   "source": [
    "city = Relation('/home/faculty/millbr02/pub/city.csv')\n",
    "country = Relation('/home/faculty/millbr02/pub/country.csv')"
   ]
  },
  {
   "cell_type": "code",
   "execution_count": 29,
   "metadata": {
    "collapsed": false
   },
   "outputs": [
    {
     "data": {
      "text/html": [
       "<div>\n",
       "<table border=\"1\" class=\"dataframe\">\n",
       "  <thead>\n",
       "    <tr style=\"text-align: right;\">\n",
       "      <th></th>\n",
       "      <th>id</th>\n",
       "      <th>name</th>\n",
       "      <th>countrycode</th>\n",
       "      <th>district</th>\n",
       "      <th>population</th>\n",
       "    </tr>\n",
       "  </thead>\n",
       "  <tbody>\n",
       "    <tr>\n",
       "      <th>0</th>\n",
       "      <td>1</td>\n",
       "      <td>Kabul</td>\n",
       "      <td>AFG</td>\n",
       "      <td>Kabol</td>\n",
       "      <td>1780000</td>\n",
       "    </tr>\n",
       "    <tr>\n",
       "      <th>1</th>\n",
       "      <td>2</td>\n",
       "      <td>Qandahar</td>\n",
       "      <td>AFG</td>\n",
       "      <td>Qandahar</td>\n",
       "      <td>237500</td>\n",
       "    </tr>\n",
       "    <tr>\n",
       "      <th>2</th>\n",
       "      <td>3</td>\n",
       "      <td>Herat</td>\n",
       "      <td>AFG</td>\n",
       "      <td>Herat</td>\n",
       "      <td>186800</td>\n",
       "    </tr>\n",
       "    <tr>\n",
       "      <th>3</th>\n",
       "      <td>4</td>\n",
       "      <td>Mazar-e-Sharif</td>\n",
       "      <td>AFG</td>\n",
       "      <td>Balkh</td>\n",
       "      <td>127800</td>\n",
       "    </tr>\n",
       "    <tr>\n",
       "      <th>4</th>\n",
       "      <td>5</td>\n",
       "      <td>Amsterdam</td>\n",
       "      <td>NLD</td>\n",
       "      <td>Noord-Holland</td>\n",
       "      <td>731200</td>\n",
       "    </tr>\n",
       "  </tbody>\n",
       "</table>\n",
       "</div>"
      ],
      "text/plain": [
       "  id            name countrycode       district  population\n",
       "0  1           Kabul         AFG          Kabol     1780000\n",
       "1  2        Qandahar         AFG       Qandahar      237500\n",
       "2  3           Herat         AFG          Herat      186800\n",
       "3  4  Mazar-e-Sharif         AFG          Balkh      127800\n",
       "4  5       Amsterdam         NLD  Noord-Holland      731200"
      ]
     },
     "execution_count": 29,
     "metadata": {},
     "output_type": "execute_result"
    }
   ],
   "source": [
    "city.head()"
   ]
  },
  {
   "cell_type": "code",
   "execution_count": 30,
   "metadata": {
    "collapsed": false
   },
   "outputs": [
    {
     "data": {
      "text/html": [
       "<div>\n",
       "<table border=\"1\" class=\"dataframe\">\n",
       "  <thead>\n",
       "    <tr style=\"text-align: right;\">\n",
       "      <th></th>\n",
       "      <th>code</th>\n",
       "      <th>name</th>\n",
       "      <th>continent</th>\n",
       "      <th>region</th>\n",
       "      <th>surfacearea</th>\n",
       "      <th>indepyear</th>\n",
       "      <th>population</th>\n",
       "      <th>lifeexpectancy</th>\n",
       "      <th>gnp</th>\n",
       "      <th>gnpold</th>\n",
       "      <th>localname</th>\n",
       "      <th>governmentform</th>\n",
       "      <th>headofstate</th>\n",
       "      <th>capital</th>\n",
       "      <th>code2</th>\n",
       "    </tr>\n",
       "  </thead>\n",
       "  <tbody>\n",
       "    <tr>\n",
       "      <th>0</th>\n",
       "      <td>AFG</td>\n",
       "      <td>Afghanistan</td>\n",
       "      <td>Asia</td>\n",
       "      <td>Southern and Central Asia</td>\n",
       "      <td>652090</td>\n",
       "      <td>1919</td>\n",
       "      <td>22720000</td>\n",
       "      <td>45.9</td>\n",
       "      <td>5976</td>\n",
       "      <td>NaN</td>\n",
       "      <td>Afganistan/Afqanestan</td>\n",
       "      <td>Islamic Emirate</td>\n",
       "      <td>Mohammad Omar</td>\n",
       "      <td>1</td>\n",
       "      <td>AF</td>\n",
       "    </tr>\n",
       "    <tr>\n",
       "      <th>1</th>\n",
       "      <td>NLD</td>\n",
       "      <td>Netherlands</td>\n",
       "      <td>Europe</td>\n",
       "      <td>Western Europe</td>\n",
       "      <td>41526</td>\n",
       "      <td>1581</td>\n",
       "      <td>15864000</td>\n",
       "      <td>78.3</td>\n",
       "      <td>371362</td>\n",
       "      <td>360478</td>\n",
       "      <td>Nederland</td>\n",
       "      <td>Constitutional Monarchy</td>\n",
       "      <td>Beatrix</td>\n",
       "      <td>5</td>\n",
       "      <td>NL</td>\n",
       "    </tr>\n",
       "    <tr>\n",
       "      <th>2</th>\n",
       "      <td>ANT</td>\n",
       "      <td>Netherlands Antilles</td>\n",
       "      <td>North America</td>\n",
       "      <td>Caribbean</td>\n",
       "      <td>800</td>\n",
       "      <td>NaN</td>\n",
       "      <td>217000</td>\n",
       "      <td>74.7</td>\n",
       "      <td>1941</td>\n",
       "      <td>NaN</td>\n",
       "      <td>Nederlandse Antillen</td>\n",
       "      <td>Nonmetropolitan Territory of The Netherlands</td>\n",
       "      <td>Beatrix</td>\n",
       "      <td>33</td>\n",
       "      <td>AN</td>\n",
       "    </tr>\n",
       "    <tr>\n",
       "      <th>3</th>\n",
       "      <td>ALB</td>\n",
       "      <td>Albania</td>\n",
       "      <td>Europe</td>\n",
       "      <td>Southern Europe</td>\n",
       "      <td>28748</td>\n",
       "      <td>1912</td>\n",
       "      <td>3401200</td>\n",
       "      <td>71.6</td>\n",
       "      <td>3205</td>\n",
       "      <td>2500</td>\n",
       "      <td>Shqipëria</td>\n",
       "      <td>Republic</td>\n",
       "      <td>Rexhep Mejdani</td>\n",
       "      <td>34</td>\n",
       "      <td>AL</td>\n",
       "    </tr>\n",
       "    <tr>\n",
       "      <th>4</th>\n",
       "      <td>DZA</td>\n",
       "      <td>Algeria</td>\n",
       "      <td>Africa</td>\n",
       "      <td>Northern Africa</td>\n",
       "      <td>2381740</td>\n",
       "      <td>1962</td>\n",
       "      <td>31471000</td>\n",
       "      <td>69.7</td>\n",
       "      <td>49982</td>\n",
       "      <td>46966</td>\n",
       "      <td>Al-Jazair/Algérie</td>\n",
       "      <td>Republic</td>\n",
       "      <td>Abdelaziz Bouteflika</td>\n",
       "      <td>35</td>\n",
       "      <td>DZ</td>\n",
       "    </tr>\n",
       "  </tbody>\n",
       "</table>\n",
       "</div>"
      ],
      "text/plain": [
       "  code                  name      continent                     region  \\\n",
       "0  AFG           Afghanistan           Asia  Southern and Central Asia   \n",
       "1  NLD           Netherlands         Europe             Western Europe   \n",
       "2  ANT  Netherlands Antilles  North America                  Caribbean   \n",
       "3  ALB               Albania         Europe            Southern Europe   \n",
       "4  DZA               Algeria         Africa            Northern Africa   \n",
       "\n",
       "   surfacearea  indepyear  population  lifeexpectancy     gnp  gnpold  \\\n",
       "0       652090       1919    22720000            45.9    5976     NaN   \n",
       "1        41526       1581    15864000            78.3  371362  360478   \n",
       "2          800        NaN      217000            74.7    1941     NaN   \n",
       "3        28748       1912     3401200            71.6    3205    2500   \n",
       "4      2381740       1962    31471000            69.7   49982   46966   \n",
       "\n",
       "               localname                                governmentform  \\\n",
       "0  Afganistan/Afqanestan                               Islamic Emirate   \n",
       "1              Nederland                       Constitutional Monarchy   \n",
       "2   Nederlandse Antillen  Nonmetropolitan Territory of The Netherlands   \n",
       "3              Shqipëria                                      Republic   \n",
       "4     Al-Jazair/Algérie                                      Republic   \n",
       "\n",
       "            headofstate  capital code2  \n",
       "0         Mohammad Omar        1    AF  \n",
       "1               Beatrix        5    NL  \n",
       "2               Beatrix       33    AN  \n",
       "3        Rexhep Mejdani       34    AL  \n",
       "4  Abdelaziz Bouteflika       35    DZ  "
      ]
     },
     "execution_count": 30,
     "metadata": {},
     "output_type": "execute_result"
    }
   ],
   "source": [
    "country.head()"
   ]
  },
  {
   "cell_type": "code",
   "execution_count": 31,
   "metadata": {
    "collapsed": false
   },
   "outputs": [
    {
     "data": {
      "text/html": [
       "<div>\n",
       "<table border=\"1\" class=\"dataframe\">\n",
       "  <thead>\n",
       "    <tr style=\"text-align: right;\">\n",
       "      <th></th>\n",
       "      <th>id</th>\n",
       "      <th>cname</th>\n",
       "      <th>countrycode</th>\n",
       "      <th>district</th>\n",
       "      <th>pop</th>\n",
       "    </tr>\n",
       "  </thead>\n",
       "  <tbody>\n",
       "    <tr>\n",
       "      <th>0</th>\n",
       "      <td>1</td>\n",
       "      <td>Kabul</td>\n",
       "      <td>AFG</td>\n",
       "      <td>Kabol</td>\n",
       "      <td>1780000</td>\n",
       "    </tr>\n",
       "    <tr>\n",
       "      <th>1</th>\n",
       "      <td>2</td>\n",
       "      <td>Qandahar</td>\n",
       "      <td>AFG</td>\n",
       "      <td>Qandahar</td>\n",
       "      <td>237500</td>\n",
       "    </tr>\n",
       "    <tr>\n",
       "      <th>2</th>\n",
       "      <td>3</td>\n",
       "      <td>Herat</td>\n",
       "      <td>AFG</td>\n",
       "      <td>Herat</td>\n",
       "      <td>186800</td>\n",
       "    </tr>\n",
       "    <tr>\n",
       "      <th>3</th>\n",
       "      <td>4</td>\n",
       "      <td>Mazar-e-Sharif</td>\n",
       "      <td>AFG</td>\n",
       "      <td>Balkh</td>\n",
       "      <td>127800</td>\n",
       "    </tr>\n",
       "    <tr>\n",
       "      <th>4</th>\n",
       "      <td>5</td>\n",
       "      <td>Amsterdam</td>\n",
       "      <td>NLD</td>\n",
       "      <td>Noord-Holland</td>\n",
       "      <td>731200</td>\n",
       "    </tr>\n",
       "  </tbody>\n",
       "</table>\n",
       "</div>"
      ],
      "text/plain": [
       "  id           cname countrycode       district      pop\n",
       "0  1           Kabul         AFG          Kabol  1780000\n",
       "1  2        Qandahar         AFG       Qandahar   237500\n",
       "2  3           Herat         AFG          Herat   186800\n",
       "3  4  Mazar-e-Sharif         AFG          Balkh   127800\n",
       "4  5       Amsterdam         NLD  Noord-Holland   731200"
      ]
     },
     "execution_count": 31,
     "metadata": {},
     "output_type": "execute_result"
    }
   ],
   "source": [
    "city.rename('name','cname').rename('population','pop').head()"
   ]
  },
  {
   "cell_type": "markdown",
   "metadata": {},
   "source": [
    "Now lets select the cities in Norway"
   ]
  },
  {
   "cell_type": "code",
   "execution_count": 38,
   "metadata": {
    "collapsed": false
   },
   "outputs": [
    {
     "data": {
      "text/html": [
       "<div>\n",
       "<table border=\"1\" class=\"dataframe\">\n",
       "  <thead>\n",
       "    <tr style=\"text-align: right;\">\n",
       "      <th></th>\n",
       "      <th>cname</th>\n",
       "      <th>name</th>\n",
       "      <th>countrycode</th>\n",
       "    </tr>\n",
       "  </thead>\n",
       "  <tbody>\n",
       "    <tr>\n",
       "      <th>0</th>\n",
       "      <td>Oslo</td>\n",
       "      <td>Norway</td>\n",
       "      <td>NOR</td>\n",
       "    </tr>\n",
       "    <tr>\n",
       "      <th>1</th>\n",
       "      <td>Bergen</td>\n",
       "      <td>Norway</td>\n",
       "      <td>NOR</td>\n",
       "    </tr>\n",
       "    <tr>\n",
       "      <th>2</th>\n",
       "      <td>Trondheim</td>\n",
       "      <td>Norway</td>\n",
       "      <td>NOR</td>\n",
       "    </tr>\n",
       "    <tr>\n",
       "      <th>3</th>\n",
       "      <td>Stavanger</td>\n",
       "      <td>Norway</td>\n",
       "      <td>NOR</td>\n",
       "    </tr>\n",
       "    <tr>\n",
       "      <th>4</th>\n",
       "      <td>Bærum</td>\n",
       "      <td>Norway</td>\n",
       "      <td>NOR</td>\n",
       "    </tr>\n",
       "  </tbody>\n",
       "</table>\n",
       "</div>"
      ],
      "text/plain": [
       "       cname    name countrycode\n",
       "0       Oslo  Norway         NOR\n",
       "1     Bergen  Norway         NOR\n",
       "2  Trondheim  Norway         NOR\n",
       "3  Stavanger  Norway         NOR\n",
       "4      Bærum  Norway         NOR"
      ]
     },
     "execution_count": 38,
     "metadata": {},
     "output_type": "execute_result"
    }
   ],
   "source": [
    "city.rename('name','cname').rename('population','pop').njoin(country.rename('code','countrycode').query(\"name == 'Norway'\")).\\\n",
    "    project(['cname','name','countrycode'])\n"
   ]
  },
  {
   "cell_type": "markdown",
   "metadata": {},
   "source": [
    "In SQL there is no way to rename the columns on the fly, but we do have a more general join operator we can use to do the above query as follows:\n",
    "\n"
   ]
  },
  {
   "cell_type": "code",
   "execution_count": 39,
   "metadata": {
    "collapsed": false
   },
   "outputs": [
    {
     "data": {
      "text/plain": [
       "'Connected: millbr02@world'"
      ]
     },
     "execution_count": 39,
     "metadata": {},
     "output_type": "execute_result"
    }
   ],
   "source": [
    "%sql postgresql://millbr02:@localhost/world"
   ]
  },
  {
   "cell_type": "code",
   "execution_count": 42,
   "metadata": {
    "collapsed": false
   },
   "outputs": [
    {
     "name": "stdout",
     "output_type": "stream",
     "text": [
      "5 rows affected.\n"
     ]
    },
    {
     "data": {
      "text/html": [
       "<table>\n",
       "    <tr>\n",
       "        <th>name</th>\n",
       "        <th>name_1</th>\n",
       "        <th>countrycode</th>\n",
       "    </tr>\n",
       "    <tr>\n",
       "        <td>Oslo</td>\n",
       "        <td>Norway</td>\n",
       "        <td>NOR</td>\n",
       "    </tr>\n",
       "    <tr>\n",
       "        <td>Bergen</td>\n",
       "        <td>Norway</td>\n",
       "        <td>NOR</td>\n",
       "    </tr>\n",
       "    <tr>\n",
       "        <td>Trondheim</td>\n",
       "        <td>Norway</td>\n",
       "        <td>NOR</td>\n",
       "    </tr>\n",
       "    <tr>\n",
       "        <td>Stavanger</td>\n",
       "        <td>Norway</td>\n",
       "        <td>NOR</td>\n",
       "    </tr>\n",
       "    <tr>\n",
       "        <td>Bærum</td>\n",
       "        <td>Norway</td>\n",
       "        <td>NOR</td>\n",
       "    </tr>\n",
       "</table>"
      ],
      "text/plain": [
       "[('Oslo', 'Norway', 'NOR'),\n",
       " ('Bergen', 'Norway', 'NOR'),\n",
       " ('Trondheim', 'Norway', 'NOR'),\n",
       " ('Stavanger', 'Norway', 'NOR'),\n",
       " ('Bærum', 'Norway', 'NOR')]"
      ]
     },
     "execution_count": 42,
     "metadata": {},
     "output_type": "execute_result"
    }
   ],
   "source": [
    "%%sql\n",
    "\n",
    "select city.name, country.name, countrycode\n",
    "from city join country on code = countrycode\n",
    "where country.name = 'Norway'"
   ]
  },
  {
   "cell_type": "markdown",
   "metadata": {},
   "source": [
    "The natural join operator works very well on the movie database as it has two columns with the same name in both the moviecast table and the release_date table.\n",
    "\n",
    "Lets look at using natural join to find the names of all of the lead actors in the  movies released in october of 2015 in Norway."
   ]
  },
  {
   "cell_type": "code",
   "execution_count": 43,
   "metadata": {
    "collapsed": false
   },
   "outputs": [
    {
     "data": {
      "text/plain": [
       "'Connected: millbr02@movies'"
      ]
     },
     "execution_count": 43,
     "metadata": {},
     "output_type": "execute_result"
    }
   ],
   "source": [
    "%sql postgresql://millbr02:@localhost/movies"
   ]
  },
  {
   "cell_type": "code",
   "execution_count": 46,
   "metadata": {
    "collapsed": false
   },
   "outputs": [
    {
     "name": "stdout",
     "output_type": "stream",
     "text": [
      "15 rows affected.\n"
     ]
    },
    {
     "data": {
      "text/html": [
       "<table>\n",
       "    <tr>\n",
       "        <th>title</th>\n",
       "        <th>name</th>\n",
       "        <th>date</th>\n",
       "    </tr>\n",
       "    <tr>\n",
       "        <td>The Martian</td>\n",
       "        <td>Matt Damon</td>\n",
       "        <td>2015-10-02 00:00:00</td>\n",
       "    </tr>\n",
       "    <tr>\n",
       "        <td>The Intern</td>\n",
       "        <td>Robert De Niro</td>\n",
       "        <td>2015-10-02 00:00:00</td>\n",
       "    </tr>\n",
       "    <tr>\n",
       "        <td>Pan</td>\n",
       "        <td>Hugh Jackman</td>\n",
       "        <td>2015-10-07 00:00:00</td>\n",
       "    </tr>\n",
       "    <tr>\n",
       "        <td>The Walk (II)</td>\n",
       "        <td>Joseph Gordon-Levitt</td>\n",
       "        <td>2015-10-09 00:00:00</td>\n",
       "    </tr>\n",
       "    <tr>\n",
       "        <td>Klovn Forever</td>\n",
       "        <td>Casper Christensen</td>\n",
       "        <td>2015-10-09 00:00:00</td>\n",
       "    </tr>\n",
       "    <tr>\n",
       "        <td>Rudhramadevi</td>\n",
       "        <td>Anushka Shetty</td>\n",
       "        <td>2015-10-09 00:00:00</td>\n",
       "    </tr>\n",
       "    <tr>\n",
       "        <td>The Transporter Refueled</td>\n",
       "        <td>Ed Skrein</td>\n",
       "        <td>2015-10-09 00:00:00</td>\n",
       "    </tr>\n",
       "    <tr>\n",
       "        <td>Crimson Peak</td>\n",
       "        <td>Mia Wasikowska</td>\n",
       "        <td>2015-10-16 00:00:00</td>\n",
       "    </tr>\n",
       "    <tr>\n",
       "        <td>Legend</td>\n",
       "        <td>Paul (XVIII) Anderson</td>\n",
       "        <td>2015-10-16 00:00:00</td>\n",
       "    </tr>\n",
       "    <tr>\n",
       "        <td>Black Mass</td>\n",
       "        <td>Johnny Depp</td>\n",
       "        <td>2015-10-23 00:00:00</td>\n",
       "    </tr>\n",
       "    <tr>\n",
       "        <td>Paranormal Activity: The Ghost Dimension</td>\n",
       "        <td>Chris J. Murray</td>\n",
       "        <td>2015-10-23 00:00:00</td>\n",
       "    </tr>\n",
       "    <tr>\n",
       "        <td>Mia madre</td>\n",
       "        <td>Margherita Buy</td>\n",
       "        <td>2015-10-23 00:00:00</td>\n",
       "    </tr>\n",
       "    <tr>\n",
       "        <td>Scouts Guide to the Zombie Apocalypse</td>\n",
       "        <td>Tye Sheridan</td>\n",
       "        <td>2015-10-30 00:00:00</td>\n",
       "    </tr>\n",
       "    <tr>\n",
       "        <td>Spectre</td>\n",
       "        <td>Solomon Taiwo Justified</td>\n",
       "        <td>2015-10-30 00:00:00</td>\n",
       "    </tr>\n",
       "    <tr>\n",
       "        <td>Hotel Transylvania 2</td>\n",
       "        <td>Adam Sandler</td>\n",
       "        <td>2015-10-30 00:00:00</td>\n",
       "    </tr>\n",
       "</table>"
      ],
      "text/plain": [
       "[('The Martian', 'Matt Damon', datetime.datetime(2015, 10, 2, 0, 0)),\n",
       " ('The Intern', 'Robert De Niro', datetime.datetime(2015, 10, 2, 0, 0)),\n",
       " ('Pan', 'Hugh Jackman', datetime.datetime(2015, 10, 7, 0, 0)),\n",
       " ('The Walk (II)', 'Joseph Gordon-Levitt', datetime.datetime(2015, 10, 9, 0, 0)),\n",
       " ('Klovn Forever', 'Casper Christensen', datetime.datetime(2015, 10, 9, 0, 0)),\n",
       " ('Rudhramadevi', 'Anushka Shetty', datetime.datetime(2015, 10, 9, 0, 0)),\n",
       " ('The Transporter Refueled', 'Ed Skrein', datetime.datetime(2015, 10, 9, 0, 0)),\n",
       " ('Crimson Peak', 'Mia Wasikowska', datetime.datetime(2015, 10, 16, 0, 0)),\n",
       " ('Legend', 'Paul (XVIII) Anderson', datetime.datetime(2015, 10, 16, 0, 0)),\n",
       " ('Black Mass', 'Johnny Depp', datetime.datetime(2015, 10, 23, 0, 0)),\n",
       " ('Paranormal Activity: The Ghost Dimension', 'Chris J. Murray', datetime.datetime(2015, 10, 23, 0, 0)),\n",
       " ('Mia madre', 'Margherita Buy', datetime.datetime(2015, 10, 23, 0, 0)),\n",
       " ('Scouts Guide to the Zombie Apocalypse', 'Tye Sheridan', datetime.datetime(2015, 10, 30, 0, 0)),\n",
       " ('Spectre', 'Solomon Taiwo Justified', datetime.datetime(2015, 10, 30, 0, 0)),\n",
       " ('Hotel Transylvania 2', 'Adam Sandler', datetime.datetime(2015, 10, 30, 0, 0))]"
      ]
     },
     "execution_count": 46,
     "metadata": {},
     "output_type": "execute_result"
    }
   ],
   "source": [
    "%%sql\n",
    "\n",
    "select title, name, date\n",
    "from moviecast natural join release_date\n",
    "where month = 10 and year = 2015 and country = 'Norway' and n = 1\n",
    "order by date"
   ]
  },
  {
   "cell_type": "code",
   "execution_count": 47,
   "metadata": {
    "collapsed": true
   },
   "outputs": [],
   "source": [
    "moviecast = Relation('/home/faculty/millbr02/pub/cast.csv',sep=',')\n",
    "release_date = Relation('/home/faculty/millbr02/pub/release_dates.csv',sep=',')"
   ]
  },
  {
   "cell_type": "markdown",
   "metadata": {},
   "source": [
    "There are a couple of things to notice and think about."
   ]
  },
  {
   "cell_type": "code",
   "execution_count": 51,
   "metadata": {
    "collapsed": false
   },
   "outputs": [
    {
     "data": {
      "text/html": [
       "<div>\n",
       "<table border=\"1\" class=\"dataframe\">\n",
       "  <thead>\n",
       "    <tr style=\"text-align: right;\">\n",
       "      <th></th>\n",
       "      <th>title</th>\n",
       "      <th>name</th>\n",
       "      <th>date</th>\n",
       "    </tr>\n",
       "  </thead>\n",
       "  <tbody>\n",
       "    <tr>\n",
       "      <th>2</th>\n",
       "      <td>The Martian</td>\n",
       "      <td>Matt Damon</td>\n",
       "      <td>2015-10-02</td>\n",
       "    </tr>\n",
       "    <tr>\n",
       "      <th>3</th>\n",
       "      <td>The Intern</td>\n",
       "      <td>Robert De Niro</td>\n",
       "      <td>2015-10-02</td>\n",
       "    </tr>\n",
       "    <tr>\n",
       "      <th>6</th>\n",
       "      <td>Pan</td>\n",
       "      <td>Hugh Jackman</td>\n",
       "      <td>2015-10-07</td>\n",
       "    </tr>\n",
       "    <tr>\n",
       "      <th>1</th>\n",
       "      <td>Klovn Forever</td>\n",
       "      <td>Casper Christensen</td>\n",
       "      <td>2015-10-09</td>\n",
       "    </tr>\n",
       "    <tr>\n",
       "      <th>5</th>\n",
       "      <td>The Walk (II)</td>\n",
       "      <td>Joseph Gordon-Levitt</td>\n",
       "      <td>2015-10-09</td>\n",
       "    </tr>\n",
       "    <tr>\n",
       "      <th>11</th>\n",
       "      <td>The Transporter Refueled</td>\n",
       "      <td>Ed Skrein</td>\n",
       "      <td>2015-10-09</td>\n",
       "    </tr>\n",
       "    <tr>\n",
       "      <th>13</th>\n",
       "      <td>Rudhramadevi</td>\n",
       "      <td>Anushka Shetty</td>\n",
       "      <td>2015-10-09</td>\n",
       "    </tr>\n",
       "    <tr>\n",
       "      <th>0</th>\n",
       "      <td>Legend</td>\n",
       "      <td>Paul (XVIII) Anderson</td>\n",
       "      <td>2015-10-16</td>\n",
       "    </tr>\n",
       "    <tr>\n",
       "      <th>14</th>\n",
       "      <td>Crimson Peak</td>\n",
       "      <td>Mia Wasikowska</td>\n",
       "      <td>2015-10-16</td>\n",
       "    </tr>\n",
       "    <tr>\n",
       "      <th>4</th>\n",
       "      <td>Black Mass</td>\n",
       "      <td>Johnny Depp</td>\n",
       "      <td>2015-10-23</td>\n",
       "    </tr>\n",
       "    <tr>\n",
       "      <th>8</th>\n",
       "      <td>Paranormal Activity: The Ghost Dimension</td>\n",
       "      <td>Chris J. Murray</td>\n",
       "      <td>2015-10-23</td>\n",
       "    </tr>\n",
       "    <tr>\n",
       "      <th>12</th>\n",
       "      <td>Mia madre</td>\n",
       "      <td>Margherita Buy</td>\n",
       "      <td>2015-10-23</td>\n",
       "    </tr>\n",
       "    <tr>\n",
       "      <th>7</th>\n",
       "      <td>Spectre</td>\n",
       "      <td>Solomon Taiwo Justified</td>\n",
       "      <td>2015-10-30</td>\n",
       "    </tr>\n",
       "    <tr>\n",
       "      <th>9</th>\n",
       "      <td>Hotel Transylvania 2</td>\n",
       "      <td>Adam Sandler</td>\n",
       "      <td>2015-10-30</td>\n",
       "    </tr>\n",
       "    <tr>\n",
       "      <th>10</th>\n",
       "      <td>Scouts Guide to the Zombie Apocalypse</td>\n",
       "      <td>Tye Sheridan</td>\n",
       "      <td>2015-10-30</td>\n",
       "    </tr>\n",
       "  </tbody>\n",
       "</table>\n",
       "</div>"
      ],
      "text/plain": [
       "                                       title                     name  \\\n",
       "2                                The Martian               Matt Damon   \n",
       "3                                 The Intern           Robert De Niro   \n",
       "6                                        Pan             Hugh Jackman   \n",
       "1                              Klovn Forever       Casper Christensen   \n",
       "5                              The Walk (II)     Joseph Gordon-Levitt   \n",
       "11                  The Transporter Refueled                Ed Skrein   \n",
       "13                              Rudhramadevi           Anushka Shetty   \n",
       "0                                     Legend    Paul (XVIII) Anderson   \n",
       "14                              Crimson Peak           Mia Wasikowska   \n",
       "4                                 Black Mass              Johnny Depp   \n",
       "8   Paranormal Activity: The Ghost Dimension          Chris J. Murray   \n",
       "12                                 Mia madre           Margherita Buy   \n",
       "7                                    Spectre  Solomon Taiwo Justified   \n",
       "9                       Hotel Transylvania 2             Adam Sandler   \n",
       "10     Scouts Guide to the Zombie Apocalypse             Tye Sheridan   \n",
       "\n",
       "          date  \n",
       "2   2015-10-02  \n",
       "3   2015-10-02  \n",
       "6   2015-10-07  \n",
       "1   2015-10-09  \n",
       "5   2015-10-09  \n",
       "11  2015-10-09  \n",
       "13  2015-10-09  \n",
       "0   2015-10-16  \n",
       "14  2015-10-16  \n",
       "4   2015-10-23  \n",
       "8   2015-10-23  \n",
       "12  2015-10-23  \n",
       "7   2015-10-30  \n",
       "9   2015-10-30  \n",
       "10  2015-10-30  "
      ]
     },
     "execution_count": 51,
     "metadata": {},
     "output_type": "execute_result"
    }
   ],
   "source": [
    "moviecast.query(\"n == 1\").njoin(release_date.query(\"month == 10 & year == 2015 & country == 'Norway'\")).project(['title','name','date']).sort(['date'])"
   ]
  },
  {
   "cell_type": "code",
   "execution_count": 53,
   "metadata": {
    "collapsed": false
   },
   "outputs": [
    {
     "data": {
      "text/html": [
       "<div>\n",
       "<table border=\"1\" class=\"dataframe\">\n",
       "  <thead>\n",
       "    <tr style=\"text-align: right;\">\n",
       "      <th></th>\n",
       "      <th>title</th>\n",
       "      <th>name</th>\n",
       "      <th>date</th>\n",
       "    </tr>\n",
       "  </thead>\n",
       "  <tbody>\n",
       "    <tr>\n",
       "      <th>13501247</th>\n",
       "      <td>The Intern</td>\n",
       "      <td>Robert De Niro</td>\n",
       "      <td>2015-10-02</td>\n",
       "    </tr>\n",
       "    <tr>\n",
       "      <th>13924371</th>\n",
       "      <td>The Martian</td>\n",
       "      <td>Matt Damon</td>\n",
       "      <td>2015-10-02</td>\n",
       "    </tr>\n",
       "    <tr>\n",
       "      <th>9242941</th>\n",
       "      <td>Pan</td>\n",
       "      <td>Hugh Jackman</td>\n",
       "      <td>2015-10-07</td>\n",
       "    </tr>\n",
       "    <tr>\n",
       "      <th>6707245</th>\n",
       "      <td>Klovn Forever</td>\n",
       "      <td>Casper Christensen</td>\n",
       "      <td>2015-10-09</td>\n",
       "    </tr>\n",
       "    <tr>\n",
       "      <th>10336246</th>\n",
       "      <td>Rudhramadevi</td>\n",
       "      <td>Anushka Shetty</td>\n",
       "      <td>2015-10-09</td>\n",
       "    </tr>\n",
       "    <tr>\n",
       "      <th>14850153</th>\n",
       "      <td>The Transporter Refueled</td>\n",
       "      <td>Ed Skrein</td>\n",
       "      <td>2015-10-09</td>\n",
       "    </tr>\n",
       "    <tr>\n",
       "      <th>14941867</th>\n",
       "      <td>The Walk (II)</td>\n",
       "      <td>Joseph Gordon-Levitt</td>\n",
       "      <td>2015-10-09</td>\n",
       "    </tr>\n",
       "    <tr>\n",
       "      <th>2850250</th>\n",
       "      <td>Crimson Peak</td>\n",
       "      <td>Mia Wasikowska</td>\n",
       "      <td>2015-10-16</td>\n",
       "    </tr>\n",
       "    <tr>\n",
       "      <th>7187906</th>\n",
       "      <td>Legend</td>\n",
       "      <td>Paul (XVIII) Anderson</td>\n",
       "      <td>2015-10-16</td>\n",
       "    </tr>\n",
       "    <tr>\n",
       "      <th>1699579</th>\n",
       "      <td>Black Mass</td>\n",
       "      <td>Johnny Depp</td>\n",
       "      <td>2015-10-23</td>\n",
       "    </tr>\n",
       "    <tr>\n",
       "      <th>8050948</th>\n",
       "      <td>Mia madre</td>\n",
       "      <td>Margherita Buy</td>\n",
       "      <td>2015-10-23</td>\n",
       "    </tr>\n",
       "    <tr>\n",
       "      <th>9291999</th>\n",
       "      <td>Paranormal Activity: The Ghost Dimension</td>\n",
       "      <td>Chris J. Murray</td>\n",
       "      <td>2015-10-23</td>\n",
       "    </tr>\n",
       "    <tr>\n",
       "      <th>5577037</th>\n",
       "      <td>Hotel Transylvania 2</td>\n",
       "      <td>Adam Sandler</td>\n",
       "      <td>2015-10-30</td>\n",
       "    </tr>\n",
       "    <tr>\n",
       "      <th>10636360</th>\n",
       "      <td>Scouts Guide to the Zombie Apocalypse</td>\n",
       "      <td>Tye Sheridan</td>\n",
       "      <td>2015-10-30</td>\n",
       "    </tr>\n",
       "    <tr>\n",
       "      <th>11316368</th>\n",
       "      <td>Spectre</td>\n",
       "      <td>Solomon Taiwo Justified</td>\n",
       "      <td>2015-10-30</td>\n",
       "    </tr>\n",
       "  </tbody>\n",
       "</table>\n",
       "</div>"
      ],
      "text/plain": [
       "                                             title                     name  \\\n",
       "13501247                                The Intern           Robert De Niro   \n",
       "13924371                               The Martian               Matt Damon   \n",
       "9242941                                        Pan             Hugh Jackman   \n",
       "6707245                              Klovn Forever       Casper Christensen   \n",
       "10336246                              Rudhramadevi           Anushka Shetty   \n",
       "14850153                  The Transporter Refueled                Ed Skrein   \n",
       "14941867                             The Walk (II)     Joseph Gordon-Levitt   \n",
       "2850250                               Crimson Peak           Mia Wasikowska   \n",
       "7187906                                     Legend    Paul (XVIII) Anderson   \n",
       "1699579                                 Black Mass              Johnny Depp   \n",
       "8050948                                  Mia madre           Margherita Buy   \n",
       "9291999   Paranormal Activity: The Ghost Dimension          Chris J. Murray   \n",
       "5577037                       Hotel Transylvania 2             Adam Sandler   \n",
       "10636360     Scouts Guide to the Zombie Apocalypse             Tye Sheridan   \n",
       "11316368                                   Spectre  Solomon Taiwo Justified   \n",
       "\n",
       "                date  \n",
       "13501247  2015-10-02  \n",
       "13924371  2015-10-02  \n",
       "9242941   2015-10-07  \n",
       "6707245   2015-10-09  \n",
       "10336246  2015-10-09  \n",
       "14850153  2015-10-09  \n",
       "14941867  2015-10-09  \n",
       "2850250   2015-10-16  \n",
       "7187906   2015-10-16  \n",
       "1699579   2015-10-23  \n",
       "8050948   2015-10-23  \n",
       "9291999   2015-10-23  \n",
       "5577037   2015-10-30  \n",
       "10636360  2015-10-30  \n",
       "11316368  2015-10-30  "
      ]
     },
     "execution_count": 53,
     "metadata": {},
     "output_type": "execute_result"
    }
   ],
   "source": [
    "release_date.njoin(moviecast).query(\"month == 10 & year == 2015 & country == 'Norway' & n == 1\").project(['title','name','date']).sort(['date'])"
   ]
  },
  {
   "cell_type": "code",
   "execution_count": null,
   "metadata": {
    "collapsed": true
   },
   "outputs": [],
   "source": []
  }
 ],
 "metadata": {
  "kernelspec": {
   "display_name": "Python 3",
   "language": "python",
   "name": "python3"
  },
  "language_info": {
   "codemirror_mode": {
    "name": "ipython",
    "version": 3
   },
   "file_extension": ".py",
   "mimetype": "text/x-python",
   "name": "python",
   "nbconvert_exporter": "python",
   "pygments_lexer": "ipython3",
   "version": "3.4.3"
  }
 },
 "nbformat": 4,
 "nbformat_minor": 0
}
