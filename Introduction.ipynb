{
 "cells": [
  {
   "cell_type": "code",
   "execution_count": 2,
   "metadata": {
    "collapsed": false,
    "slideshow": {
     "slide_type": "skip"
    }
   },
   "outputs": [],
   "source": [
    "from notebook.services.config import ConfigManager\n",
    "cm = ConfigManager()\n",
    "cm.update('livereveal', {\n",
    "              'theme': 'solarized',\n",
    "              'transition': 'zoom',\n",
    "              'start_slideshow_at': 'selected',\n",
    "})\n",
    "\n",
    "import warnings\n",
    "warnings.filterwarnings('ignore')"
   ]
  },
  {
   "cell_type": "markdown",
   "metadata": {
    "slideshow": {
     "slide_type": "slide"
    }
   },
   "source": [
    "# CS-140 Data Modeling and Querying\n",
    "![exploits_of_a_mom.png](exploits_of_a_mom.png)"
   ]
  },
  {
   "cell_type": "markdown",
   "metadata": {
    "slideshow": {
     "slide_type": "slide"
    }
   },
   "source": [
    "## Administrivia\n",
    "\n",
    "* Office Hours:  Olin 321\n",
    "* Contact:  ``bmiller@luther.edu``   or   on google talk ``millbr02``   or tweet me:  ``bnmnetp``\n",
    "* Grading\n",
    "\n",
    "  * Homework\n",
    "  * Two exams - mid-term and final - maybe some quizzes\n",
    "  * Participation\n",
    "  \n",
    "* Note:  This is the first time we are offering this class.  Be Flexible\n",
    "* All my Class Notes and Examples will be available online"
   ]
  },
  {
   "cell_type": "markdown",
   "metadata": {
    "slideshow": {
     "slide_type": "slide"
    }
   },
   "source": [
    "## A (sort of) Schedule for the course\n",
    "\n",
    "![](CourseApproach.png)\n",
    "\n"
   ]
  },
  {
   "cell_type": "markdown",
   "metadata": {
    "slideshow": {
     "slide_type": "slide"
    }
   },
   "source": [
    "## A (sort of) Schedule for the course\n",
    "\n",
    "\n",
    "1. Week of Oct 26 -- Intro and Overview Single Relation Operations\n",
    "2. Week of Nov 2 -- Modeling Single Relations and DDL and grouping and aggregating\n",
    "3. Week of Nov 9 -- Modelling One to Many Relations\n",
    "4. Week of Nov 16 -- Two table Joins\n",
    "5. Week of Nov 23 -- Thanksgiving Vacation Wed-Fri\n",
    "6. Week of Nov 30 -- Modelling Many to Many Relations\n",
    "7. Week of Dec 7 -- Multiple Table Joins\n",
    "\n"
   ]
  },
  {
   "cell_type": "markdown",
   "metadata": {
    "slideshow": {
     "slide_type": "slide"
    }
   },
   "source": [
    "## Goals for the course\n",
    "\n",
    "* Learn how to turn data into information\n",
    "* Introduce Data Modeling\n",
    "* Understand the theoretical ideas of Relations and Relational Algebra\n",
    "* Learn the practical skill of writing queries in SQL\n"
   ]
  },
  {
   "cell_type": "markdown",
   "metadata": {
    "slideshow": {
     "slide_type": "slide"
    }
   },
   "source": [
    "### Turning data into information\n",
    "\n",
    "* At the heart of the big data revolution\n",
    "* A very liberal arts thing to do -- Requires problem solving, **and** communication\n",
    "* Requires more than just a passing skill at querying the database"
   ]
  },
  {
   "cell_type": "markdown",
   "metadata": {
    "slideshow": {
     "slide_type": "slide"
    }
   },
   "source": [
    "### Introduce Data Modeling\n",
    "\n",
    "* Key tool for communication\n",
    "* Describes the **schema** of the data -- the type or kinds of data, not the data itself\n",
    "![country_lds.png](country.png)\n",
    "\n"
   ]
  },
  {
   "cell_type": "markdown",
   "metadata": {
    "slideshow": {
     "slide_type": "subslide"
    }
   },
   "source": [
    "* Describes relationships between things\n",
    "\n",
    "![city_.png](country_city.png)\n",
    "\n",
    " "
   ]
  },
  {
   "cell_type": "markdown",
   "metadata": {
    "slideshow": {
     "slide_type": "slide"
    }
   },
   "source": [
    "### Relational Algebra\n",
    "\n",
    "#### Key Terms\n",
    "\n",
    "* Relation\n",
    "* Tuple\n",
    "* Operator\n",
    "\n",
    "  * The result of applying an operator to a relation is another relation"
   ]
  },
  {
   "cell_type": "markdown",
   "metadata": {
    "slideshow": {
     "slide_type": "slide"
    }
   },
   "source": [
    "### A Relation with country data"
   ]
  },
  {
   "cell_type": "code",
   "execution_count": 1,
   "metadata": {
    "collapsed": false,
    "slideshow": {
     "slide_type": "skip"
    }
   },
   "outputs": [],
   "source": [
    "from reframe import Relation\n",
    "    \n",
    "country = Relation('country.csv',sep='|')\n",
    "\n"
   ]
  },
  {
   "cell_type": "code",
   "execution_count": 2,
   "metadata": {
    "collapsed": false,
    "slideshow": {
     "slide_type": "fragment"
    }
   },
   "outputs": [
    {
     "data": {
      "text/html": [
       "<div>\n",
       "<table border=\"1\" class=\"dataframe\">\n",
       "  <thead>\n",
       "    <tr style=\"text-align: right;\">\n",
       "      <th></th>\n",
       "      <th>code</th>\n",
       "      <th>name</th>\n",
       "      <th>continent</th>\n",
       "      <th>region</th>\n",
       "      <th>surfacearea</th>\n",
       "      <th>indepyear</th>\n",
       "      <th>population</th>\n",
       "      <th>lifeexpectancy</th>\n",
       "      <th>gnp</th>\n",
       "      <th>gnpold</th>\n",
       "      <th>localname</th>\n",
       "      <th>governmentform</th>\n",
       "      <th>headofstate</th>\n",
       "      <th>capital</th>\n",
       "      <th>code2</th>\n",
       "    </tr>\n",
       "  </thead>\n",
       "  <tbody>\n",
       "    <tr>\n",
       "      <th>0</th>\n",
       "      <td>AFG</td>\n",
       "      <td>Afghanistan</td>\n",
       "      <td>Asia</td>\n",
       "      <td>Southern and Central Asia</td>\n",
       "      <td>652090</td>\n",
       "      <td>1919</td>\n",
       "      <td>22720000</td>\n",
       "      <td>45.9</td>\n",
       "      <td>5976</td>\n",
       "      <td>NaN</td>\n",
       "      <td>Afganistan/Afqanestan</td>\n",
       "      <td>Islamic Emirate</td>\n",
       "      <td>Mohammad Omar</td>\n",
       "      <td>1</td>\n",
       "      <td>AF</td>\n",
       "    </tr>\n",
       "    <tr>\n",
       "      <th>1</th>\n",
       "      <td>NLD</td>\n",
       "      <td>Netherlands</td>\n",
       "      <td>Europe</td>\n",
       "      <td>Western Europe</td>\n",
       "      <td>41526</td>\n",
       "      <td>1581</td>\n",
       "      <td>15864000</td>\n",
       "      <td>78.3</td>\n",
       "      <td>371362</td>\n",
       "      <td>360478</td>\n",
       "      <td>Nederland</td>\n",
       "      <td>Constitutional Monarchy</td>\n",
       "      <td>Beatrix</td>\n",
       "      <td>5</td>\n",
       "      <td>NL</td>\n",
       "    </tr>\n",
       "    <tr>\n",
       "      <th>2</th>\n",
       "      <td>ANT</td>\n",
       "      <td>Netherlands Antilles</td>\n",
       "      <td>North America</td>\n",
       "      <td>Caribbean</td>\n",
       "      <td>800</td>\n",
       "      <td>NaN</td>\n",
       "      <td>217000</td>\n",
       "      <td>74.7</td>\n",
       "      <td>1941</td>\n",
       "      <td>NaN</td>\n",
       "      <td>Nederlandse Antillen</td>\n",
       "      <td>Nonmetropolitan Territory of The Netherlands</td>\n",
       "      <td>Beatrix</td>\n",
       "      <td>33</td>\n",
       "      <td>AN</td>\n",
       "    </tr>\n",
       "    <tr>\n",
       "      <th>3</th>\n",
       "      <td>ALB</td>\n",
       "      <td>Albania</td>\n",
       "      <td>Europe</td>\n",
       "      <td>Southern Europe</td>\n",
       "      <td>28748</td>\n",
       "      <td>1912</td>\n",
       "      <td>3401200</td>\n",
       "      <td>71.6</td>\n",
       "      <td>3205</td>\n",
       "      <td>2500</td>\n",
       "      <td>Shqipëria</td>\n",
       "      <td>Republic</td>\n",
       "      <td>Rexhep Mejdani</td>\n",
       "      <td>34</td>\n",
       "      <td>AL</td>\n",
       "    </tr>\n",
       "    <tr>\n",
       "      <th>4</th>\n",
       "      <td>DZA</td>\n",
       "      <td>Algeria</td>\n",
       "      <td>Africa</td>\n",
       "      <td>Northern Africa</td>\n",
       "      <td>2381740</td>\n",
       "      <td>1962</td>\n",
       "      <td>31471000</td>\n",
       "      <td>69.7</td>\n",
       "      <td>49982</td>\n",
       "      <td>46966</td>\n",
       "      <td>Al-Jazair/Algérie</td>\n",
       "      <td>Republic</td>\n",
       "      <td>Abdelaziz Bouteflika</td>\n",
       "      <td>35</td>\n",
       "      <td>DZ</td>\n",
       "    </tr>\n",
       "  </tbody>\n",
       "</table>\n",
       "</div>"
      ],
      "text/plain": [
       "  code                  name      continent                     region  \\\n",
       "0  AFG           Afghanistan           Asia  Southern and Central Asia   \n",
       "1  NLD           Netherlands         Europe             Western Europe   \n",
       "2  ANT  Netherlands Antilles  North America                  Caribbean   \n",
       "3  ALB               Albania         Europe            Southern Europe   \n",
       "4  DZA               Algeria         Africa            Northern Africa   \n",
       "\n",
       "   surfacearea  indepyear  population  lifeexpectancy     gnp  gnpold  \\\n",
       "0       652090       1919    22720000            45.9    5976     NaN   \n",
       "1        41526       1581    15864000            78.3  371362  360478   \n",
       "2          800        NaN      217000            74.7    1941     NaN   \n",
       "3        28748       1912     3401200            71.6    3205    2500   \n",
       "4      2381740       1962    31471000            69.7   49982   46966   \n",
       "\n",
       "               localname                                governmentform  \\\n",
       "0  Afganistan/Afqanestan                               Islamic Emirate   \n",
       "1              Nederland                       Constitutional Monarchy   \n",
       "2   Nederlandse Antillen  Nonmetropolitan Territory of The Netherlands   \n",
       "3              Shqipëria                                      Republic   \n",
       "4     Al-Jazair/Algérie                                      Republic   \n",
       "\n",
       "            headofstate  capital code2  \n",
       "0         Mohammad Omar        1    AF  \n",
       "1               Beatrix        5    NL  \n",
       "2               Beatrix       33    AN  \n",
       "3        Rexhep Mejdani       34    AL  \n",
       "4  Abdelaziz Bouteflika       35    DZ  "
      ]
     },
     "execution_count": 2,
     "metadata": {},
     "output_type": "execute_result"
    }
   ],
   "source": [
    "country.head()"
   ]
  },
  {
   "cell_type": "markdown",
   "metadata": {
    "slideshow": {
     "slide_type": "slide"
    }
   },
   "source": [
    "### A Tuple\n",
    "\n",
    "* A Tuple is a single row/record of a relation"
   ]
  },
  {
   "cell_type": "code",
   "execution_count": 60,
   "metadata": {
    "collapsed": false,
    "slideshow": {
     "slide_type": "fragment"
    }
   },
   "outputs": [
    {
     "data": {
      "text/html": [
       "<div>\n",
       "<table border=\"1\" class=\"dataframe\">\n",
       "  <thead>\n",
       "    <tr style=\"text-align: right;\">\n",
       "      <th></th>\n",
       "      <th>code</th>\n",
       "      <th>name</th>\n",
       "      <th>continent</th>\n",
       "      <th>region</th>\n",
       "      <th>surfacearea</th>\n",
       "      <th>indepyear</th>\n",
       "      <th>population</th>\n",
       "      <th>lifeexpectancy</th>\n",
       "      <th>gnp</th>\n",
       "      <th>gnpold</th>\n",
       "      <th>localname</th>\n",
       "      <th>governmentform</th>\n",
       "      <th>headofstate</th>\n",
       "      <th>capital</th>\n",
       "      <th>code2</th>\n",
       "    </tr>\n",
       "  </thead>\n",
       "  <tbody>\n",
       "    <tr>\n",
       "      <th>0</th>\n",
       "      <td>AFG</td>\n",
       "      <td>Afghanistan</td>\n",
       "      <td>Asia</td>\n",
       "      <td>Southern and Central Asia</td>\n",
       "      <td>652090</td>\n",
       "      <td>1919</td>\n",
       "      <td>22720000</td>\n",
       "      <td>45.9</td>\n",
       "      <td>5976</td>\n",
       "      <td>NaN</td>\n",
       "      <td>Afganistan/Afqanestan</td>\n",
       "      <td>Islamic Emirate</td>\n",
       "      <td>Mohammad Omar</td>\n",
       "      <td>1</td>\n",
       "      <td>AF</td>\n",
       "    </tr>\n",
       "  </tbody>\n",
       "</table>\n",
       "</div>"
      ],
      "text/plain": [
       "  code         name continent                     region  surfacearea  \\\n",
       "0  AFG  Afghanistan      Asia  Southern and Central Asia       652090   \n",
       "\n",
       "   indepyear  population  lifeexpectancy   gnp  gnpold              localname  \\\n",
       "0       1919    22720000            45.9  5976     NaN  Afganistan/Afqanestan   \n",
       "\n",
       "    governmentform    headofstate  capital code2  \n",
       "0  Islamic Emirate  Mohammad Omar        1    AF  "
      ]
     },
     "execution_count": 60,
     "metadata": {},
     "output_type": "execute_result"
    }
   ],
   "source": [
    "country.head(1)"
   ]
  },
  {
   "cell_type": "markdown",
   "metadata": {
    "slideshow": {
     "slide_type": "slide"
    }
   },
   "source": [
    "## Relational Algebra:\n",
    "### project"
   ]
  },
  {
   "cell_type": "code",
   "execution_count": 3,
   "metadata": {
    "collapsed": false,
    "slideshow": {
     "slide_type": "fragment"
    }
   },
   "outputs": [
    {
     "data": {
      "text/html": [
       "<div>\n",
       "<table border=\"1\" class=\"dataframe\">\n",
       "  <thead>\n",
       "    <tr style=\"text-align: right;\">\n",
       "      <th></th>\n",
       "      <th>code</th>\n",
       "      <th>name</th>\n",
       "      <th>region</th>\n",
       "    </tr>\n",
       "  </thead>\n",
       "  <tbody>\n",
       "    <tr>\n",
       "      <th>0</th>\n",
       "      <td>AFG</td>\n",
       "      <td>Afghanistan</td>\n",
       "      <td>Southern and Central Asia</td>\n",
       "    </tr>\n",
       "    <tr>\n",
       "      <th>1</th>\n",
       "      <td>NLD</td>\n",
       "      <td>Netherlands</td>\n",
       "      <td>Western Europe</td>\n",
       "    </tr>\n",
       "    <tr>\n",
       "      <th>2</th>\n",
       "      <td>ANT</td>\n",
       "      <td>Netherlands Antilles</td>\n",
       "      <td>Caribbean</td>\n",
       "    </tr>\n",
       "    <tr>\n",
       "      <th>3</th>\n",
       "      <td>ALB</td>\n",
       "      <td>Albania</td>\n",
       "      <td>Southern Europe</td>\n",
       "    </tr>\n",
       "    <tr>\n",
       "      <th>4</th>\n",
       "      <td>DZA</td>\n",
       "      <td>Algeria</td>\n",
       "      <td>Northern Africa</td>\n",
       "    </tr>\n",
       "  </tbody>\n",
       "</table>\n",
       "</div>"
      ],
      "text/plain": [
       "  code                  name                     region\n",
       "0  AFG           Afghanistan  Southern and Central Asia\n",
       "1  NLD           Netherlands             Western Europe\n",
       "2  ANT  Netherlands Antilles                  Caribbean\n",
       "3  ALB               Albania            Southern Europe\n",
       "4  DZA               Algeria            Northern Africa"
      ]
     },
     "execution_count": 3,
     "metadata": {},
     "output_type": "execute_result"
    }
   ],
   "source": [
    "country.project(['code','name','region']).head()"
   ]
  },
  {
   "cell_type": "markdown",
   "metadata": {
    "slideshow": {
     "slide_type": "slide"
    }
   },
   "source": [
    "## Relational Algebra:\n",
    "\n",
    "### filter"
   ]
  },
  {
   "cell_type": "code",
   "execution_count": 4,
   "metadata": {
    "collapsed": false,
    "scrolled": true,
    "slideshow": {
     "slide_type": "fragment"
    }
   },
   "outputs": [
    {
     "data": {
      "text/html": [
       "<div>\n",
       "<table border=\"1\" class=\"dataframe\">\n",
       "  <thead>\n",
       "    <tr style=\"text-align: right;\">\n",
       "      <th></th>\n",
       "      <th>code</th>\n",
       "      <th>name</th>\n",
       "      <th>continent</th>\n",
       "      <th>region</th>\n",
       "      <th>surfacearea</th>\n",
       "      <th>indepyear</th>\n",
       "      <th>population</th>\n",
       "      <th>lifeexpectancy</th>\n",
       "      <th>gnp</th>\n",
       "      <th>gnpold</th>\n",
       "      <th>localname</th>\n",
       "      <th>governmentform</th>\n",
       "      <th>headofstate</th>\n",
       "      <th>capital</th>\n",
       "      <th>code2</th>\n",
       "    </tr>\n",
       "  </thead>\n",
       "  <tbody>\n",
       "    <tr>\n",
       "      <th>29</th>\n",
       "      <td>GBR</td>\n",
       "      <td>United Kingdom</td>\n",
       "      <td>Europe</td>\n",
       "      <td>British Islands</td>\n",
       "      <td>242900</td>\n",
       "      <td>1066</td>\n",
       "      <td>59623400</td>\n",
       "      <td>77.7</td>\n",
       "      <td>1378330</td>\n",
       "      <td>1296830</td>\n",
       "      <td>United Kingdom</td>\n",
       "      <td>Constitutional Monarchy</td>\n",
       "      <td>Elisabeth II</td>\n",
       "      <td>456</td>\n",
       "      <td>GB</td>\n",
       "    </tr>\n",
       "    <tr>\n",
       "      <th>48</th>\n",
       "      <td>ETH</td>\n",
       "      <td>Ethiopia</td>\n",
       "      <td>Africa</td>\n",
       "      <td>Eastern Africa</td>\n",
       "      <td>1104300</td>\n",
       "      <td>-1000</td>\n",
       "      <td>62565000</td>\n",
       "      <td>45.2</td>\n",
       "      <td>6353</td>\n",
       "      <td>6180</td>\n",
       "      <td>YeItyop´iya</td>\n",
       "      <td>Republic</td>\n",
       "      <td>Negasso Gidada</td>\n",
       "      <td>756</td>\n",
       "      <td>ET</td>\n",
       "    </tr>\n",
       "    <tr>\n",
       "      <th>81</th>\n",
       "      <td>JPN</td>\n",
       "      <td>Japan</td>\n",
       "      <td>Asia</td>\n",
       "      <td>Eastern Asia</td>\n",
       "      <td>377829</td>\n",
       "      <td>-660</td>\n",
       "      <td>126714000</td>\n",
       "      <td>80.7</td>\n",
       "      <td>3787042</td>\n",
       "      <td>4192638</td>\n",
       "      <td>Nihon/Nippon</td>\n",
       "      <td>Constitutional Monarchy</td>\n",
       "      <td>Akihito</td>\n",
       "      <td>1532</td>\n",
       "      <td>JP</td>\n",
       "    </tr>\n",
       "    <tr>\n",
       "      <th>93</th>\n",
       "      <td>CHN</td>\n",
       "      <td>China</td>\n",
       "      <td>Asia</td>\n",
       "      <td>Eastern Asia</td>\n",
       "      <td>9572900</td>\n",
       "      <td>-1523</td>\n",
       "      <td>1277558000</td>\n",
       "      <td>71.4</td>\n",
       "      <td>982268</td>\n",
       "      <td>917719</td>\n",
       "      <td>Zhongquo</td>\n",
       "      <td>People'sRepublic</td>\n",
       "      <td>Jiang Zemin</td>\n",
       "      <td>1891</td>\n",
       "      <td>CN</td>\n",
       "    </tr>\n",
       "    <tr>\n",
       "      <th>159</th>\n",
       "      <td>PRT</td>\n",
       "      <td>Portugal</td>\n",
       "      <td>Europe</td>\n",
       "      <td>Southern Europe</td>\n",
       "      <td>91982</td>\n",
       "      <td>1143</td>\n",
       "      <td>9997600</td>\n",
       "      <td>75.8</td>\n",
       "      <td>105954</td>\n",
       "      <td>102133</td>\n",
       "      <td>Portugal</td>\n",
       "      <td>Republic</td>\n",
       "      <td>Jorge Sampãio</td>\n",
       "      <td>2914</td>\n",
       "      <td>PT</td>\n",
       "    </tr>\n",
       "    <tr>\n",
       "      <th>164</th>\n",
       "      <td>FRA</td>\n",
       "      <td>France</td>\n",
       "      <td>Europe</td>\n",
       "      <td>Western Europe</td>\n",
       "      <td>551500</td>\n",
       "      <td>843</td>\n",
       "      <td>59225700</td>\n",
       "      <td>78.8</td>\n",
       "      <td>1424285</td>\n",
       "      <td>1392448</td>\n",
       "      <td>France</td>\n",
       "      <td>Republic</td>\n",
       "      <td>Jacques Chirac</td>\n",
       "      <td>2974</td>\n",
       "      <td>FR</td>\n",
       "    </tr>\n",
       "    <tr>\n",
       "      <th>170</th>\n",
       "      <td>SWE</td>\n",
       "      <td>Sweden</td>\n",
       "      <td>Europe</td>\n",
       "      <td>Nordic Countries</td>\n",
       "      <td>449964</td>\n",
       "      <td>836</td>\n",
       "      <td>8861400</td>\n",
       "      <td>79.6</td>\n",
       "      <td>226492</td>\n",
       "      <td>227757</td>\n",
       "      <td>Sverige</td>\n",
       "      <td>Constitutional Monarchy</td>\n",
       "      <td>Carl XVI Gustaf</td>\n",
       "      <td>3048</td>\n",
       "      <td>SE</td>\n",
       "    </tr>\n",
       "    <tr>\n",
       "      <th>180</th>\n",
       "      <td>SMR</td>\n",
       "      <td>San Marino</td>\n",
       "      <td>Europe</td>\n",
       "      <td>Southern Europe</td>\n",
       "      <td>61</td>\n",
       "      <td>885</td>\n",
       "      <td>27000</td>\n",
       "      <td>81.1</td>\n",
       "      <td>510</td>\n",
       "      <td>NaN</td>\n",
       "      <td>San Marino</td>\n",
       "      <td>Republic</td>\n",
       "      <td>NaN</td>\n",
       "      <td>3171</td>\n",
       "      <td>SM</td>\n",
       "    </tr>\n",
       "    <tr>\n",
       "      <th>200</th>\n",
       "      <td>DNK</td>\n",
       "      <td>Denmark</td>\n",
       "      <td>Europe</td>\n",
       "      <td>Nordic Countries</td>\n",
       "      <td>43094</td>\n",
       "      <td>800</td>\n",
       "      <td>5330000</td>\n",
       "      <td>76.5</td>\n",
       "      <td>174099</td>\n",
       "      <td>169264</td>\n",
       "      <td>Danmark</td>\n",
       "      <td>Constitutional Monarchy</td>\n",
       "      <td>Margrethe II</td>\n",
       "      <td>3315</td>\n",
       "      <td>DK</td>\n",
       "    </tr>\n",
       "  </tbody>\n",
       "</table>\n",
       "</div>"
      ],
      "text/plain": [
       "    code            name continent            region  surfacearea  indepyear  \\\n",
       "29   GBR  United Kingdom    Europe   British Islands       242900       1066   \n",
       "48   ETH        Ethiopia    Africa    Eastern Africa      1104300      -1000   \n",
       "81   JPN           Japan      Asia      Eastern Asia       377829       -660   \n",
       "93   CHN           China      Asia      Eastern Asia      9572900      -1523   \n",
       "159  PRT        Portugal    Europe   Southern Europe        91982       1143   \n",
       "164  FRA          France    Europe    Western Europe       551500        843   \n",
       "170  SWE          Sweden    Europe  Nordic Countries       449964        836   \n",
       "180  SMR      San Marino    Europe   Southern Europe           61        885   \n",
       "200  DNK         Denmark    Europe  Nordic Countries        43094        800   \n",
       "\n",
       "     population  lifeexpectancy      gnp   gnpold       localname  \\\n",
       "29     59623400            77.7  1378330  1296830  United Kingdom   \n",
       "48     62565000            45.2     6353     6180     YeItyop´iya   \n",
       "81    126714000            80.7  3787042  4192638    Nihon/Nippon   \n",
       "93   1277558000            71.4   982268   917719        Zhongquo   \n",
       "159     9997600            75.8   105954   102133        Portugal   \n",
       "164    59225700            78.8  1424285  1392448          France   \n",
       "170     8861400            79.6   226492   227757         Sverige   \n",
       "180       27000            81.1      510      NaN      San Marino   \n",
       "200     5330000            76.5   174099   169264         Danmark   \n",
       "\n",
       "              governmentform      headofstate  capital code2  \n",
       "29   Constitutional Monarchy     Elisabeth II      456    GB  \n",
       "48                  Republic   Negasso Gidada      756    ET  \n",
       "81   Constitutional Monarchy          Akihito     1532    JP  \n",
       "93          People'sRepublic      Jiang Zemin     1891    CN  \n",
       "159                 Republic    Jorge Sampãio     2914    PT  \n",
       "164                 Republic   Jacques Chirac     2974    FR  \n",
       "170  Constitutional Monarchy  Carl XVI Gustaf     3048    SE  \n",
       "180                 Republic              NaN     3171    SM  \n",
       "200  Constitutional Monarchy     Margrethe II     3315    DK  "
      ]
     },
     "execution_count": 4,
     "metadata": {},
     "output_type": "execute_result"
    }
   ],
   "source": [
    "country.query('indepyear < 1200')"
   ]
  },
  {
   "cell_type": "markdown",
   "metadata": {
    "slideshow": {
     "slide_type": "slide"
    }
   },
   "source": [
    "## Relational Algebra:\n",
    "### operators can be combined into a pipeline"
   ]
  },
  {
   "cell_type": "code",
   "execution_count": 5,
   "metadata": {
    "collapsed": false,
    "slideshow": {
     "slide_type": "fragment"
    }
   },
   "outputs": [
    {
     "data": {
      "text/html": [
       "<div>\n",
       "<table border=\"1\" class=\"dataframe\">\n",
       "  <thead>\n",
       "    <tr style=\"text-align: right;\">\n",
       "      <th></th>\n",
       "      <th>name</th>\n",
       "      <th>indepyear</th>\n",
       "    </tr>\n",
       "  </thead>\n",
       "  <tbody>\n",
       "    <tr>\n",
       "      <th>29</th>\n",
       "      <td>United Kingdom</td>\n",
       "      <td>1066</td>\n",
       "    </tr>\n",
       "    <tr>\n",
       "      <th>48</th>\n",
       "      <td>Ethiopia</td>\n",
       "      <td>-1000</td>\n",
       "    </tr>\n",
       "    <tr>\n",
       "      <th>81</th>\n",
       "      <td>Japan</td>\n",
       "      <td>-660</td>\n",
       "    </tr>\n",
       "    <tr>\n",
       "      <th>93</th>\n",
       "      <td>China</td>\n",
       "      <td>-1523</td>\n",
       "    </tr>\n",
       "    <tr>\n",
       "      <th>159</th>\n",
       "      <td>Portugal</td>\n",
       "      <td>1143</td>\n",
       "    </tr>\n",
       "    <tr>\n",
       "      <th>164</th>\n",
       "      <td>France</td>\n",
       "      <td>843</td>\n",
       "    </tr>\n",
       "    <tr>\n",
       "      <th>170</th>\n",
       "      <td>Sweden</td>\n",
       "      <td>836</td>\n",
       "    </tr>\n",
       "    <tr>\n",
       "      <th>180</th>\n",
       "      <td>San Marino</td>\n",
       "      <td>885</td>\n",
       "    </tr>\n",
       "    <tr>\n",
       "      <th>200</th>\n",
       "      <td>Denmark</td>\n",
       "      <td>800</td>\n",
       "    </tr>\n",
       "  </tbody>\n",
       "</table>\n",
       "</div>"
      ],
      "text/plain": [
       "               name  indepyear\n",
       "29   United Kingdom       1066\n",
       "48         Ethiopia      -1000\n",
       "81            Japan       -660\n",
       "93            China      -1523\n",
       "159        Portugal       1143\n",
       "164          France        843\n",
       "170          Sweden        836\n",
       "180      San Marino        885\n",
       "200         Denmark        800"
      ]
     },
     "execution_count": 5,
     "metadata": {},
     "output_type": "execute_result"
    }
   ],
   "source": [
    "country.query('indepyear < 1200').project(['name','indepyear'])"
   ]
  },
  {
   "cell_type": "markdown",
   "metadata": {
    "slideshow": {
     "slide_type": "slide"
    }
   },
   "source": [
    "## Relational Algebra:\n",
    "\n",
    "### sort\n"
   ]
  },
  {
   "cell_type": "code",
   "execution_count": 8,
   "metadata": {
    "collapsed": false,
    "slideshow": {
     "slide_type": "fragment"
    }
   },
   "outputs": [
    {
     "name": "stderr",
     "output_type": "stream",
     "text": [
      "/usr/local/lib/python3.4/dist-packages/ipykernel/__main__.py:1: FutureWarning: sort(columns=....) is deprecated, use sort_values(by=.....)\n",
      "  if __name__ == '__main__':\n"
     ]
    },
    {
     "data": {
      "text/html": [
       "<div>\n",
       "<table border=\"1\" class=\"dataframe\">\n",
       "  <thead>\n",
       "    <tr style=\"text-align: right;\">\n",
       "      <th></th>\n",
       "      <th>name</th>\n",
       "      <th>indepyear</th>\n",
       "    </tr>\n",
       "  </thead>\n",
       "  <tbody>\n",
       "    <tr>\n",
       "      <th>93</th>\n",
       "      <td>China</td>\n",
       "      <td>-1523</td>\n",
       "    </tr>\n",
       "    <tr>\n",
       "      <th>48</th>\n",
       "      <td>Ethiopia</td>\n",
       "      <td>-1000</td>\n",
       "    </tr>\n",
       "    <tr>\n",
       "      <th>81</th>\n",
       "      <td>Japan</td>\n",
       "      <td>-660</td>\n",
       "    </tr>\n",
       "    <tr>\n",
       "      <th>200</th>\n",
       "      <td>Denmark</td>\n",
       "      <td>800</td>\n",
       "    </tr>\n",
       "    <tr>\n",
       "      <th>170</th>\n",
       "      <td>Sweden</td>\n",
       "      <td>836</td>\n",
       "    </tr>\n",
       "    <tr>\n",
       "      <th>164</th>\n",
       "      <td>France</td>\n",
       "      <td>843</td>\n",
       "    </tr>\n",
       "    <tr>\n",
       "      <th>180</th>\n",
       "      <td>San Marino</td>\n",
       "      <td>885</td>\n",
       "    </tr>\n",
       "    <tr>\n",
       "      <th>29</th>\n",
       "      <td>United Kingdom</td>\n",
       "      <td>1066</td>\n",
       "    </tr>\n",
       "    <tr>\n",
       "      <th>159</th>\n",
       "      <td>Portugal</td>\n",
       "      <td>1143</td>\n",
       "    </tr>\n",
       "  </tbody>\n",
       "</table>\n",
       "</div>"
      ],
      "text/plain": [
       "               name  indepyear\n",
       "93            China      -1523\n",
       "48         Ethiopia      -1000\n",
       "81            Japan       -660\n",
       "200         Denmark        800\n",
       "170          Sweden        836\n",
       "164          France        843\n",
       "180      San Marino        885\n",
       "29   United Kingdom       1066\n",
       "159        Portugal       1143"
      ]
     },
     "execution_count": 8,
     "metadata": {},
     "output_type": "execute_result"
    }
   ],
   "source": [
    "country.query('indepyear < 1200').project(['name','indepyear']).sort('indepyear')"
   ]
  },
  {
   "cell_type": "markdown",
   "metadata": {
    "slideshow": {
     "slide_type": "slide"
    }
   },
   "source": [
    "### Structured Query Language (SQL) "
   ]
  },
  {
   "cell_type": "code",
   "execution_count": 53,
   "metadata": {
    "collapsed": false,
    "slideshow": {
     "slide_type": "skip"
    }
   },
   "outputs": [
    {
     "name": "stdout",
     "output_type": "stream",
     "text": [
      "The sql extension is already loaded. To reload it, use:\n",
      "  %reload_ext sql\n"
     ]
    }
   ],
   "source": [
    "%load_ext sql\n"
   ]
  },
  {
   "cell_type": "markdown",
   "metadata": {
    "slideshow": {
     "slide_type": "fragment"
    }
   },
   "source": [
    "## SQL is the language of database management systems\n",
    "\n",
    "Database Management System (DBMS) provides:\n",
    "\n",
    "* efficient\n",
    "* reliable \n",
    "* convenient\n",
    "* safe \n",
    "* multi-user \n",
    "\n",
    "storage of and access to massive amounts of persistent data\n",
    "\n",
    "Many Database management systems are built on the relational model\n",
    "\n",
    "* Postgresql, MySQL, SQLLITE\n",
    "* Relation == Table\n",
    "* Tuple == Row\n"
   ]
  },
  {
   "cell_type": "code",
   "execution_count": 21,
   "metadata": {
    "collapsed": false,
    "slideshow": {
     "slide_type": "skip"
    }
   },
   "outputs": [
    {
     "name": "stdout",
     "output_type": "stream",
     "text": [
      "4.687500e+08\n",
      "468.75E+6\n"
     ]
    }
   ],
   "source": [
    "# how many iPhones?\n",
    "print(\"{:e}\".format(15e18 / 32e9))\n",
    "import decimal\n",
    "print(decimal.Decimal(15e18/32e9).normalize().to_eng_string())"
   ]
  },
  {
   "cell_type": "markdown",
   "metadata": {
    "slideshow": {
     "slide_type": "slide"
    }
   },
   "source": [
    "## project  -- The basic select statement"
   ]
  },
  {
   "cell_type": "code",
   "execution_count": 54,
   "metadata": {
    "collapsed": false,
    "slideshow": {
     "slide_type": "fragment"
    }
   },
   "outputs": [
    {
     "name": "stdout",
     "output_type": "stream",
     "text": [
      "10 rows affected.\n"
     ]
    },
    {
     "data": {
      "text/html": [
       "<table>\n",
       "    <tr>\n",
       "        <th>name</th>\n",
       "        <th>indepyear</th>\n",
       "    </tr>\n",
       "    <tr>\n",
       "        <td>Afghanistan</td>\n",
       "        <td>1919</td>\n",
       "    </tr>\n",
       "    <tr>\n",
       "        <td>Netherlands</td>\n",
       "        <td>1581</td>\n",
       "    </tr>\n",
       "    <tr>\n",
       "        <td>Netherlands Antilles</td>\n",
       "        <td>None</td>\n",
       "    </tr>\n",
       "    <tr>\n",
       "        <td>Albania</td>\n",
       "        <td>1912</td>\n",
       "    </tr>\n",
       "    <tr>\n",
       "        <td>Algeria</td>\n",
       "        <td>1962</td>\n",
       "    </tr>\n",
       "    <tr>\n",
       "        <td>American Samoa</td>\n",
       "        <td>None</td>\n",
       "    </tr>\n",
       "    <tr>\n",
       "        <td>Andorra</td>\n",
       "        <td>1278</td>\n",
       "    </tr>\n",
       "    <tr>\n",
       "        <td>Angola</td>\n",
       "        <td>1975</td>\n",
       "    </tr>\n",
       "    <tr>\n",
       "        <td>Anguilla</td>\n",
       "        <td>None</td>\n",
       "    </tr>\n",
       "    <tr>\n",
       "        <td>Antigua and Barbuda</td>\n",
       "        <td>1981</td>\n",
       "    </tr>\n",
       "</table>"
      ],
      "text/plain": [
       "[('Afghanistan', 1919),\n",
       " ('Netherlands', 1581),\n",
       " ('Netherlands Antilles', None),\n",
       " ('Albania', 1912),\n",
       " ('Algeria', 1962),\n",
       " ('American Samoa', None),\n",
       " ('Andorra', 1278),\n",
       " ('Angola', 1975),\n",
       " ('Anguilla', None),\n",
       " ('Antigua and Barbuda', 1981)]"
      ]
     },
     "execution_count": 54,
     "metadata": {},
     "output_type": "execute_result"
    }
   ],
   "source": [
    "%%sql postgresql://bmiller:@localhost/bmiller\n",
    "\n",
    "select name, indepyear from country limit 10"
   ]
  },
  {
   "cell_type": "markdown",
   "metadata": {
    "slideshow": {
     "slide_type": "slide"
    }
   },
   "source": [
    "## filter"
   ]
  },
  {
   "cell_type": "code",
   "execution_count": 26,
   "metadata": {
    "collapsed": false,
    "slideshow": {
     "slide_type": "fragment"
    }
   },
   "outputs": [
    {
     "name": "stdout",
     "output_type": "stream",
     "text": [
      "9 rows affected.\n"
     ]
    },
    {
     "data": {
      "text/html": [
       "<table>\n",
       "    <tr>\n",
       "        <th>name</th>\n",
       "        <th>indepyear</th>\n",
       "    </tr>\n",
       "    <tr>\n",
       "        <td>China</td>\n",
       "        <td>-1523</td>\n",
       "    </tr>\n",
       "    <tr>\n",
       "        <td>Ethiopia</td>\n",
       "        <td>-1000</td>\n",
       "    </tr>\n",
       "    <tr>\n",
       "        <td>Japan</td>\n",
       "        <td>-660</td>\n",
       "    </tr>\n",
       "    <tr>\n",
       "        <td>Denmark</td>\n",
       "        <td>800</td>\n",
       "    </tr>\n",
       "    <tr>\n",
       "        <td>Sweden</td>\n",
       "        <td>836</td>\n",
       "    </tr>\n",
       "    <tr>\n",
       "        <td>France</td>\n",
       "        <td>843</td>\n",
       "    </tr>\n",
       "    <tr>\n",
       "        <td>San Marino</td>\n",
       "        <td>885</td>\n",
       "    </tr>\n",
       "    <tr>\n",
       "        <td>United Kingdom</td>\n",
       "        <td>1066</td>\n",
       "    </tr>\n",
       "    <tr>\n",
       "        <td>Portugal</td>\n",
       "        <td>1143</td>\n",
       "    </tr>\n",
       "</table>"
      ],
      "text/plain": [
       "[('China', -1523),\n",
       " ('Ethiopia', -1000),\n",
       " ('Japan', -660),\n",
       " ('Denmark', 800),\n",
       " ('Sweden', 836),\n",
       " ('France', 843),\n",
       " ('San Marino', 885),\n",
       " ('United Kingdom', 1066),\n",
       " ('Portugal', 1143)]"
      ]
     },
     "execution_count": 26,
     "metadata": {},
     "output_type": "execute_result"
    }
   ],
   "source": [
    "%%sql\n",
    "\n",
    "select name, indepyear \n",
    "from country \n",
    "where indepyear < 1200;\n"
   ]
  },
  {
   "cell_type": "markdown",
   "metadata": {
    "slideshow": {
     "slide_type": "slide"
    }
   },
   "source": [
    "## sort"
   ]
  },
  {
   "cell_type": "code",
   "execution_count": 57,
   "metadata": {
    "collapsed": false,
    "slideshow": {
     "slide_type": "fragment"
    }
   },
   "outputs": [
    {
     "name": "stdout",
     "output_type": "stream",
     "text": [
      "9 rows affected.\n"
     ]
    },
    {
     "data": {
      "text/html": [
       "<table>\n",
       "    <tr>\n",
       "        <th>name</th>\n",
       "        <th>indepyear</th>\n",
       "    </tr>\n",
       "    <tr>\n",
       "        <td>China</td>\n",
       "        <td>-1523</td>\n",
       "    </tr>\n",
       "    <tr>\n",
       "        <td>Ethiopia</td>\n",
       "        <td>-1000</td>\n",
       "    </tr>\n",
       "    <tr>\n",
       "        <td>Japan</td>\n",
       "        <td>-660</td>\n",
       "    </tr>\n",
       "    <tr>\n",
       "        <td>Denmark</td>\n",
       "        <td>800</td>\n",
       "    </tr>\n",
       "    <tr>\n",
       "        <td>Sweden</td>\n",
       "        <td>836</td>\n",
       "    </tr>\n",
       "    <tr>\n",
       "        <td>France</td>\n",
       "        <td>843</td>\n",
       "    </tr>\n",
       "    <tr>\n",
       "        <td>San Marino</td>\n",
       "        <td>885</td>\n",
       "    </tr>\n",
       "    <tr>\n",
       "        <td>United Kingdom</td>\n",
       "        <td>1066</td>\n",
       "    </tr>\n",
       "    <tr>\n",
       "        <td>Portugal</td>\n",
       "        <td>1143</td>\n",
       "    </tr>\n",
       "</table>"
      ],
      "text/plain": [
       "[('China', -1523),\n",
       " ('Ethiopia', -1000),\n",
       " ('Japan', -660),\n",
       " ('Denmark', 800),\n",
       " ('Sweden', 836),\n",
       " ('France', 843),\n",
       " ('San Marino', 885),\n",
       " ('United Kingdom', 1066),\n",
       " ('Portugal', 1143)]"
      ]
     },
     "execution_count": 57,
     "metadata": {},
     "output_type": "execute_result"
    }
   ],
   "source": [
    "%%sql\n",
    "\n",
    "select name, indepyear \n",
    "from country \n",
    "where indepyear < 1200\n",
    "order by indepyear;"
   ]
  }
 ],
 "metadata": {
  "celltoolbar": "Slideshow",
  "kernelspec": {
   "display_name": "Python 3",
   "language": "python",
   "name": "python3"
  },
  "language_info": {
   "codemirror_mode": {
    "name": "ipython",
    "version": 3
   },
   "file_extension": ".py",
   "mimetype": "text/x-python",
   "name": "python",
   "nbconvert_exporter": "python",
   "pygments_lexer": "ipython3",
   "version": "3.4.3"
  }
 },
 "nbformat": 4,
 "nbformat_minor": 0
}
