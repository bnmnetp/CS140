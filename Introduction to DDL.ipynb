{
 "cells": [
  {
   "cell_type": "markdown",
   "metadata": {
    "slideshow": {
     "slide_type": "slide"
    }
   },
   "source": [
    "## Administrivia\n",
    "\n",
    "* start terminal window in browswer\n",
    "* ``nbgrader extension activate``\n",
    "* Now check for the assignment tab\n",
    "* copy/paste your answers into the appropriate cells and submit\n",
    "* There is a second assignment for you as well.\n",
    "\n"
   ]
  },
  {
   "cell_type": "markdown",
   "metadata": {
    "slideshow": {
     "slide_type": "slide"
    }
   },
   "source": [
    "## Modeling a Registration Database\n",
    "\n",
    "* It is registration time, and of course the registration process is driven by the online registration system.\n",
    "* Lets think about this and develop a data model for registration.\n",
    "\n",
    "1.  What are the main entities involved?\n",
    "2.  Ask the question \"what do we want to remember about each entity\n",
    "3.  How do we uniquely identify each entity?\n",
    "4.  for each attribute are there other things we want to remember? \n",
    "\n",
    "    1. If so, then promote that attribute to an entity.\n",
    "    2. What are the relationships between these entities?\n",
    "    \n",
    "Here is one version of the Data Model (LDS) from class.   **Notice that there are several many-many relationships**  These relationships need to be further evolved, but we will keep them this way for now.\n",
    "\n",
    "![](course_lds.jpg)"
   ]
  },
  {
   "cell_type": "code",
   "execution_count": 2,
   "metadata": {
    "collapsed": false
   },
   "outputs": [],
   "source": [
    "import warnings\n",
    "warnings.filterwarnings('ignore')\n",
    "\n",
    "%load_ext sql"
   ]
  },
  {
   "cell_type": "markdown",
   "metadata": {
    "slideshow": {
     "slide_type": "slide"
    }
   },
   "source": [
    "### Turning our Model into a database\n",
    "\n",
    "* We will use SQL Data Definition Language (DDL) to create a table\n",
    "* Full documentation is here: http://www.postgresql.org/docs/9.4/static/sql-createtable.html\n",
    "* More than you want to know at the moment.\n",
    "\n",
    "* give the table a name\n",
    "* describe each column with a name and a data type\n",
    "\n",
    "  * integer\n",
    "  * real -- float\n",
    "  * text -- varchar\n",
    "  * date \n",
    "  \n",
    "* describe any constraints\n",
    "* for today important constraint is to identify the primary key\n"
   ]
  },
  {
   "cell_type": "code",
   "execution_count": 3,
   "metadata": {
    "collapsed": false,
    "slideshow": {
     "slide_type": "skip"
    }
   },
   "outputs": [
    {
     "data": {
      "text/plain": [
       "'Connected: millbr02@millbr02'"
      ]
     },
     "execution_count": 3,
     "metadata": {},
     "output_type": "execute_result"
    }
   ],
   "source": [
    "%%sql \n",
    "\n",
    "postgresql://millbr02:@localhost/millbr02"
   ]
  },
  {
   "cell_type": "code",
   "execution_count": 4,
   "metadata": {
    "collapsed": false,
    "slideshow": {
     "slide_type": "slide"
    }
   },
   "outputs": [
    {
     "name": "stdout",
     "output_type": "stream",
     "text": [
      "Done.\n",
      "Done.\n"
     ]
    },
    {
     "data": {
      "text/plain": [
       "[]"
      ]
     },
     "execution_count": 4,
     "metadata": {},
     "output_type": "execute_result"
    }
   ],
   "source": [
    "%%sql\n",
    "\n",
    "drop table if exists student;\n",
    "\n",
    "create table student (\n",
    "    student_id integer,\n",
    "    start_date date,\n",
    "    first_name varchar(20),\n",
    "    last_name varchar(20),\n",
    "    \n",
    "    constraint sid_key primary key(student_id)\n",
    ");"
   ]
  },
  {
   "cell_type": "markdown",
   "metadata": {
    "slideshow": {
     "slide_type": "slide"
    }
   },
   "source": [
    "### Populating the database\n",
    "\n",
    "SQL provides another statement, called the ``insert`` statement\n",
    "\n",
    "\n",
    "    insert into table [(list of columns)] values(val1, val2, ... val3);\n",
    "    \n",
    "The list of columns is optional.  If it is not given then val1, val2, etc. must be in the order they appear in the create table statement.  If you give the column list then the columns and values must be in the same order.\n",
    "\n",
    "If you do not give a column its value will be null or the default value you specify."
   ]
  },
  {
   "cell_type": "code",
   "execution_count": 18,
   "metadata": {
    "collapsed": false,
    "slideshow": {
     "slide_type": "slide"
    }
   },
   "outputs": [
    {
     "name": "stdout",
     "output_type": "stream",
     "text": [
      "2 rows affected.\n"
     ]
    },
    {
     "data": {
      "text/plain": [
       "[]"
      ]
     },
     "execution_count": 18,
     "metadata": {},
     "output_type": "execute_result"
    }
   ],
   "source": [
    "%%sql\n",
    "\n",
    "-- insert into student (first_name, last_name)  values('John', 'Appleseed');\n",
    "\n",
    "delete from student where first_name = 'John';"
   ]
  },
  {
   "cell_type": "code",
   "execution_count": 19,
   "metadata": {
    "collapsed": false,
    "slideshow": {
     "slide_type": "slide"
    }
   },
   "outputs": [
    {
     "name": "stdout",
     "output_type": "stream",
     "text": [
      "2 rows affected.\n"
     ]
    },
    {
     "data": {
      "text/html": [
       "<table>\n",
       "    <tr>\n",
       "        <th>student_id</th>\n",
       "        <th>start_date</th>\n",
       "        <th>first_name</th>\n",
       "        <th>last_name</th>\n",
       "    </tr>\n",
       "    <tr>\n",
       "        <td>12347</td>\n",
       "        <td>None</td>\n",
       "        <td>George</td>\n",
       "        <td>Johnson</td>\n",
       "    </tr>\n",
       "    <tr>\n",
       "        <td>12345</td>\n",
       "        <td>2015-11-02</td>\n",
       "        <td>George</td>\n",
       "        <td>Johnson</td>\n",
       "    </tr>\n",
       "</table>"
      ],
      "text/plain": [
       "[(12347, None, 'George', 'Johnson'),\n",
       " (12345, datetime.date(2015, 11, 2), 'George', 'Johnson')]"
      ]
     },
     "execution_count": 19,
     "metadata": {},
     "output_type": "execute_result"
    }
   ],
   "source": [
    "%%sql\n",
    "\n",
    "select * from student;"
   ]
  },
  {
   "cell_type": "code",
   "execution_count": 7,
   "metadata": {
    "collapsed": false,
    "slideshow": {
     "slide_type": "slide"
    }
   },
   "outputs": [
    {
     "name": "stdout",
     "output_type": "stream",
     "text": [
      "4 rows affected.\n"
     ]
    },
    {
     "data": {
      "text/html": [
       "<table>\n",
       "    <tr>\n",
       "        <th>column_name</th>\n",
       "        <th>data_type</th>\n",
       "        <th>character_maximum_length</th>\n",
       "    </tr>\n",
       "    <tr>\n",
       "        <td>student_id</td>\n",
       "        <td>integer</td>\n",
       "        <td>None</td>\n",
       "    </tr>\n",
       "    <tr>\n",
       "        <td>start_date</td>\n",
       "        <td>date</td>\n",
       "        <td>None</td>\n",
       "    </tr>\n",
       "    <tr>\n",
       "        <td>first_name</td>\n",
       "        <td>character varying</td>\n",
       "        <td>20</td>\n",
       "    </tr>\n",
       "    <tr>\n",
       "        <td>last_name</td>\n",
       "        <td>character varying</td>\n",
       "        <td>20</td>\n",
       "    </tr>\n",
       "</table>"
      ],
      "text/plain": [
       "[('student_id', 'integer', None),\n",
       " ('start_date', 'date', None),\n",
       " ('first_name', 'character varying', 20),\n",
       " ('last_name', 'character varying', 20)]"
      ]
     },
     "execution_count": 7,
     "metadata": {},
     "output_type": "execute_result"
    }
   ],
   "source": [
    "%%sql\n",
    "\n",
    "select column_name, data_type, character_maximum_length\n",
    "from INFORMATION_SCHEMA.COLUMNS where table_name = 'student';"
   ]
  }
 ],
 "metadata": {
  "celltoolbar": "Slideshow",
  "kernelspec": {
   "display_name": "Python 3",
   "language": "python",
   "name": "python3"
  },
  "language_info": {
   "codemirror_mode": {
    "name": "ipython",
    "version": 3
   },
   "file_extension": ".py",
   "mimetype": "text/x-python",
   "name": "python",
   "nbconvert_exporter": "python",
   "pygments_lexer": "ipython3",
   "version": "3.4.3"
  }
 },
 "nbformat": 4,
 "nbformat_minor": 0
}
