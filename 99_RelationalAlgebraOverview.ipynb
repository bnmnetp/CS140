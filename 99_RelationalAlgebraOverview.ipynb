{
 "cells": [
  {
   "cell_type": "markdown",
   "metadata": {},
   "source": [
    "# Relational Algebra\n",
    "\n",
    "Relational Algebra forms the basis for relational databases and the SQL query language.  In many ways understanding relational algebra is better than learning SQL right away as it is very consistent and extensible.  It is consitent because every relational algebra operator takes one or more relations as input and produces a relation as output.\n",
    "\n",
    "Using the relational operators we can answer many questions.  In fact once you have mastered the relational operators it is almost trivial to translate a series of relational operators into SQL for use with the database of your choice.  As is the case with many aspects of computer science, any one of these relational operators is easy to understand in isolation, it is the combination of the operators that allows us to answer very complex questions.\n"
   ]
  },
  {
   "cell_type": "markdown",
   "metadata": {},
   "source": [
    "## A Relation"
   ]
  },
  {
   "cell_type": "markdown",
   "metadata": {},
   "source": [
    "A relation is one of the fundamental units of data used in Relational Algebra.  A relation is a collection of **tuples** where each tuple is composed of data.  The data in these tuples is in a consistent order, and would typically represent a collection of information about a particular entity.   To put it in terms you are probably more familiar with, a relation is like a spreadsheet, that consists of rows and columns of data.  The entire spreadsheet corresponds to the relation, and a row of the spreadsheet corresponds to a tuple.  In this notebook we will use two simple relations, a City relation and a Country relation.\n",
    "\n",
    "Relations also have one more important property, which is that they do not have duplicate rows.\n",
    "\n",
    "In the example below we will load two relations from files on disk, and display the first few tuples from the city relation.  You can do the same for country if you want."
   ]
  },
  {
   "cell_type": "code",
   "execution_count": 6,
   "metadata": {
    "collapsed": false
   },
   "outputs": [
    {
     "data": {
      "text/html": [
       "<div>\n",
       "<table border=\"1\" class=\"dataframe\">\n",
       "  <thead>\n",
       "    <tr style=\"text-align: right;\">\n",
       "      <th></th>\n",
       "      <th>id</th>\n",
       "      <th>name</th>\n",
       "      <th>countrycode</th>\n",
       "      <th>district</th>\n",
       "      <th>population</th>\n",
       "    </tr>\n",
       "  </thead>\n",
       "  <tbody>\n",
       "    <tr>\n",
       "      <th>0</th>\n",
       "      <td>1</td>\n",
       "      <td>Kabul</td>\n",
       "      <td>AFG</td>\n",
       "      <td>Kabol</td>\n",
       "      <td>1780000</td>\n",
       "    </tr>\n",
       "    <tr>\n",
       "      <th>1</th>\n",
       "      <td>2</td>\n",
       "      <td>Qandahar</td>\n",
       "      <td>AFG</td>\n",
       "      <td>Qandahar</td>\n",
       "      <td>237500</td>\n",
       "    </tr>\n",
       "    <tr>\n",
       "      <th>2</th>\n",
       "      <td>3</td>\n",
       "      <td>Herat</td>\n",
       "      <td>AFG</td>\n",
       "      <td>Herat</td>\n",
       "      <td>186800</td>\n",
       "    </tr>\n",
       "    <tr>\n",
       "      <th>3</th>\n",
       "      <td>4</td>\n",
       "      <td>Mazar-e-Sharif</td>\n",
       "      <td>AFG</td>\n",
       "      <td>Balkh</td>\n",
       "      <td>127800</td>\n",
       "    </tr>\n",
       "    <tr>\n",
       "      <th>4</th>\n",
       "      <td>5</td>\n",
       "      <td>Amsterdam</td>\n",
       "      <td>NLD</td>\n",
       "      <td>Noord-Holland</td>\n",
       "      <td>731200</td>\n",
       "    </tr>\n",
       "  </tbody>\n",
       "</table>\n",
       "</div>"
      ],
      "text/plain": [
       "  id            name countrycode       district  population\n",
       "0  1           Kabul         AFG          Kabol     1780000\n",
       "1  2        Qandahar         AFG       Qandahar      237500\n",
       "2  3           Herat         AFG          Herat      186800\n",
       "3  4  Mazar-e-Sharif         AFG          Balkh      127800\n",
       "4  5       Amsterdam         NLD  Noord-Holland      731200"
      ]
     },
     "execution_count": 6,
     "metadata": {},
     "output_type": "execute_result"
    }
   ],
   "source": [
    "from reframe import Relation\n",
    "city = Relation('city.csv',sep='|')\n",
    "country = Relation('country.csv',sep='|')\n",
    "city.head()"
   ]
  },
  {
   "cell_type": "markdown",
   "metadata": {},
   "source": [
    "All relational operators have a similar form:\n",
    "\n",
    "originalrelation.operator(parameters)\n",
    "\n",
    "The dot is important as it tells the operator which relation it should operate on.  The additional parameters inform the operator how it should behave."
   ]
  },
  {
   "cell_type": "markdown",
   "metadata": {},
   "source": [
    "## Project\n",
    "\n",
    "The project operator tranforms a relation into another by only keeping the list of columns specified as a parameter to the operator.  In that light you should always visualize the project operator as narrowing the original as shown in the picture below.\n",
    "\n",
    "![](project_shape.png)\n",
    "\n",
    "Lets look at a simple example using the city relation.  Lets project the name and district from the original city relation.  Notice that the names and the districts nicely match up with the names from the original, but that we have eliminated  the id, countrycode and population columns."
   ]
  },
  {
   "cell_type": "code",
   "execution_count": 8,
   "metadata": {
    "collapsed": false
   },
   "outputs": [
    {
     "data": {
      "text/html": [
       "<div>\n",
       "<table border=\"1\" class=\"dataframe\">\n",
       "  <thead>\n",
       "    <tr style=\"text-align: right;\">\n",
       "      <th></th>\n",
       "      <th>name</th>\n",
       "      <th>district</th>\n",
       "    </tr>\n",
       "  </thead>\n",
       "  <tbody>\n",
       "    <tr>\n",
       "      <th>0</th>\n",
       "      <td>Kabul</td>\n",
       "      <td>Kabol</td>\n",
       "    </tr>\n",
       "    <tr>\n",
       "      <th>1</th>\n",
       "      <td>Qandahar</td>\n",
       "      <td>Qandahar</td>\n",
       "    </tr>\n",
       "    <tr>\n",
       "      <th>2</th>\n",
       "      <td>Herat</td>\n",
       "      <td>Herat</td>\n",
       "    </tr>\n",
       "    <tr>\n",
       "      <th>3</th>\n",
       "      <td>Mazar-e-Sharif</td>\n",
       "      <td>Balkh</td>\n",
       "    </tr>\n",
       "    <tr>\n",
       "      <th>4</th>\n",
       "      <td>Amsterdam</td>\n",
       "      <td>Noord-Holland</td>\n",
       "    </tr>\n",
       "  </tbody>\n",
       "</table>\n",
       "</div>"
      ],
      "text/plain": [
       "             name       district\n",
       "0           Kabul          Kabol\n",
       "1        Qandahar       Qandahar\n",
       "2           Herat          Herat\n",
       "3  Mazar-e-Sharif          Balkh\n",
       "4       Amsterdam  Noord-Holland"
      ]
     },
     "execution_count": 8,
     "metadata": {},
     "output_type": "execute_result"
    }
   ],
   "source": [
    "city.project(['name','district']).head()"
   ]
  },
  {
   "cell_type": "markdown",
   "metadata": {},
   "source": [
    "Now lets project the countrycode column.  You might expect to see the five rows tuples with the values AFG, AFG, AFG, AFG, NLD.   But remember that relations do not have duplicate rows, so in fact you will not see four tuples containing AFg.  Lets look:"
   ]
  },
  {
   "cell_type": "code",
   "execution_count": 10,
   "metadata": {
    "collapsed": false
   },
   "outputs": [
    {
     "data": {
      "text/html": [
       "<div>\n",
       "<table border=\"1\" class=\"dataframe\">\n",
       "  <thead>\n",
       "    <tr style=\"text-align: right;\">\n",
       "      <th></th>\n",
       "      <th>countrycode</th>\n",
       "    </tr>\n",
       "  </thead>\n",
       "  <tbody>\n",
       "    <tr>\n",
       "      <th>0</th>\n",
       "      <td>AFG</td>\n",
       "    </tr>\n",
       "    <tr>\n",
       "      <th>4</th>\n",
       "      <td>NLD</td>\n",
       "    </tr>\n",
       "    <tr>\n",
       "      <th>32</th>\n",
       "      <td>ANT</td>\n",
       "    </tr>\n",
       "    <tr>\n",
       "      <th>33</th>\n",
       "      <td>ALB</td>\n",
       "    </tr>\n",
       "    <tr>\n",
       "      <th>34</th>\n",
       "      <td>DZA</td>\n",
       "    </tr>\n",
       "  </tbody>\n",
       "</table>\n",
       "</div>"
      ],
      "text/plain": [
       "   countrycode\n",
       "0          AFG\n",
       "4          NLD\n",
       "32         ANT\n",
       "33         ALB\n",
       "34         DZA"
      ]
     },
     "execution_count": 10,
     "metadata": {},
     "output_type": "execute_result"
    }
   ],
   "source": [
    "city.project(['countrycode']).head()"
   ]
  },
  {
   "cell_type": "markdown",
   "metadata": {},
   "source": [
    "## Query\n",
    "\n",
    "Our next relational operator is the query operator.  The query operator allows us to create a new relation that retains a subset of the original tuples.  The tuples that are retained depend on the condition we provide to the query operator.  Typically a query will compare one or more values in the tuple against a constant value, or against each other.  The query operator keeps all of the columns intact, it only elimiates rows!  So in terms of changing the shape of a relation we can see that query looks like this:\n",
    "\n",
    "![](query_shape.png)\n",
    "\n",
    "The kinds of comparisons we can make include:\n",
    "\n",
    "* ``==``\n",
    "* ``!=``\n",
    "* ``>=``\n",
    "* ``>``\n",
    "* ``<``\n",
    "* ``<=``\n",
    "\n",
    "The example below shows a query corresponding to the questions:  List all of the data about all of the cities that have a population more than 1 million."
   ]
  },
  {
   "cell_type": "code",
   "execution_count": 12,
   "metadata": {
    "collapsed": false
   },
   "outputs": [
    {
     "data": {
      "text/html": [
       "<div>\n",
       "<table border=\"1\" class=\"dataframe\">\n",
       "  <thead>\n",
       "    <tr style=\"text-align: right;\">\n",
       "      <th></th>\n",
       "      <th>id</th>\n",
       "      <th>name</th>\n",
       "      <th>countrycode</th>\n",
       "      <th>district</th>\n",
       "      <th>population</th>\n",
       "    </tr>\n",
       "  </thead>\n",
       "  <tbody>\n",
       "    <tr>\n",
       "      <th>0</th>\n",
       "      <td>1</td>\n",
       "      <td>Kabul</td>\n",
       "      <td>AFG</td>\n",
       "      <td>Kabol</td>\n",
       "      <td>1780000</td>\n",
       "    </tr>\n",
       "    <tr>\n",
       "      <th>34</th>\n",
       "      <td>35</td>\n",
       "      <td>Alger</td>\n",
       "      <td>DZA</td>\n",
       "      <td>Alger</td>\n",
       "      <td>2168000</td>\n",
       "    </tr>\n",
       "    <tr>\n",
       "      <th>55</th>\n",
       "      <td>56</td>\n",
       "      <td>Luanda</td>\n",
       "      <td>AGO</td>\n",
       "      <td>Luanda</td>\n",
       "      <td>2022000</td>\n",
       "    </tr>\n",
       "    <tr>\n",
       "      <th>68</th>\n",
       "      <td>69</td>\n",
       "      <td>Buenos Aires</td>\n",
       "      <td>ARG</td>\n",
       "      <td>Distrito Federal</td>\n",
       "      <td>2982146</td>\n",
       "    </tr>\n",
       "    <tr>\n",
       "      <th>69</th>\n",
       "      <td>70</td>\n",
       "      <td>La Matanza</td>\n",
       "      <td>ARG</td>\n",
       "      <td>Buenos Aires</td>\n",
       "      <td>1266461</td>\n",
       "    </tr>\n",
       "  </tbody>\n",
       "</table>\n",
       "</div>"
      ],
      "text/plain": [
       "    id          name countrycode          district  population\n",
       "0    1         Kabul         AFG             Kabol     1780000\n",
       "34  35         Alger         DZA             Alger     2168000\n",
       "55  56        Luanda         AGO            Luanda     2022000\n",
       "68  69  Buenos Aires         ARG  Distrito Federal     2982146\n",
       "69  70    La Matanza         ARG      Buenos Aires     1266461"
      ]
     },
     "execution_count": 12,
     "metadata": {},
     "output_type": "execute_result"
    }
   ],
   "source": [
    "city.query(\"population > 1000000\").head()"
   ]
  },
  {
   "cell_type": "markdown",
   "metadata": {},
   "source": [
    "As mentioned we can compare one column with another.  For example lets try a query that retains all of the tuples where the name of the city is the same as the name of the district."
   ]
  },
  {
   "cell_type": "code",
   "execution_count": 14,
   "metadata": {
    "collapsed": false
   },
   "outputs": [
    {
     "data": {
      "text/html": [
       "<div>\n",
       "<table border=\"1\" class=\"dataframe\">\n",
       "  <thead>\n",
       "    <tr style=\"text-align: right;\">\n",
       "      <th></th>\n",
       "      <th>id</th>\n",
       "      <th>name</th>\n",
       "      <th>countrycode</th>\n",
       "      <th>district</th>\n",
       "      <th>population</th>\n",
       "    </tr>\n",
       "  </thead>\n",
       "  <tbody>\n",
       "    <tr>\n",
       "      <th>1</th>\n",
       "      <td>2</td>\n",
       "      <td>Qandahar</td>\n",
       "      <td>AFG</td>\n",
       "      <td>Qandahar</td>\n",
       "      <td>237500</td>\n",
       "    </tr>\n",
       "    <tr>\n",
       "      <th>2</th>\n",
       "      <td>3</td>\n",
       "      <td>Herat</td>\n",
       "      <td>AFG</td>\n",
       "      <td>Herat</td>\n",
       "      <td>186800</td>\n",
       "    </tr>\n",
       "    <tr>\n",
       "      <th>7</th>\n",
       "      <td>8</td>\n",
       "      <td>Utrecht</td>\n",
       "      <td>NLD</td>\n",
       "      <td>Utrecht</td>\n",
       "      <td>234323</td>\n",
       "    </tr>\n",
       "    <tr>\n",
       "      <th>10</th>\n",
       "      <td>11</td>\n",
       "      <td>Groningen</td>\n",
       "      <td>NLD</td>\n",
       "      <td>Groningen</td>\n",
       "      <td>172701</td>\n",
       "    </tr>\n",
       "    <tr>\n",
       "      <th>33</th>\n",
       "      <td>34</td>\n",
       "      <td>Tirana</td>\n",
       "      <td>ALB</td>\n",
       "      <td>Tirana</td>\n",
       "      <td>270000</td>\n",
       "    </tr>\n",
       "  </tbody>\n",
       "</table>\n",
       "</div>"
      ],
      "text/plain": [
       "    id       name countrycode   district  population\n",
       "1    2   Qandahar         AFG   Qandahar      237500\n",
       "2    3      Herat         AFG      Herat      186800\n",
       "7    8    Utrecht         NLD    Utrecht      234323\n",
       "10  11  Groningen         NLD  Groningen      172701\n",
       "33  34     Tirana         ALB     Tirana      270000"
      ]
     },
     "execution_count": 14,
     "metadata": {},
     "output_type": "execute_result"
    }
   ],
   "source": [
    "city.query(\"name == district\").head()"
   ]
  },
  {
   "cell_type": "markdown",
   "metadata": {},
   "source": [
    "For one final example lets write a query that retains all of the rows where the countrycode is ``'AFG'``.  This is a bit tricky as we call ``'AFG'`` a string literal, and it must be enclosed by quotes.  Names of columns never have to be surrounded by quotes, but the value of a column within a tuple that not numeric, must always be enclosed in quotes.\n",
    "\n",
    "You will also notice that in the example below we do not use the ``head()`` at the end of our query, this is becuase the result is short enough that we don't need to use head to restrict the number of rows that we show.  "
   ]
  },
  {
   "cell_type": "code",
   "execution_count": 16,
   "metadata": {
    "collapsed": false
   },
   "outputs": [
    {
     "data": {
      "text/html": [
       "<div>\n",
       "<table border=\"1\" class=\"dataframe\">\n",
       "  <thead>\n",
       "    <tr style=\"text-align: right;\">\n",
       "      <th></th>\n",
       "      <th>id</th>\n",
       "      <th>name</th>\n",
       "      <th>countrycode</th>\n",
       "      <th>district</th>\n",
       "      <th>population</th>\n",
       "    </tr>\n",
       "  </thead>\n",
       "  <tbody>\n",
       "    <tr>\n",
       "      <th>0</th>\n",
       "      <td>1</td>\n",
       "      <td>Kabul</td>\n",
       "      <td>AFG</td>\n",
       "      <td>Kabol</td>\n",
       "      <td>1780000</td>\n",
       "    </tr>\n",
       "    <tr>\n",
       "      <th>1</th>\n",
       "      <td>2</td>\n",
       "      <td>Qandahar</td>\n",
       "      <td>AFG</td>\n",
       "      <td>Qandahar</td>\n",
       "      <td>237500</td>\n",
       "    </tr>\n",
       "    <tr>\n",
       "      <th>2</th>\n",
       "      <td>3</td>\n",
       "      <td>Herat</td>\n",
       "      <td>AFG</td>\n",
       "      <td>Herat</td>\n",
       "      <td>186800</td>\n",
       "    </tr>\n",
       "    <tr>\n",
       "      <th>3</th>\n",
       "      <td>4</td>\n",
       "      <td>Mazar-e-Sharif</td>\n",
       "      <td>AFG</td>\n",
       "      <td>Balkh</td>\n",
       "      <td>127800</td>\n",
       "    </tr>\n",
       "  </tbody>\n",
       "</table>\n",
       "</div>"
      ],
      "text/plain": [
       "  id            name countrycode  district  population\n",
       "0  1           Kabul         AFG     Kabol     1780000\n",
       "1  2        Qandahar         AFG  Qandahar      237500\n",
       "2  3           Herat         AFG     Herat      186800\n",
       "3  4  Mazar-e-Sharif         AFG     Balkh      127800"
      ]
     },
     "execution_count": 16,
     "metadata": {},
     "output_type": "execute_result"
    }
   ],
   "source": [
    "city.query(\"countrycode == 'AFG'\")"
   ]
  },
  {
   "cell_type": "markdown",
   "metadata": {},
   "source": [
    "## Sort\n",
    "\n",
    "The sort relational is even easier than either of the previous two in that all it does is reorder the data that is already there.  The parameters to the sort operator are a list of columns.  The first column on the list is the primary sort key, which means we sort the tuples in the relation from smallest to largest according the values in that column.  If another column is given, then we use the second column as a tie breaker when the values in the first column are equal.\n",
    "\n",
    "![](sort.png)\n",
    "\n",
    "Here is a simple example where we sort the cities in order by population.  If we want to see the cities sorted from biggest to smallest we can supply an additional parameter ``ascending=False``"
   ]
  },
  {
   "cell_type": "code",
   "execution_count": 17,
   "metadata": {
    "collapsed": false
   },
   "outputs": [
    {
     "data": {
      "text/html": [
       "<div>\n",
       "<table border=\"1\" class=\"dataframe\">\n",
       "  <thead>\n",
       "    <tr style=\"text-align: right;\">\n",
       "      <th></th>\n",
       "      <th>id</th>\n",
       "      <th>name</th>\n",
       "      <th>countrycode</th>\n",
       "      <th>district</th>\n",
       "      <th>population</th>\n",
       "    </tr>\n",
       "  </thead>\n",
       "  <tbody>\n",
       "    <tr>\n",
       "      <th>2911</th>\n",
       "      <td>2912</td>\n",
       "      <td>Adamstown</td>\n",
       "      <td>PCN</td>\n",
       "      <td></td>\n",
       "      <td>42</td>\n",
       "    </tr>\n",
       "    <tr>\n",
       "      <th>2316</th>\n",
       "      <td>2317</td>\n",
       "      <td>West Island</td>\n",
       "      <td>CCK</td>\n",
       "      <td>West Island</td>\n",
       "      <td>167</td>\n",
       "    </tr>\n",
       "    <tr>\n",
       "      <th>3332</th>\n",
       "      <td>3333</td>\n",
       "      <td>Fakaofo</td>\n",
       "      <td>TKL</td>\n",
       "      <td>Fakaofo</td>\n",
       "      <td>300</td>\n",
       "    </tr>\n",
       "    <tr>\n",
       "      <th>3537</th>\n",
       "      <td>3538</td>\n",
       "      <td>Città del Vaticano</td>\n",
       "      <td>VAT</td>\n",
       "      <td></td>\n",
       "      <td>455</td>\n",
       "    </tr>\n",
       "    <tr>\n",
       "      <th>2315</th>\n",
       "      <td>2316</td>\n",
       "      <td>Bantam</td>\n",
       "      <td>CCK</td>\n",
       "      <td>Home Island</td>\n",
       "      <td>503</td>\n",
       "    </tr>\n",
       "  </tbody>\n",
       "</table>\n",
       "</div>"
      ],
      "text/plain": [
       "        id                name countrycode     district  population\n",
       "2911  2912           Adamstown         PCN                      42\n",
       "2316  2317         West Island         CCK  West Island         167\n",
       "3332  3333             Fakaofo         TKL      Fakaofo         300\n",
       "3537  3538  Città del Vaticano         VAT                     455\n",
       "2315  2316              Bantam         CCK  Home Island         503"
      ]
     },
     "execution_count": 17,
     "metadata": {},
     "output_type": "execute_result"
    }
   ],
   "source": [
    "city.sort(['population']).head()"
   ]
  },
  {
   "cell_type": "code",
   "execution_count": 20,
   "metadata": {
    "collapsed": false
   },
   "outputs": [
    {
     "data": {
      "text/html": [
       "<div>\n",
       "<table border=\"1\" class=\"dataframe\">\n",
       "  <thead>\n",
       "    <tr style=\"text-align: right;\">\n",
       "      <th></th>\n",
       "      <th>id</th>\n",
       "      <th>name</th>\n",
       "      <th>countrycode</th>\n",
       "      <th>district</th>\n",
       "      <th>population</th>\n",
       "    </tr>\n",
       "  </thead>\n",
       "  <tbody>\n",
       "    <tr>\n",
       "      <th>1023</th>\n",
       "      <td>1024</td>\n",
       "      <td>Mumbai (Bombay)</td>\n",
       "      <td>IND</td>\n",
       "      <td>Maharashtra</td>\n",
       "      <td>10500000</td>\n",
       "    </tr>\n",
       "    <tr>\n",
       "      <th>2330</th>\n",
       "      <td>2331</td>\n",
       "      <td>Seoul</td>\n",
       "      <td>KOR</td>\n",
       "      <td>Seoul</td>\n",
       "      <td>9981619</td>\n",
       "    </tr>\n",
       "    <tr>\n",
       "      <th>205</th>\n",
       "      <td>206</td>\n",
       "      <td>São Paulo</td>\n",
       "      <td>BRA</td>\n",
       "      <td>São Paulo</td>\n",
       "      <td>9968485</td>\n",
       "    </tr>\n",
       "    <tr>\n",
       "      <th>1889</th>\n",
       "      <td>1890</td>\n",
       "      <td>Shanghai</td>\n",
       "      <td>CHN</td>\n",
       "      <td>Shanghai</td>\n",
       "      <td>9696300</td>\n",
       "    </tr>\n",
       "    <tr>\n",
       "      <th>938</th>\n",
       "      <td>939</td>\n",
       "      <td>Jakarta</td>\n",
       "      <td>IDN</td>\n",
       "      <td>Jakarta Raya</td>\n",
       "      <td>9604900</td>\n",
       "    </tr>\n",
       "  </tbody>\n",
       "</table>\n",
       "</div>"
      ],
      "text/plain": [
       "        id             name countrycode      district  population\n",
       "1023  1024  Mumbai (Bombay)         IND   Maharashtra    10500000\n",
       "2330  2331            Seoul         KOR         Seoul     9981619\n",
       "205    206        São Paulo         BRA     São Paulo     9968485\n",
       "1889  1890         Shanghai         CHN      Shanghai     9696300\n",
       "938    939          Jakarta         IDN  Jakarta Raya     9604900"
      ]
     },
     "execution_count": 20,
     "metadata": {},
     "output_type": "execute_result"
    }
   ],
   "source": [
    "city.sort(['population'],ascending=False).head()"
   ]
  },
  {
   "cell_type": "markdown",
   "metadata": {},
   "source": [
    "Next lets look at an example of sorting using two columns.  Our first sort key will be the country code so that we can gather together all of the cities in the same country.  But within each country we will sort the cities from smallest to largest by population."
   ]
  },
  {
   "cell_type": "code",
   "execution_count": 19,
   "metadata": {
    "collapsed": false
   },
   "outputs": [
    {
     "data": {
      "text/html": [
       "<div>\n",
       "<table border=\"1\" class=\"dataframe\">\n",
       "  <thead>\n",
       "    <tr style=\"text-align: right;\">\n",
       "      <th></th>\n",
       "      <th>id</th>\n",
       "      <th>name</th>\n",
       "      <th>countrycode</th>\n",
       "      <th>district</th>\n",
       "      <th>population</th>\n",
       "    </tr>\n",
       "  </thead>\n",
       "  <tbody>\n",
       "    <tr>\n",
       "      <th>128</th>\n",
       "      <td>129</td>\n",
       "      <td>Oranjestad</td>\n",
       "      <td>ABW</td>\n",
       "      <td></td>\n",
       "      <td>29034</td>\n",
       "    </tr>\n",
       "    <tr>\n",
       "      <th>3</th>\n",
       "      <td>4</td>\n",
       "      <td>Mazar-e-Sharif</td>\n",
       "      <td>AFG</td>\n",
       "      <td>Balkh</td>\n",
       "      <td>127800</td>\n",
       "    </tr>\n",
       "    <tr>\n",
       "      <th>2</th>\n",
       "      <td>3</td>\n",
       "      <td>Herat</td>\n",
       "      <td>AFG</td>\n",
       "      <td>Herat</td>\n",
       "      <td>186800</td>\n",
       "    </tr>\n",
       "    <tr>\n",
       "      <th>1</th>\n",
       "      <td>2</td>\n",
       "      <td>Qandahar</td>\n",
       "      <td>AFG</td>\n",
       "      <td>Qandahar</td>\n",
       "      <td>237500</td>\n",
       "    </tr>\n",
       "    <tr>\n",
       "      <th>0</th>\n",
       "      <td>1</td>\n",
       "      <td>Kabul</td>\n",
       "      <td>AFG</td>\n",
       "      <td>Kabol</td>\n",
       "      <td>1780000</td>\n",
       "    </tr>\n",
       "    <tr>\n",
       "      <th>59</th>\n",
       "      <td>60</td>\n",
       "      <td>Namibe</td>\n",
       "      <td>AGO</td>\n",
       "      <td>Namibe</td>\n",
       "      <td>118200</td>\n",
       "    </tr>\n",
       "    <tr>\n",
       "      <th>58</th>\n",
       "      <td>59</td>\n",
       "      <td>Benguela</td>\n",
       "      <td>AGO</td>\n",
       "      <td>Benguela</td>\n",
       "      <td>128300</td>\n",
       "    </tr>\n",
       "    <tr>\n",
       "      <th>57</th>\n",
       "      <td>58</td>\n",
       "      <td>Lobito</td>\n",
       "      <td>AGO</td>\n",
       "      <td>Benguela</td>\n",
       "      <td>130000</td>\n",
       "    </tr>\n",
       "    <tr>\n",
       "      <th>56</th>\n",
       "      <td>57</td>\n",
       "      <td>Huambo</td>\n",
       "      <td>AGO</td>\n",
       "      <td>Huambo</td>\n",
       "      <td>163100</td>\n",
       "    </tr>\n",
       "    <tr>\n",
       "      <th>55</th>\n",
       "      <td>56</td>\n",
       "      <td>Luanda</td>\n",
       "      <td>AGO</td>\n",
       "      <td>Luanda</td>\n",
       "      <td>2022000</td>\n",
       "    </tr>\n",
       "  </tbody>\n",
       "</table>\n",
       "</div>"
      ],
      "text/plain": [
       "      id            name countrycode  district  population\n",
       "128  129      Oranjestad         ABW                29034\n",
       "3      4  Mazar-e-Sharif         AFG     Balkh      127800\n",
       "2      3           Herat         AFG     Herat      186800\n",
       "1      2        Qandahar         AFG  Qandahar      237500\n",
       "0      1           Kabul         AFG     Kabol     1780000\n",
       "59    60          Namibe         AGO    Namibe      118200\n",
       "58    59        Benguela         AGO  Benguela      128300\n",
       "57    58          Lobito         AGO  Benguela      130000\n",
       "56    57          Huambo         AGO    Huambo      163100\n",
       "55    56          Luanda         AGO    Luanda     2022000"
      ]
     },
     "execution_count": 19,
     "metadata": {},
     "output_type": "execute_result"
    }
   ],
   "source": [
    "city.sort(['countrycode','population']).head(10)"
   ]
  },
  {
   "cell_type": "markdown",
   "metadata": {},
   "source": [
    "## Groupby\n",
    "\n",
    "The next operator is groupby, which gives us a huge amount of additional power.  Think of the groupby operator as a kind of extension of sort.  That is group by first sorts the relation according to the columns given it.  Think of a group as the set of columns that all have the same value for the column we are grouping on.  \n",
    "\n",
    "![](groupby1.png)\n",
    "\n",
    "\n",
    "But then the real power of the groupby operator is that we can summarize the data in the group in one of several ways.  \n",
    "\n",
    "* count -- simply count the number of rows in the group.\n",
    "* mean -- take the average of a numerical value in a column for all the rows in the group\n",
    "* max -- find the max of a numerical value in a column for all the rows in the group\n",
    "* min -- find the min of a numerical value in a column for all the rows in the group\n",
    "* sum -- take the average of a numerical value in a column for all the rows in the group\n",
    "* median -- find the median a numerical value in a column for all the rows in the group\n",
    "\n",
    "![](groupby2.png)\n",
    "\n",
    "\n",
    "The image you should have in mind is that after we have grouped all the rows together than have the same value for the groupby column, we squash them all together into a single row, with some summary (or **aggregate** value.)\n",
    "\n",
    "Using grouby transforms the original relation in two ways:\n",
    "\n",
    "* It reduces the number of rows since we are grouping rows together and then squashing them down to a single row.  \n",
    "* It also reduces the number of columns to include **only** the groupby column and the result of our aggregate operator.\n",
    "\n",
    "For example, lets use groupby to count the number of cities in each country.  To do this we will group by the countrycode and count the number of names"
   ]
  },
  {
   "cell_type": "code",
   "execution_count": 21,
   "metadata": {
    "collapsed": false
   },
   "outputs": [
    {
     "data": {
      "text/html": [
       "<div>\n",
       "<table border=\"1\" class=\"dataframe\">\n",
       "  <thead>\n",
       "    <tr style=\"text-align: right;\">\n",
       "      <th></th>\n",
       "      <th>countrycode</th>\n",
       "      <th>count_name</th>\n",
       "    </tr>\n",
       "  </thead>\n",
       "  <tbody>\n",
       "    <tr>\n",
       "      <th>0</th>\n",
       "      <td>ABW</td>\n",
       "      <td>1</td>\n",
       "    </tr>\n",
       "    <tr>\n",
       "      <th>1</th>\n",
       "      <td>AFG</td>\n",
       "      <td>4</td>\n",
       "    </tr>\n",
       "    <tr>\n",
       "      <th>2</th>\n",
       "      <td>AGO</td>\n",
       "      <td>5</td>\n",
       "    </tr>\n",
       "    <tr>\n",
       "      <th>3</th>\n",
       "      <td>AIA</td>\n",
       "      <td>2</td>\n",
       "    </tr>\n",
       "    <tr>\n",
       "      <th>4</th>\n",
       "      <td>ALB</td>\n",
       "      <td>1</td>\n",
       "    </tr>\n",
       "  </tbody>\n",
       "</table>\n",
       "</div>"
      ],
      "text/plain": [
       "  countrycode  count_name\n",
       "0         ABW           1\n",
       "1         AFG           4\n",
       "2         AGO           5\n",
       "3         AIA           2\n",
       "4         ALB           1"
      ]
     },
     "execution_count": 21,
     "metadata": {},
     "output_type": "execute_result"
    }
   ],
   "source": [
    "city.groupby(['countrycode']).count('name').head()"
   ]
  },
  {
   "cell_type": "markdown",
   "metadata": {},
   "source": [
    "Lets also look at an example where we group by two columns.  In this example we will first group by country, and then within each country we will group by district.  This will tell us the total population of the district within each country."
   ]
  },
  {
   "cell_type": "code",
   "execution_count": 25,
   "metadata": {
    "collapsed": false
   },
   "outputs": [
    {
     "data": {
      "text/html": [
       "<div>\n",
       "<table border=\"1\" class=\"dataframe\">\n",
       "  <thead>\n",
       "    <tr style=\"text-align: right;\">\n",
       "      <th></th>\n",
       "      <th>countrycode</th>\n",
       "      <th>district</th>\n",
       "      <th>sum_population</th>\n",
       "    </tr>\n",
       "  </thead>\n",
       "  <tbody>\n",
       "    <tr>\n",
       "      <th>0</th>\n",
       "      <td>ABW</td>\n",
       "      <td></td>\n",
       "      <td>29034</td>\n",
       "    </tr>\n",
       "    <tr>\n",
       "      <th>1</th>\n",
       "      <td>AFG</td>\n",
       "      <td>Balkh</td>\n",
       "      <td>127800</td>\n",
       "    </tr>\n",
       "    <tr>\n",
       "      <th>2</th>\n",
       "      <td>AFG</td>\n",
       "      <td>Herat</td>\n",
       "      <td>186800</td>\n",
       "    </tr>\n",
       "    <tr>\n",
       "      <th>3</th>\n",
       "      <td>AFG</td>\n",
       "      <td>Kabol</td>\n",
       "      <td>1780000</td>\n",
       "    </tr>\n",
       "    <tr>\n",
       "      <th>4</th>\n",
       "      <td>AFG</td>\n",
       "      <td>Qandahar</td>\n",
       "      <td>237500</td>\n",
       "    </tr>\n",
       "    <tr>\n",
       "      <th>5</th>\n",
       "      <td>AGO</td>\n",
       "      <td>Benguela</td>\n",
       "      <td>258300</td>\n",
       "    </tr>\n",
       "    <tr>\n",
       "      <th>6</th>\n",
       "      <td>AGO</td>\n",
       "      <td>Huambo</td>\n",
       "      <td>163100</td>\n",
       "    </tr>\n",
       "    <tr>\n",
       "      <th>7</th>\n",
       "      <td>AGO</td>\n",
       "      <td>Luanda</td>\n",
       "      <td>2022000</td>\n",
       "    </tr>\n",
       "    <tr>\n",
       "      <th>8</th>\n",
       "      <td>AGO</td>\n",
       "      <td>Namibe</td>\n",
       "      <td>118200</td>\n",
       "    </tr>\n",
       "    <tr>\n",
       "      <th>9</th>\n",
       "      <td>AIA</td>\n",
       "      <td></td>\n",
       "      <td>1556</td>\n",
       "    </tr>\n",
       "  </tbody>\n",
       "</table>\n",
       "</div>"
      ],
      "text/plain": [
       "  countrycode  district  sum_population\n",
       "0         ABW                    29034\n",
       "1         AFG     Balkh          127800\n",
       "2         AFG     Herat          186800\n",
       "3         AFG     Kabol         1780000\n",
       "4         AFG  Qandahar          237500\n",
       "5         AGO  Benguela          258300\n",
       "6         AGO    Huambo          163100\n",
       "7         AGO    Luanda         2022000\n",
       "8         AGO    Namibe          118200\n",
       "9         AIA                     1556"
      ]
     },
     "execution_count": 25,
     "metadata": {},
     "output_type": "execute_result"
    }
   ],
   "source": [
    "city.groupby(['countrycode','district']).sum('population').head(10)"
   ]
  },
  {
   "cell_type": "markdown",
   "metadata": {},
   "source": [
    "## Rename\n",
    "\n",
    "The rename operator allows us to change the name of a column.  It has no other effect on the relation besides giving the column a new name.\n"
   ]
  },
  {
   "cell_type": "code",
   "execution_count": 26,
   "metadata": {
    "collapsed": false
   },
   "outputs": [
    {
     "data": {
      "text/html": [
       "<div>\n",
       "<table border=\"1\" class=\"dataframe\">\n",
       "  <thead>\n",
       "    <tr style=\"text-align: right;\">\n",
       "      <th></th>\n",
       "      <th>id</th>\n",
       "      <th>cityname</th>\n",
       "      <th>countrycode</th>\n",
       "      <th>district</th>\n",
       "      <th>population</th>\n",
       "    </tr>\n",
       "  </thead>\n",
       "  <tbody>\n",
       "    <tr>\n",
       "      <th>0</th>\n",
       "      <td>1</td>\n",
       "      <td>Kabul</td>\n",
       "      <td>AFG</td>\n",
       "      <td>Kabol</td>\n",
       "      <td>1780000</td>\n",
       "    </tr>\n",
       "    <tr>\n",
       "      <th>1</th>\n",
       "      <td>2</td>\n",
       "      <td>Qandahar</td>\n",
       "      <td>AFG</td>\n",
       "      <td>Qandahar</td>\n",
       "      <td>237500</td>\n",
       "    </tr>\n",
       "    <tr>\n",
       "      <th>2</th>\n",
       "      <td>3</td>\n",
       "      <td>Herat</td>\n",
       "      <td>AFG</td>\n",
       "      <td>Herat</td>\n",
       "      <td>186800</td>\n",
       "    </tr>\n",
       "    <tr>\n",
       "      <th>3</th>\n",
       "      <td>4</td>\n",
       "      <td>Mazar-e-Sharif</td>\n",
       "      <td>AFG</td>\n",
       "      <td>Balkh</td>\n",
       "      <td>127800</td>\n",
       "    </tr>\n",
       "    <tr>\n",
       "      <th>4</th>\n",
       "      <td>5</td>\n",
       "      <td>Amsterdam</td>\n",
       "      <td>NLD</td>\n",
       "      <td>Noord-Holland</td>\n",
       "      <td>731200</td>\n",
       "    </tr>\n",
       "  </tbody>\n",
       "</table>\n",
       "</div>"
      ],
      "text/plain": [
       "  id        cityname countrycode       district  population\n",
       "0  1           Kabul         AFG          Kabol     1780000\n",
       "1  2        Qandahar         AFG       Qandahar      237500\n",
       "2  3           Herat         AFG          Herat      186800\n",
       "3  4  Mazar-e-Sharif         AFG          Balkh      127800\n",
       "4  5       Amsterdam         NLD  Noord-Holland      731200"
      ]
     },
     "execution_count": 26,
     "metadata": {},
     "output_type": "execute_result"
    }
   ],
   "source": [
    "city.rename('name','cityname').head()"
   ]
  },
  {
   "cell_type": "markdown",
   "metadata": {},
   "source": [
    "## Extend\n",
    "\n",
    "The extend operator allows us to ADD a new column to the relation.  For example lets say we wanted to add a column to the country relation that shows us the population density.  We could divide the land area of the country by its population giving us the population density"
   ]
  },
  {
   "cell_type": "code",
   "execution_count": 31,
   "metadata": {
    "collapsed": false
   },
   "outputs": [
    {
     "data": {
      "text/html": [
       "<div>\n",
       "<table border=\"1\" class=\"dataframe\">\n",
       "  <thead>\n",
       "    <tr style=\"text-align: right;\">\n",
       "      <th></th>\n",
       "      <th>code</th>\n",
       "      <th>name</th>\n",
       "      <th>continent</th>\n",
       "      <th>region</th>\n",
       "      <th>surfacearea</th>\n",
       "      <th>indepyear</th>\n",
       "      <th>population</th>\n",
       "      <th>lifeexpectancy</th>\n",
       "      <th>gnp</th>\n",
       "      <th>gnpold</th>\n",
       "      <th>localname</th>\n",
       "      <th>governmentform</th>\n",
       "      <th>headofstate</th>\n",
       "      <th>capital</th>\n",
       "      <th>code2</th>\n",
       "      <th>density</th>\n",
       "    </tr>\n",
       "  </thead>\n",
       "  <tbody>\n",
       "    <tr>\n",
       "      <th>0</th>\n",
       "      <td>AFG</td>\n",
       "      <td>Afghanistan</td>\n",
       "      <td>Asia</td>\n",
       "      <td>Southern and Central Asia</td>\n",
       "      <td>652090</td>\n",
       "      <td>1919</td>\n",
       "      <td>22720000</td>\n",
       "      <td>45.9</td>\n",
       "      <td>5976</td>\n",
       "      <td>NaN</td>\n",
       "      <td>Afganistan/Afqanestan</td>\n",
       "      <td>Islamic Emirate</td>\n",
       "      <td>Mohammad Omar</td>\n",
       "      <td>1</td>\n",
       "      <td>AF</td>\n",
       "      <td>34.841816</td>\n",
       "    </tr>\n",
       "    <tr>\n",
       "      <th>1</th>\n",
       "      <td>NLD</td>\n",
       "      <td>Netherlands</td>\n",
       "      <td>Europe</td>\n",
       "      <td>Western Europe</td>\n",
       "      <td>41526</td>\n",
       "      <td>1581</td>\n",
       "      <td>15864000</td>\n",
       "      <td>78.3</td>\n",
       "      <td>371362</td>\n",
       "      <td>360478</td>\n",
       "      <td>Nederland</td>\n",
       "      <td>Constitutional Monarchy</td>\n",
       "      <td>Beatrix</td>\n",
       "      <td>5</td>\n",
       "      <td>NL</td>\n",
       "      <td>382.025719</td>\n",
       "    </tr>\n",
       "    <tr>\n",
       "      <th>2</th>\n",
       "      <td>ANT</td>\n",
       "      <td>Netherlands Antilles</td>\n",
       "      <td>North America</td>\n",
       "      <td>Caribbean</td>\n",
       "      <td>800</td>\n",
       "      <td>NaN</td>\n",
       "      <td>217000</td>\n",
       "      <td>74.7</td>\n",
       "      <td>1941</td>\n",
       "      <td>NaN</td>\n",
       "      <td>Nederlandse Antillen</td>\n",
       "      <td>Nonmetropolitan Territory of The Netherlands</td>\n",
       "      <td>Beatrix</td>\n",
       "      <td>33</td>\n",
       "      <td>AN</td>\n",
       "      <td>271.250000</td>\n",
       "    </tr>\n",
       "    <tr>\n",
       "      <th>3</th>\n",
       "      <td>ALB</td>\n",
       "      <td>Albania</td>\n",
       "      <td>Europe</td>\n",
       "      <td>Southern Europe</td>\n",
       "      <td>28748</td>\n",
       "      <td>1912</td>\n",
       "      <td>3401200</td>\n",
       "      <td>71.6</td>\n",
       "      <td>3205</td>\n",
       "      <td>2500</td>\n",
       "      <td>Shqipëria</td>\n",
       "      <td>Republic</td>\n",
       "      <td>Rexhep Mejdani</td>\n",
       "      <td>34</td>\n",
       "      <td>AL</td>\n",
       "      <td>118.310839</td>\n",
       "    </tr>\n",
       "    <tr>\n",
       "      <th>4</th>\n",
       "      <td>DZA</td>\n",
       "      <td>Algeria</td>\n",
       "      <td>Africa</td>\n",
       "      <td>Northern Africa</td>\n",
       "      <td>2381740</td>\n",
       "      <td>1962</td>\n",
       "      <td>31471000</td>\n",
       "      <td>69.7</td>\n",
       "      <td>49982</td>\n",
       "      <td>46966</td>\n",
       "      <td>Al-Jazair/Algérie</td>\n",
       "      <td>Republic</td>\n",
       "      <td>Abdelaziz Bouteflika</td>\n",
       "      <td>35</td>\n",
       "      <td>DZ</td>\n",
       "      <td>13.213449</td>\n",
       "    </tr>\n",
       "  </tbody>\n",
       "</table>\n",
       "</div>"
      ],
      "text/plain": [
       "  code                  name      continent                     region  \\\n",
       "0  AFG           Afghanistan           Asia  Southern and Central Asia   \n",
       "1  NLD           Netherlands         Europe             Western Europe   \n",
       "2  ANT  Netherlands Antilles  North America                  Caribbean   \n",
       "3  ALB               Albania         Europe            Southern Europe   \n",
       "4  DZA               Algeria         Africa            Northern Africa   \n",
       "\n",
       "   surfacearea  indepyear  population  lifeexpectancy     gnp  gnpold  \\\n",
       "0       652090       1919    22720000            45.9    5976     NaN   \n",
       "1        41526       1581    15864000            78.3  371362  360478   \n",
       "2          800        NaN      217000            74.7    1941     NaN   \n",
       "3        28748       1912     3401200            71.6    3205    2500   \n",
       "4      2381740       1962    31471000            69.7   49982   46966   \n",
       "\n",
       "               localname                                governmentform  \\\n",
       "0  Afganistan/Afqanestan                               Islamic Emirate   \n",
       "1              Nederland                       Constitutional Monarchy   \n",
       "2   Nederlandse Antillen  Nonmetropolitan Territory of The Netherlands   \n",
       "3              Shqipëria                                      Republic   \n",
       "4     Al-Jazair/Algérie                                      Republic   \n",
       "\n",
       "            headofstate  capital code2     density  \n",
       "0         Mohammad Omar        1    AF   34.841816  \n",
       "1               Beatrix        5    NL  382.025719  \n",
       "2               Beatrix       33    AN  271.250000  \n",
       "3        Rexhep Mejdani       34    AL  118.310839  \n",
       "4  Abdelaziz Bouteflika       35    DZ   13.213449  "
      ]
     },
     "execution_count": 31,
     "metadata": {},
     "output_type": "execute_result"
    }
   ],
   "source": [
    "country.extend('density',country.population/country.surfacearea).head()\n",
    "\n"
   ]
  },
  {
   "cell_type": "markdown",
   "metadata": {},
   "source": [
    "OK, thats a lot of information, so lets combine extend and project to show us the name of the country, the surface area, the population, and the calculated density"
   ]
  },
  {
   "cell_type": "code",
   "execution_count": 32,
   "metadata": {
    "collapsed": false
   },
   "outputs": [
    {
     "data": {
      "text/html": [
       "<div>\n",
       "<table border=\"1\" class=\"dataframe\">\n",
       "  <thead>\n",
       "    <tr style=\"text-align: right;\">\n",
       "      <th></th>\n",
       "      <th>name</th>\n",
       "      <th>surfacearea</th>\n",
       "      <th>population</th>\n",
       "      <th>density</th>\n",
       "    </tr>\n",
       "  </thead>\n",
       "  <tbody>\n",
       "    <tr>\n",
       "      <th>0</th>\n",
       "      <td>Afghanistan</td>\n",
       "      <td>652090</td>\n",
       "      <td>22720000</td>\n",
       "      <td>34.841816</td>\n",
       "    </tr>\n",
       "    <tr>\n",
       "      <th>1</th>\n",
       "      <td>Netherlands</td>\n",
       "      <td>41526</td>\n",
       "      <td>15864000</td>\n",
       "      <td>382.025719</td>\n",
       "    </tr>\n",
       "    <tr>\n",
       "      <th>2</th>\n",
       "      <td>Netherlands Antilles</td>\n",
       "      <td>800</td>\n",
       "      <td>217000</td>\n",
       "      <td>271.250000</td>\n",
       "    </tr>\n",
       "    <tr>\n",
       "      <th>3</th>\n",
       "      <td>Albania</td>\n",
       "      <td>28748</td>\n",
       "      <td>3401200</td>\n",
       "      <td>118.310839</td>\n",
       "    </tr>\n",
       "    <tr>\n",
       "      <th>4</th>\n",
       "      <td>Algeria</td>\n",
       "      <td>2381740</td>\n",
       "      <td>31471000</td>\n",
       "      <td>13.213449</td>\n",
       "    </tr>\n",
       "  </tbody>\n",
       "</table>\n",
       "</div>"
      ],
      "text/plain": [
       "                   name  surfacearea  population     density\n",
       "0           Afghanistan       652090    22720000   34.841816\n",
       "1           Netherlands        41526    15864000  382.025719\n",
       "2  Netherlands Antilles          800      217000  271.250000\n",
       "3               Albania        28748     3401200  118.310839\n",
       "4               Algeria      2381740    31471000   13.213449"
      ]
     },
     "execution_count": 32,
     "metadata": {},
     "output_type": "execute_result"
    }
   ],
   "source": [
    "country.extend('density',country.population/country.surfacearea).project(['name','surfacearea','population','density']).head()"
   ]
  }
 ],
 "metadata": {
  "kernelspec": {
   "display_name": "Python 3",
   "language": "python",
   "name": "python3"
  },
  "language_info": {
   "codemirror_mode": {
    "name": "ipython",
    "version": 3
   },
   "file_extension": ".py",
   "mimetype": "text/x-python",
   "name": "python",
   "nbconvert_exporter": "python",
   "pygments_lexer": "ipython3",
   "version": "3.4.3"
  }
 },
 "nbformat": 4,
 "nbformat_minor": 0
}
