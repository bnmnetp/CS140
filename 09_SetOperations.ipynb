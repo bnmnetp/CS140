{
 "cells": [
  {
   "cell_type": "markdown",
   "metadata": {},
   "source": [
    "# Set Operations\n",
    "\n",
    "Remember your high school algebra?  Venn Diagrams?  Well we can put some of that to good use to answer some interesting queries"
   ]
  },
  {
   "cell_type": "markdown",
   "metadata": {},
   "source": [
    "## Union Compatible\n",
    "\n",
    "All set operations must be done on relations (tables) that are union compatible.  This means that the tables must have\n",
    "* The same number of columns\n",
    "* The same column names\n",
    "* The data in the columns must be the same type.\n",
    "\n",
    "![](union.png)"
   ]
  },
  {
   "cell_type": "markdown",
   "metadata": {},
   "source": [
    "## Union\n",
    "\n",
    "The first set operation is the Union.  This one is easy, it is simple the joining of two union compatible relations.  It is useful when you want to include two groups of things in the same result, but it would be very hard or impossible to accomplish with a single query.  For example:\n",
    "\n",
    "**We want a list of the employees that have had three or more titles OR that have had more than 10 raises.**\n",
    "\n",
    "Each of these questions is easy to answer by itself, but probably impossible to do with a single query by joining.\n",
    "\n",
    "\n",
    "**Part 1 -- get the emp_nos of the employes with 3 or more titles**\n"
   ]
  },
  {
   "cell_type": "code",
   "execution_count": 12,
   "metadata": {
    "collapsed": false
   },
   "outputs": [
    {
     "name": "stdout",
     "output_type": "stream",
     "text": [
      "10 rows affected.\n"
     ]
    },
    {
     "data": {
      "text/html": [
       "<table>\n",
       "    <tr>\n",
       "        <th>emp_no</th>\n",
       "        <th>count</th>\n",
       "    </tr>\n",
       "    <tr>\n",
       "        <td>10009</td>\n",
       "        <td>3</td>\n",
       "    </tr>\n",
       "    <tr>\n",
       "        <td>10066</td>\n",
       "        <td>3</td>\n",
       "    </tr>\n",
       "    <tr>\n",
       "        <td>10258</td>\n",
       "        <td>3</td>\n",
       "    </tr>\n",
       "    <tr>\n",
       "        <td>10451</td>\n",
       "        <td>3</td>\n",
       "    </tr>\n",
       "    <tr>\n",
       "        <td>10571</td>\n",
       "        <td>3</td>\n",
       "    </tr>\n",
       "    <tr>\n",
       "        <td>10612</td>\n",
       "        <td>3</td>\n",
       "    </tr>\n",
       "    <tr>\n",
       "        <td>10628</td>\n",
       "        <td>3</td>\n",
       "    </tr>\n",
       "    <tr>\n",
       "        <td>10634</td>\n",
       "        <td>3</td>\n",
       "    </tr>\n",
       "    <tr>\n",
       "        <td>11003</td>\n",
       "        <td>3</td>\n",
       "    </tr>\n",
       "    <tr>\n",
       "        <td>11027</td>\n",
       "        <td>3</td>\n",
       "    </tr>\n",
       "</table>"
      ],
      "text/plain": [
       "[(10009, 3),\n",
       " (10066, 3),\n",
       " (10258, 3),\n",
       " (10451, 3),\n",
       " (10571, 3),\n",
       " (10612, 3),\n",
       " (10628, 3),\n",
       " (10634, 3),\n",
       " (11003, 3),\n",
       " (11027, 3)]"
      ]
     },
     "execution_count": 12,
     "metadata": {},
     "output_type": "execute_result"
    }
   ],
   "source": [
    "%%sql\n",
    "\n",
    "select emp_no, count(*)\n",
    "from titles\n",
    "group by emp_no\n",
    "having count(*) >= 3\n",
    "limit 10"
   ]
  },
  {
   "cell_type": "markdown",
   "metadata": {},
   "source": [
    "**Part 2 -- get the emp_nos of the employees with more than 10 raises**\n"
   ]
  },
  {
   "cell_type": "code",
   "execution_count": 13,
   "metadata": {
    "collapsed": false
   },
   "outputs": [
    {
     "name": "stdout",
     "output_type": "stream",
     "text": [
      "10 rows affected.\n"
     ]
    },
    {
     "data": {
      "text/html": [
       "<table>\n",
       "    <tr>\n",
       "        <th>emp_no</th>\n",
       "        <th>count</th>\n",
       "    </tr>\n",
       "    <tr>\n",
       "        <td>10001</td>\n",
       "        <td>17</td>\n",
       "    </tr>\n",
       "    <tr>\n",
       "        <td>10004</td>\n",
       "        <td>16</td>\n",
       "    </tr>\n",
       "    <tr>\n",
       "        <td>10005</td>\n",
       "        <td>13</td>\n",
       "    </tr>\n",
       "    <tr>\n",
       "        <td>10006</td>\n",
       "        <td>12</td>\n",
       "    </tr>\n",
       "    <tr>\n",
       "        <td>10007</td>\n",
       "        <td>14</td>\n",
       "    </tr>\n",
       "    <tr>\n",
       "        <td>10009</td>\n",
       "        <td>18</td>\n",
       "    </tr>\n",
       "    <tr>\n",
       "        <td>10013</td>\n",
       "        <td>17</td>\n",
       "    </tr>\n",
       "    <tr>\n",
       "        <td>10018</td>\n",
       "        <td>16</td>\n",
       "    </tr>\n",
       "    <tr>\n",
       "        <td>10021</td>\n",
       "        <td>15</td>\n",
       "    </tr>\n",
       "    <tr>\n",
       "        <td>10025</td>\n",
       "        <td>11</td>\n",
       "    </tr>\n",
       "</table>"
      ],
      "text/plain": [
       "[(10001, 17),\n",
       " (10004, 16),\n",
       " (10005, 13),\n",
       " (10006, 12),\n",
       " (10007, 14),\n",
       " (10009, 18),\n",
       " (10013, 17),\n",
       " (10018, 16),\n",
       " (10021, 15),\n",
       " (10025, 11)]"
      ]
     },
     "execution_count": 13,
     "metadata": {},
     "output_type": "execute_result"
    }
   ],
   "source": [
    "%%sql\n",
    "\n",
    "select emp_no, count(*)\n",
    "from salaries\n",
    "group by emp_no\n",
    "having count(*) > 10\n",
    "limit 10"
   ]
  },
  {
   "cell_type": "markdown",
   "metadata": {},
   "source": [
    "Notice how similar the two queries are.  Now we can answer the question by using union to glue the two results together."
   ]
  },
  {
   "cell_type": "code",
   "execution_count": 14,
   "metadata": {
    "collapsed": false
   },
   "outputs": [
    {
     "name": "stdout",
     "output_type": "stream",
     "text": [
      "10 rows affected.\n"
     ]
    },
    {
     "data": {
      "text/html": [
       "<table>\n",
       "    <tr>\n",
       "        <th>emp_no</th>\n",
       "        <th>count</th>\n",
       "    </tr>\n",
       "    <tr>\n",
       "        <td>10001</td>\n",
       "        <td>17</td>\n",
       "    </tr>\n",
       "    <tr>\n",
       "        <td>10004</td>\n",
       "        <td>16</td>\n",
       "    </tr>\n",
       "    <tr>\n",
       "        <td>10005</td>\n",
       "        <td>13</td>\n",
       "    </tr>\n",
       "    <tr>\n",
       "        <td>10006</td>\n",
       "        <td>12</td>\n",
       "    </tr>\n",
       "    <tr>\n",
       "        <td>10007</td>\n",
       "        <td>14</td>\n",
       "    </tr>\n",
       "    <tr>\n",
       "        <td>10009</td>\n",
       "        <td>3</td>\n",
       "    </tr>\n",
       "    <tr>\n",
       "        <td>10009</td>\n",
       "        <td>18</td>\n",
       "    </tr>\n",
       "    <tr>\n",
       "        <td>10013</td>\n",
       "        <td>17</td>\n",
       "    </tr>\n",
       "    <tr>\n",
       "        <td>10018</td>\n",
       "        <td>16</td>\n",
       "    </tr>\n",
       "    <tr>\n",
       "        <td>10021</td>\n",
       "        <td>15</td>\n",
       "    </tr>\n",
       "</table>"
      ],
      "text/plain": [
       "[(10001, 17),\n",
       " (10004, 16),\n",
       " (10005, 13),\n",
       " (10006, 12),\n",
       " (10007, 14),\n",
       " (10009, 3),\n",
       " (10009, 18),\n",
       " (10013, 17),\n",
       " (10018, 16),\n",
       " (10021, 15)]"
      ]
     },
     "execution_count": 14,
     "metadata": {},
     "output_type": "execute_result"
    }
   ],
   "source": [
    "%%sql\n",
    "\n",
    "select emp_no, count(*)\n",
    "from salaries\n",
    "group by emp_no\n",
    "having count(*) > 10\n",
    "    UNION\n",
    "select emp_no, count(*)\n",
    "from titles\n",
    "group by emp_no\n",
    "having count(*) >= 3\n",
    "limit 10"
   ]
  },
  {
   "cell_type": "markdown",
   "metadata": {},
   "source": [
    "Finally we can take the union query and put it into the from clause of an outer query so that we can show the first and last names."
   ]
  },
  {
   "cell_type": "code",
   "execution_count": null,
   "metadata": {
    "collapsed": true
   },
   "outputs": [],
   "source": [
    "select first_name, last_name\n",
    "from\n",
    "    (select emp_no, count(*)\n",
    "    from salaries\n",
    "    group by emp_no\n",
    "    having count(*) > 10\n",
    "    union\n",
    "    select emp_no, count(*)\n",
    "    from titles\n",
    "    group by emp_no\n",
    "    having count(*) >= 3) as T natural join employees\n",
    "order by last_name, first_name\n",
    "limit 10"
   ]
  },
  {
   "cell_type": "markdown",
   "metadata": {},
   "source": [
    "## Intersection"
   ]
  },
  {
   "cell_type": "markdown",
   "metadata": {},
   "source": [
    "Intersection, which is the same as natural join, is also useful in the above situtaion.  Suppose we wanted to find the employes that have had 3 or more titles AND more than 10 raises.  Here we would use set intersection.  But it is important that we only look at the employee numbers, not the employee numbers and the count as in order for something to be in the intersection ALL of the values in the row in the first relation must match ALL of the values in the row in the second relation.\n",
    "\n",
    "![](intersect.png)\n"
   ]
  },
  {
   "cell_type": "code",
   "execution_count": 18,
   "metadata": {
    "collapsed": false
   },
   "outputs": [
    {
     "name": "stdout",
     "output_type": "stream",
     "text": [
      "10 rows affected.\n"
     ]
    },
    {
     "data": {
      "text/html": [
       "<table>\n",
       "    <tr>\n",
       "        <th>emp_no</th>\n",
       "    </tr>\n",
       "    <tr>\n",
       "        <td>10009</td>\n",
       "    </tr>\n",
       "    <tr>\n",
       "        <td>10066</td>\n",
       "    </tr>\n",
       "    <tr>\n",
       "        <td>10258</td>\n",
       "    </tr>\n",
       "    <tr>\n",
       "        <td>10451</td>\n",
       "    </tr>\n",
       "    <tr>\n",
       "        <td>10571</td>\n",
       "    </tr>\n",
       "    <tr>\n",
       "        <td>10612</td>\n",
       "    </tr>\n",
       "    <tr>\n",
       "        <td>10628</td>\n",
       "    </tr>\n",
       "    <tr>\n",
       "        <td>10634</td>\n",
       "    </tr>\n",
       "    <tr>\n",
       "        <td>11003</td>\n",
       "    </tr>\n",
       "    <tr>\n",
       "        <td>11027</td>\n",
       "    </tr>\n",
       "</table>"
      ],
      "text/plain": [
       "[(10009,),\n",
       " (10066,),\n",
       " (10258,),\n",
       " (10451,),\n",
       " (10571,),\n",
       " (10612,),\n",
       " (10628,),\n",
       " (10634,),\n",
       " (11003,),\n",
       " (11027,)]"
      ]
     },
     "execution_count": 18,
     "metadata": {},
     "output_type": "execute_result"
    }
   ],
   "source": [
    "%%sql\n",
    "select emp_no\n",
    "from salaries\n",
    "group by emp_no\n",
    "having count(*) > 5\n",
    "    intersect\n",
    "select emp_no\n",
    "from titles\n",
    "group by emp_no\n",
    "having count(*) >= 3\n",
    "limit 10\n"
   ]
  },
  {
   "cell_type": "markdown",
   "metadata": {},
   "source": [
    "For comparison, lets do this as a natural join too."
   ]
  },
  {
   "cell_type": "code",
   "execution_count": 20,
   "metadata": {
    "collapsed": false
   },
   "outputs": [
    {
     "name": "stdout",
     "output_type": "stream",
     "text": [
      "10 rows affected.\n"
     ]
    },
    {
     "data": {
      "text/html": [
       "<table>\n",
       "    <tr>\n",
       "        <th>emp_no</th>\n",
       "    </tr>\n",
       "    <tr>\n",
       "        <td>10009</td>\n",
       "    </tr>\n",
       "    <tr>\n",
       "        <td>10066</td>\n",
       "    </tr>\n",
       "    <tr>\n",
       "        <td>10258</td>\n",
       "    </tr>\n",
       "    <tr>\n",
       "        <td>10451</td>\n",
       "    </tr>\n",
       "    <tr>\n",
       "        <td>10571</td>\n",
       "    </tr>\n",
       "    <tr>\n",
       "        <td>10612</td>\n",
       "    </tr>\n",
       "    <tr>\n",
       "        <td>10628</td>\n",
       "    </tr>\n",
       "    <tr>\n",
       "        <td>10634</td>\n",
       "    </tr>\n",
       "    <tr>\n",
       "        <td>11003</td>\n",
       "    </tr>\n",
       "    <tr>\n",
       "        <td>11027</td>\n",
       "    </tr>\n",
       "</table>"
      ],
      "text/plain": [
       "[(10009,),\n",
       " (10066,),\n",
       " (10258,),\n",
       " (10451,),\n",
       " (10571,),\n",
       " (10612,),\n",
       " (10628,),\n",
       " (10634,),\n",
       " (11003,),\n",
       " (11027,)]"
      ]
     },
     "execution_count": 20,
     "metadata": {},
     "output_type": "execute_result"
    }
   ],
   "source": [
    "%%sql\n",
    "\n",
    "select emp_no\n",
    "from\n",
    "    (select emp_no\n",
    "    from salaries\n",
    "    group by emp_no\n",
    "    having count(*) > 5) as A\n",
    "    natural join\n",
    "    (select emp_no\n",
    "    from titles\n",
    "    group by emp_no\n",
    "    having count(*) >= 3) as B\n",
    "limit 10"
   ]
  },
  {
   "cell_type": "code",
   "execution_count": 19,
   "metadata": {
    "collapsed": false
   },
   "outputs": [
    {
     "name": "stdout",
     "output_type": "stream",
     "text": [
      "10 rows affected.\n"
     ]
    },
    {
     "data": {
      "text/html": [
       "<table>\n",
       "    <tr>\n",
       "        <th>first_name</th>\n",
       "        <th>last_name</th>\n",
       "    </tr>\n",
       "    <tr>\n",
       "        <td>Sigeru</td>\n",
       "        <td>Aamodt</td>\n",
       "    </tr>\n",
       "    <tr>\n",
       "        <td>Raimond</td>\n",
       "        <td>Acton</td>\n",
       "    </tr>\n",
       "    <tr>\n",
       "        <td>Aram</td>\n",
       "        <td>Adachi</td>\n",
       "    </tr>\n",
       "    <tr>\n",
       "        <td>Sungwon</td>\n",
       "        <td>Adachi</td>\n",
       "    </tr>\n",
       "    <tr>\n",
       "        <td>Jessie</td>\n",
       "        <td>Akaboshi</td>\n",
       "    </tr>\n",
       "    <tr>\n",
       "        <td>Moon</td>\n",
       "        <td>Akaboshi</td>\n",
       "    </tr>\n",
       "    <tr>\n",
       "        <td>Tetsurou</td>\n",
       "        <td>Akazan</td>\n",
       "    </tr>\n",
       "    <tr>\n",
       "        <td>Fumitaka</td>\n",
       "        <td>Akiyama</td>\n",
       "    </tr>\n",
       "    <tr>\n",
       "        <td>Troy</td>\n",
       "        <td>Akiyama</td>\n",
       "    </tr>\n",
       "    <tr>\n",
       "        <td>Lenore</td>\n",
       "        <td>Alameldin</td>\n",
       "    </tr>\n",
       "</table>"
      ],
      "text/plain": [
       "[('Sigeru', 'Aamodt'),\n",
       " ('Raimond', 'Acton'),\n",
       " ('Aram', 'Adachi'),\n",
       " ('Sungwon', 'Adachi'),\n",
       " ('Jessie', 'Akaboshi'),\n",
       " ('Moon', 'Akaboshi'),\n",
       " ('Tetsurou', 'Akazan'),\n",
       " ('Fumitaka', 'Akiyama'),\n",
       " ('Troy', 'Akiyama'),\n",
       " ('Lenore', 'Alameldin')]"
      ]
     },
     "execution_count": 19,
     "metadata": {},
     "output_type": "execute_result"
    }
   ],
   "source": [
    "%%sql\n",
    "\n",
    "select first_name, last_name\n",
    "from\n",
    "    (select emp_no\n",
    "    from salaries\n",
    "    group by emp_no\n",
    "    having count(*) > 10\n",
    "    intersect\n",
    "    select emp_no\n",
    "    from titles\n",
    "    group by emp_no\n",
    "    having count(*) >= 3) as T natural join employees\n",
    "order by last_name, first_name\n",
    "limit 10\n"
   ]
  },
  {
   "cell_type": "markdown",
   "metadata": {},
   "source": []
  },
  {
   "cell_type": "markdown",
   "metadata": {},
   "source": [
    "## Set Difference\n",
    "\n",
    "* \"but not\"\n",
    "* except\n",
    "\n",
    "In my personal opinion, the set difference is the \"funnest\" relation operator.  It lest you ask lots of interesting questions.  \n",
    "\n",
    "We want all of the things in one table minus the things that are in the other table.\n",
    "\n",
    "![](except.png)"
   ]
  },
  {
   "cell_type": "code",
   "execution_count": 7,
   "metadata": {
    "collapsed": false
   },
   "outputs": [
    {
     "name": "stdout",
     "output_type": "stream",
     "text": [
      "The sql extension is already loaded. To reload it, use:\n",
      "  %reload_ext sql\n"
     ]
    }
   ],
   "source": [
    "%load_ext sql"
   ]
  },
  {
   "cell_type": "code",
   "execution_count": 8,
   "metadata": {
    "collapsed": false
   },
   "outputs": [
    {
     "data": {
      "text/plain": [
       "'Connected: millbr02@employees'"
      ]
     },
     "execution_count": 8,
     "metadata": {},
     "output_type": "execute_result"
    }
   ],
   "source": [
    "%sql postgresql://millbr02:@localhost/employees"
   ]
  },
  {
   "cell_type": "markdown",
   "metadata": {},
   "source": [
    "**Find all of the employees who have not worked for 'Research'**\n",
    "\n",
    "\n",
    "Lets restate that as find all of the employees minus the employees that have worked for 'Research'\n",
    "\n",
    "**Part 1 -- Find all employees**"
   ]
  },
  {
   "cell_type": "code",
   "execution_count": 21,
   "metadata": {
    "collapsed": false
   },
   "outputs": [
    {
     "name": "stdout",
     "output_type": "stream",
     "text": [
      "10 rows affected.\n"
     ]
    },
    {
     "data": {
      "text/html": [
       "<table>\n",
       "    <tr>\n",
       "        <th>emp_no</th>\n",
       "    </tr>\n",
       "    <tr>\n",
       "        <td>10001</td>\n",
       "    </tr>\n",
       "    <tr>\n",
       "        <td>10002</td>\n",
       "    </tr>\n",
       "    <tr>\n",
       "        <td>10003</td>\n",
       "    </tr>\n",
       "    <tr>\n",
       "        <td>10004</td>\n",
       "    </tr>\n",
       "    <tr>\n",
       "        <td>10005</td>\n",
       "    </tr>\n",
       "    <tr>\n",
       "        <td>10006</td>\n",
       "    </tr>\n",
       "    <tr>\n",
       "        <td>10007</td>\n",
       "    </tr>\n",
       "    <tr>\n",
       "        <td>10008</td>\n",
       "    </tr>\n",
       "    <tr>\n",
       "        <td>10009</td>\n",
       "    </tr>\n",
       "    <tr>\n",
       "        <td>10010</td>\n",
       "    </tr>\n",
       "</table>"
      ],
      "text/plain": [
       "[(10001,),\n",
       " (10002,),\n",
       " (10003,),\n",
       " (10004,),\n",
       " (10005,),\n",
       " (10006,),\n",
       " (10007,),\n",
       " (10008,),\n",
       " (10009,),\n",
       " (10010,)]"
      ]
     },
     "execution_count": 21,
     "metadata": {},
     "output_type": "execute_result"
    }
   ],
   "source": [
    "%%sql\n",
    "\n",
    "select emp_no from employees \n",
    "limit 10"
   ]
  },
  {
   "cell_type": "markdown",
   "metadata": {},
   "source": [
    "**Part 2 -- Find the employees that have worked for research**"
   ]
  },
  {
   "cell_type": "code",
   "execution_count": 22,
   "metadata": {
    "collapsed": false
   },
   "outputs": [
    {
     "name": "stdout",
     "output_type": "stream",
     "text": [
      "10 rows affected.\n"
     ]
    },
    {
     "data": {
      "text/html": [
       "<table>\n",
       "    <tr>\n",
       "        <th>emp_no</th>\n",
       "    </tr>\n",
       "    <tr>\n",
       "        <td>10007</td>\n",
       "    </tr>\n",
       "    <tr>\n",
       "        <td>10015</td>\n",
       "    </tr>\n",
       "    <tr>\n",
       "        <td>10019</td>\n",
       "    </tr>\n",
       "    <tr>\n",
       "        <td>10040</td>\n",
       "    </tr>\n",
       "    <tr>\n",
       "        <td>10046</td>\n",
       "    </tr>\n",
       "    <tr>\n",
       "        <td>10052</td>\n",
       "    </tr>\n",
       "    <tr>\n",
       "        <td>10064</td>\n",
       "    </tr>\n",
       "    <tr>\n",
       "        <td>10070</td>\n",
       "    </tr>\n",
       "    <tr>\n",
       "        <td>10082</td>\n",
       "    </tr>\n",
       "    <tr>\n",
       "        <td>10094</td>\n",
       "    </tr>\n",
       "</table>"
      ],
      "text/plain": [
       "[(10007,),\n",
       " (10015,),\n",
       " (10019,),\n",
       " (10040,),\n",
       " (10046,),\n",
       " (10052,),\n",
       " (10064,),\n",
       " (10070,),\n",
       " (10082,),\n",
       " (10094,)]"
      ]
     },
     "execution_count": 22,
     "metadata": {},
     "output_type": "execute_result"
    }
   ],
   "source": [
    "%%sql\n",
    "\n",
    "select emp_no from departments natural join dept_emp where dept_name = 'Research'\n",
    "limit 10"
   ]
  },
  {
   "cell_type": "markdown",
   "metadata": {},
   "source": [
    "Now we can use the except keyword to do \"all employees\" minus \"employees who worked in Research\""
   ]
  },
  {
   "cell_type": "code",
   "execution_count": 24,
   "metadata": {
    "collapsed": false
   },
   "outputs": [
    {
     "name": "stdout",
     "output_type": "stream",
     "text": [
      "10 rows affected.\n"
     ]
    },
    {
     "data": {
      "text/html": [
       "<table>\n",
       "    <tr>\n",
       "        <th>emp_no</th>\n",
       "    </tr>\n",
       "    <tr>\n",
       "        <td>10001</td>\n",
       "    </tr>\n",
       "    <tr>\n",
       "        <td>10002</td>\n",
       "    </tr>\n",
       "    <tr>\n",
       "        <td>10003</td>\n",
       "    </tr>\n",
       "    <tr>\n",
       "        <td>10004</td>\n",
       "    </tr>\n",
       "    <tr>\n",
       "        <td>10005</td>\n",
       "    </tr>\n",
       "    <tr>\n",
       "        <td>10006</td>\n",
       "    </tr>\n",
       "    <tr>\n",
       "        <td>10008</td>\n",
       "    </tr>\n",
       "    <tr>\n",
       "        <td>10009</td>\n",
       "    </tr>\n",
       "    <tr>\n",
       "        <td>10010</td>\n",
       "    </tr>\n",
       "    <tr>\n",
       "        <td>10011</td>\n",
       "    </tr>\n",
       "</table>"
      ],
      "text/plain": [
       "[(10001,),\n",
       " (10002,),\n",
       " (10003,),\n",
       " (10004,),\n",
       " (10005,),\n",
       " (10006,),\n",
       " (10008,),\n",
       " (10009,),\n",
       " (10010,),\n",
       " (10011,)]"
      ]
     },
     "execution_count": 24,
     "metadata": {},
     "output_type": "execute_result"
    }
   ],
   "source": [
    "%%sql\n",
    "\n",
    "(select emp_no from employees)\n",
    " except \n",
    "(select emp_no from departments natural join dept_emp where dept_name = 'Research') \n",
    "\n",
    "limit 10"
   ]
  },
  {
   "cell_type": "code",
   "execution_count": 25,
   "metadata": {
    "collapsed": false
   },
   "outputs": [
    {
     "name": "stdout",
     "output_type": "stream",
     "text": [
      "10 rows affected.\n"
     ]
    },
    {
     "data": {
      "text/html": [
       "<table>\n",
       "    <tr>\n",
       "        <th>first_name</th>\n",
       "        <th>last_name</th>\n",
       "    </tr>\n",
       "    <tr>\n",
       "        <td>Abdelkader</td>\n",
       "        <td>Aamodt</td>\n",
       "    </tr>\n",
       "    <tr>\n",
       "        <td>Adhemar</td>\n",
       "        <td>Aamodt</td>\n",
       "    </tr>\n",
       "    <tr>\n",
       "        <td>Aemilian</td>\n",
       "        <td>Aamodt</td>\n",
       "    </tr>\n",
       "    <tr>\n",
       "        <td>Alagu</td>\n",
       "        <td>Aamodt</td>\n",
       "    </tr>\n",
       "    <tr>\n",
       "        <td>Aleksander</td>\n",
       "        <td>Aamodt</td>\n",
       "    </tr>\n",
       "    <tr>\n",
       "        <td>Alexius</td>\n",
       "        <td>Aamodt</td>\n",
       "    </tr>\n",
       "    <tr>\n",
       "        <td>Alois</td>\n",
       "        <td>Aamodt</td>\n",
       "    </tr>\n",
       "    <tr>\n",
       "        <td>Aluzio</td>\n",
       "        <td>Aamodt</td>\n",
       "    </tr>\n",
       "    <tr>\n",
       "        <td>Anestis</td>\n",
       "        <td>Aamodt</td>\n",
       "    </tr>\n",
       "    <tr>\n",
       "        <td>Anoosh</td>\n",
       "        <td>Aamodt</td>\n",
       "    </tr>\n",
       "</table>"
      ],
      "text/plain": [
       "[('Abdelkader', 'Aamodt'),\n",
       " ('Adhemar', 'Aamodt'),\n",
       " ('Aemilian', 'Aamodt'),\n",
       " ('Alagu', 'Aamodt'),\n",
       " ('Aleksander', 'Aamodt'),\n",
       " ('Alexius', 'Aamodt'),\n",
       " ('Alois', 'Aamodt'),\n",
       " ('Aluzio', 'Aamodt'),\n",
       " ('Anestis', 'Aamodt'),\n",
       " ('Anoosh', 'Aamodt')]"
      ]
     },
     "execution_count": 25,
     "metadata": {},
     "output_type": "execute_result"
    }
   ],
   "source": [
    "%%sql\n",
    "\n",
    "select first_name, last_name\n",
    "from \n",
    "    ((select emp_no from employees)\n",
    "     except \n",
    "    (select emp_no from departments natural join dept_emp where dept_name = 'Research') ) as T\n",
    "    natural join employees\n",
    "order by last_name, first_name\n",
    "limit 10;\n",
    "\n"
   ]
  }
 ],
 "metadata": {
  "kernelspec": {
   "display_name": "Python 3",
   "language": "python",
   "name": "python3"
  },
  "language_info": {
   "codemirror_mode": {
    "name": "ipython",
    "version": 3
   },
   "file_extension": ".py",
   "mimetype": "text/x-python",
   "name": "python",
   "nbconvert_exporter": "python",
   "pygments_lexer": "ipython3",
   "version": "3.4.3"
  }
 },
 "nbformat": 4,
 "nbformat_minor": 0
}
