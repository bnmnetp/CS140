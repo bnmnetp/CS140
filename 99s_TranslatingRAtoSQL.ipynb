{
 "cells": [
  {
   "cell_type": "markdown",
   "metadata": {},
   "source": [
    "# Translating Relational Algebra to SQL"
   ]
  },
  {
   "cell_type": "markdown",
   "metadata": {},
   "source": [
    "## Anatomy of a Select Statement\n",
    "\n",
    "The SQL select statement has several parts or clauses to it.  Each of these clauses has some correspondence with one or more of the relational algebra operators.\n",
    "\n",
    "* SELECT\n",
    "* FROM\n",
    "* WHERE\n",
    "* GROUP BY\n",
    "* HAVING\n",
    "* ORDER BY\n",
    "* LIMIT\n"
   ]
  },
  {
   "cell_type": "code",
   "execution_count": 26,
   "metadata": {
    "collapsed": false
   },
   "outputs": [
    {
     "name": "stdout",
     "output_type": "stream",
     "text": [
      "The sql extension is already loaded. To reload it, use:\n",
      "  %reload_ext sql\n"
     ]
    }
   ],
   "source": [
    "%load_ext sql"
   ]
  },
  {
   "cell_type": "code",
   "execution_count": 27,
   "metadata": {
    "collapsed": false
   },
   "outputs": [
    {
     "data": {
      "text/plain": [
       "'Connected: millbr02@world'"
      ]
     },
     "execution_count": 27,
     "metadata": {},
     "output_type": "execute_result"
    }
   ],
   "source": [
    "%sql postgresql://millbr02:@localhost/world"
   ]
  },
  {
   "cell_type": "markdown",
   "metadata": {},
   "source": [
    "### Translating a project\n",
    "\n",
    "```sql\n",
    "select column1, column2, ...\n",
    "from relation\n",
    "```"
   ]
  },
  {
   "cell_type": "code",
   "execution_count": 28,
   "metadata": {
    "collapsed": false
   },
   "outputs": [
    {
     "name": "stdout",
     "output_type": "stream",
     "text": [
      "10 rows affected.\n"
     ]
    },
    {
     "data": {
      "text/html": [
       "<table>\n",
       "    <tr>\n",
       "        <th>name</th>\n",
       "        <th>population</th>\n",
       "        <th>surfacearea</th>\n",
       "    </tr>\n",
       "    <tr>\n",
       "        <td>Afghanistan</td>\n",
       "        <td>22720000</td>\n",
       "        <td>652090.0</td>\n",
       "    </tr>\n",
       "    <tr>\n",
       "        <td>Netherlands</td>\n",
       "        <td>15864000</td>\n",
       "        <td>41526.0</td>\n",
       "    </tr>\n",
       "    <tr>\n",
       "        <td>Netherlands Antilles</td>\n",
       "        <td>217000</td>\n",
       "        <td>800.0</td>\n",
       "    </tr>\n",
       "    <tr>\n",
       "        <td>Albania</td>\n",
       "        <td>3401200</td>\n",
       "        <td>28748.0</td>\n",
       "    </tr>\n",
       "    <tr>\n",
       "        <td>Algeria</td>\n",
       "        <td>31471000</td>\n",
       "        <td>2381740.0</td>\n",
       "    </tr>\n",
       "    <tr>\n",
       "        <td>American Samoa</td>\n",
       "        <td>68000</td>\n",
       "        <td>199.0</td>\n",
       "    </tr>\n",
       "    <tr>\n",
       "        <td>Andorra</td>\n",
       "        <td>78000</td>\n",
       "        <td>468.0</td>\n",
       "    </tr>\n",
       "    <tr>\n",
       "        <td>Angola</td>\n",
       "        <td>12878000</td>\n",
       "        <td>1246700.0</td>\n",
       "    </tr>\n",
       "    <tr>\n",
       "        <td>Anguilla</td>\n",
       "        <td>8000</td>\n",
       "        <td>96.0</td>\n",
       "    </tr>\n",
       "    <tr>\n",
       "        <td>Antigua and Barbuda</td>\n",
       "        <td>68000</td>\n",
       "        <td>442.0</td>\n",
       "    </tr>\n",
       "</table>"
      ],
      "text/plain": [
       "[('Afghanistan', 22720000, 652090.0),\n",
       " ('Netherlands', 15864000, 41526.0),\n",
       " ('Netherlands Antilles', 217000, 800.0),\n",
       " ('Albania', 3401200, 28748.0),\n",
       " ('Algeria', 31471000, 2381740.0),\n",
       " ('American Samoa', 68000, 199.0),\n",
       " ('Andorra', 78000, 468.0),\n",
       " ('Angola', 12878000, 1246700.0),\n",
       " ('Anguilla', 8000, 96.0),\n",
       " ('Antigua and Barbuda', 68000, 442.0)]"
      ]
     },
     "execution_count": 28,
     "metadata": {},
     "output_type": "execute_result"
    }
   ],
   "source": [
    "%%sql\n",
    "\n",
    "select name, population, surfacearea\n",
    "from country\n",
    "limit 10"
   ]
  },
  {
   "cell_type": "markdown",
   "metadata": {},
   "source": [
    "## Renaming a column\n",
    "\n",
    "You can rename a column right in the select clause\n"
   ]
  },
  {
   "cell_type": "code",
   "execution_count": 36,
   "metadata": {
    "collapsed": false
   },
   "outputs": [
    {
     "name": "stdout",
     "output_type": "stream",
     "text": [
      "10 rows affected.\n"
     ]
    },
    {
     "data": {
      "text/html": [
       "<table>\n",
       "    <tr>\n",
       "        <th>countryname</th>\n",
       "    </tr>\n",
       "    <tr>\n",
       "        <td>Afghanistan</td>\n",
       "    </tr>\n",
       "    <tr>\n",
       "        <td>Netherlands</td>\n",
       "    </tr>\n",
       "    <tr>\n",
       "        <td>Netherlands Antilles</td>\n",
       "    </tr>\n",
       "    <tr>\n",
       "        <td>Albania</td>\n",
       "    </tr>\n",
       "    <tr>\n",
       "        <td>Algeria</td>\n",
       "    </tr>\n",
       "    <tr>\n",
       "        <td>American Samoa</td>\n",
       "    </tr>\n",
       "    <tr>\n",
       "        <td>Andorra</td>\n",
       "    </tr>\n",
       "    <tr>\n",
       "        <td>Angola</td>\n",
       "    </tr>\n",
       "    <tr>\n",
       "        <td>Anguilla</td>\n",
       "    </tr>\n",
       "    <tr>\n",
       "        <td>Antigua and Barbuda</td>\n",
       "    </tr>\n",
       "</table>"
      ],
      "text/plain": [
       "[('Afghanistan',),\n",
       " ('Netherlands',),\n",
       " ('Netherlands Antilles',),\n",
       " ('Albania',),\n",
       " ('Algeria',),\n",
       " ('American Samoa',),\n",
       " ('Andorra',),\n",
       " ('Angola',),\n",
       " ('Anguilla',),\n",
       " ('Antigua and Barbuda',)]"
      ]
     },
     "execution_count": 36,
     "metadata": {},
     "output_type": "execute_result"
    }
   ],
   "source": [
    "%%sql\n",
    "\n",
    "select name as countryname\n",
    "from country\n",
    "limit 10"
   ]
  },
  {
   "cell_type": "markdown",
   "metadata": {},
   "source": [
    "## eliminating duplicate rows\n",
    "\n",
    "The distinct function allows us to eliminate duplicate rows in sql\n"
   ]
  },
  {
   "cell_type": "code",
   "execution_count": 38,
   "metadata": {
    "collapsed": false
   },
   "outputs": [
    {
     "name": "stdout",
     "output_type": "stream",
     "text": [
      "7 rows affected.\n"
     ]
    },
    {
     "data": {
      "text/html": [
       "<table>\n",
       "    <tr>\n",
       "        <th>continent</th>\n",
       "    </tr>\n",
       "    <tr>\n",
       "        <td>Europe</td>\n",
       "    </tr>\n",
       "    <tr>\n",
       "        <td>Oceania</td>\n",
       "    </tr>\n",
       "    <tr>\n",
       "        <td>Asia</td>\n",
       "    </tr>\n",
       "    <tr>\n",
       "        <td>North America</td>\n",
       "    </tr>\n",
       "    <tr>\n",
       "        <td>Africa</td>\n",
       "    </tr>\n",
       "    <tr>\n",
       "        <td>Antarctica</td>\n",
       "    </tr>\n",
       "    <tr>\n",
       "        <td>South America</td>\n",
       "    </tr>\n",
       "</table>"
      ],
      "text/plain": [
       "[('Europe',),\n",
       " ('Oceania',),\n",
       " ('Asia',),\n",
       " ('North America',),\n",
       " ('Africa',),\n",
       " ('Antarctica',),\n",
       " ('South America',)]"
      ]
     },
     "execution_count": 38,
     "metadata": {},
     "output_type": "execute_result"
    }
   ],
   "source": [
    "%%sql\n",
    "\n",
    "select distinct continent\n",
    "from country\n"
   ]
  },
  {
   "cell_type": "code",
   "execution_count": 41,
   "metadata": {
    "collapsed": false
   },
   "outputs": [
    {
     "name": "stdout",
     "output_type": "stream",
     "text": [
      "25 rows affected.\n"
     ]
    },
    {
     "data": {
      "text/html": [
       "<table>\n",
       "    <tr>\n",
       "        <th>continent</th>\n",
       "        <th>region</th>\n",
       "    </tr>\n",
       "    <tr>\n",
       "        <td>Africa</td>\n",
       "        <td>Northern Africa</td>\n",
       "    </tr>\n",
       "    <tr>\n",
       "        <td>Africa</td>\n",
       "        <td>Southern Africa</td>\n",
       "    </tr>\n",
       "    <tr>\n",
       "        <td>Africa</td>\n",
       "        <td>Central Africa</td>\n",
       "    </tr>\n",
       "    <tr>\n",
       "        <td>Africa</td>\n",
       "        <td>Eastern Africa</td>\n",
       "    </tr>\n",
       "    <tr>\n",
       "        <td>Africa</td>\n",
       "        <td>Western Africa</td>\n",
       "    </tr>\n",
       "    <tr>\n",
       "        <td>Antarctica</td>\n",
       "        <td>Antarctica</td>\n",
       "    </tr>\n",
       "    <tr>\n",
       "        <td>Asia</td>\n",
       "        <td>Eastern Asia</td>\n",
       "    </tr>\n",
       "    <tr>\n",
       "        <td>Asia</td>\n",
       "        <td>Southern and Central Asia</td>\n",
       "    </tr>\n",
       "    <tr>\n",
       "        <td>Asia</td>\n",
       "        <td>Southeast Asia</td>\n",
       "    </tr>\n",
       "    <tr>\n",
       "        <td>Asia</td>\n",
       "        <td>Middle East</td>\n",
       "    </tr>\n",
       "    <tr>\n",
       "        <td>Europe</td>\n",
       "        <td>Nordic Countries</td>\n",
       "    </tr>\n",
       "    <tr>\n",
       "        <td>Europe</td>\n",
       "        <td>Southern Europe</td>\n",
       "    </tr>\n",
       "    <tr>\n",
       "        <td>Europe</td>\n",
       "        <td>Eastern Europe</td>\n",
       "    </tr>\n",
       "    <tr>\n",
       "        <td>Europe</td>\n",
       "        <td>British Islands</td>\n",
       "    </tr>\n",
       "    <tr>\n",
       "        <td>Europe</td>\n",
       "        <td>Baltic Countries</td>\n",
       "    </tr>\n",
       "    <tr>\n",
       "        <td>Europe</td>\n",
       "        <td>Western Europe</td>\n",
       "    </tr>\n",
       "    <tr>\n",
       "        <td>North America</td>\n",
       "        <td>Caribbean</td>\n",
       "    </tr>\n",
       "    <tr>\n",
       "        <td>North America</td>\n",
       "        <td>Central America</td>\n",
       "    </tr>\n",
       "    <tr>\n",
       "        <td>North America</td>\n",
       "        <td>North America</td>\n",
       "    </tr>\n",
       "    <tr>\n",
       "        <td>Oceania</td>\n",
       "        <td>Melanesia</td>\n",
       "    </tr>\n",
       "    <tr>\n",
       "        <td>Oceania</td>\n",
       "        <td>Micronesia</td>\n",
       "    </tr>\n",
       "    <tr>\n",
       "        <td>Oceania</td>\n",
       "        <td>Micronesia/Caribbean</td>\n",
       "    </tr>\n",
       "    <tr>\n",
       "        <td>Oceania</td>\n",
       "        <td>Australia and New Zealand</td>\n",
       "    </tr>\n",
       "    <tr>\n",
       "        <td>Oceania</td>\n",
       "        <td>Polynesia</td>\n",
       "    </tr>\n",
       "    <tr>\n",
       "        <td>South America</td>\n",
       "        <td>South America</td>\n",
       "    </tr>\n",
       "</table>"
      ],
      "text/plain": [
       "[('Africa', 'Northern Africa'),\n",
       " ('Africa', 'Southern Africa'),\n",
       " ('Africa', 'Central Africa'),\n",
       " ('Africa', 'Eastern Africa'),\n",
       " ('Africa', 'Western Africa'),\n",
       " ('Antarctica', 'Antarctica'),\n",
       " ('Asia', 'Eastern Asia'),\n",
       " ('Asia', 'Southern and Central Asia'),\n",
       " ('Asia', 'Southeast Asia'),\n",
       " ('Asia', 'Middle East'),\n",
       " ('Europe', 'Nordic Countries'),\n",
       " ('Europe', 'Southern Europe'),\n",
       " ('Europe', 'Eastern Europe'),\n",
       " ('Europe', 'British Islands'),\n",
       " ('Europe', 'Baltic Countries'),\n",
       " ('Europe', 'Western Europe'),\n",
       " ('North America', 'Caribbean'),\n",
       " ('North America', 'Central America'),\n",
       " ('North America', 'North America'),\n",
       " ('Oceania', 'Melanesia'),\n",
       " ('Oceania', 'Micronesia'),\n",
       " ('Oceania', 'Micronesia/Caribbean'),\n",
       " ('Oceania', 'Australia and New Zealand'),\n",
       " ('Oceania', 'Polynesia'),\n",
       " ('South America', 'South America')]"
      ]
     },
     "execution_count": 41,
     "metadata": {},
     "output_type": "execute_result"
    }
   ],
   "source": [
    "%%sql\n",
    "\n",
    "select distinct continent, region\n",
    "from country\n",
    "order by continent"
   ]
  },
  {
   "cell_type": "markdown",
   "metadata": {},
   "source": [
    "### Translating a query\n",
    "\n",
    "When translating a query, the conditions from the query become part of the SQL where clause:\n",
    "\n",
    "```sql\n",
    "select column1, column2\n",
    "from relation\n",
    "where condition1 and condition2 or condition3\n",
    "```\n",
    "\n",
    "Lets translate a specific example:\n",
    "\n",
    "```python\n",
    "city.query(\"population > 1000000\").project(['name','population'])\n",
    "```\n",
    "\n",
    "Translating this into SQL becomes:\n",
    "\n",
    "```sql\n",
    "select name, population\n",
    "from city\n",
    "where population > 1000000\n",
    "```\n"
   ]
  },
  {
   "cell_type": "code",
   "execution_count": 29,
   "metadata": {
    "collapsed": false
   },
   "outputs": [
    {
     "name": "stdout",
     "output_type": "stream",
     "text": [
      "10 rows affected.\n"
     ]
    },
    {
     "data": {
      "text/html": [
       "<table>\n",
       "    <tr>\n",
       "        <th>name</th>\n",
       "        <th>population</th>\n",
       "    </tr>\n",
       "    <tr>\n",
       "        <td>Afghanistan</td>\n",
       "        <td>22720000</td>\n",
       "    </tr>\n",
       "    <tr>\n",
       "        <td>Netherlands</td>\n",
       "        <td>15864000</td>\n",
       "    </tr>\n",
       "    <tr>\n",
       "        <td>Albania</td>\n",
       "        <td>3401200</td>\n",
       "    </tr>\n",
       "    <tr>\n",
       "        <td>Algeria</td>\n",
       "        <td>31471000</td>\n",
       "    </tr>\n",
       "    <tr>\n",
       "        <td>Angola</td>\n",
       "        <td>12878000</td>\n",
       "    </tr>\n",
       "    <tr>\n",
       "        <td>United Arab Emirates</td>\n",
       "        <td>2441000</td>\n",
       "    </tr>\n",
       "    <tr>\n",
       "        <td>Argentina</td>\n",
       "        <td>37032000</td>\n",
       "    </tr>\n",
       "    <tr>\n",
       "        <td>Armenia</td>\n",
       "        <td>3520000</td>\n",
       "    </tr>\n",
       "    <tr>\n",
       "        <td>Australia</td>\n",
       "        <td>18886000</td>\n",
       "    </tr>\n",
       "    <tr>\n",
       "        <td>Azerbaijan</td>\n",
       "        <td>7734000</td>\n",
       "    </tr>\n",
       "</table>"
      ],
      "text/plain": [
       "[('Afghanistan', 22720000),\n",
       " ('Netherlands', 15864000),\n",
       " ('Albania', 3401200),\n",
       " ('Algeria', 31471000),\n",
       " ('Angola', 12878000),\n",
       " ('United Arab Emirates', 2441000),\n",
       " ('Argentina', 37032000),\n",
       " ('Armenia', 3520000),\n",
       " ('Australia', 18886000),\n",
       " ('Azerbaijan', 7734000)]"
      ]
     },
     "execution_count": 29,
     "metadata": {},
     "output_type": "execute_result"
    }
   ],
   "source": [
    "%%sql\n",
    "\n",
    "select name, population\n",
    "from country\n",
    "where population > 1000000\n",
    "limit 10\n"
   ]
  },
  {
   "cell_type": "markdown",
   "metadata": {},
   "source": [
    "### Translating a sort\n",
    "\n",
    "The sort operator translates directly to the ``order by`` clause of the select statement\n",
    "\n",
    "```sql\n",
    "select column1, column2\n",
    "from relation\n",
    "where condition1\n",
    "order by column1, column2 [optional desc]\n",
    "```\n",
    "\n",
    "The optional desc at the end of an order by clause causes the order of sorting to be reversed."
   ]
  },
  {
   "cell_type": "code",
   "execution_count": 30,
   "metadata": {
    "collapsed": false
   },
   "outputs": [
    {
     "name": "stdout",
     "output_type": "stream",
     "text": [
      "10 rows affected.\n"
     ]
    },
    {
     "data": {
      "text/html": [
       "<table>\n",
       "    <tr>\n",
       "        <th>name</th>\n",
       "        <th>population</th>\n",
       "    </tr>\n",
       "    <tr>\n",
       "        <td>China</td>\n",
       "        <td>1277558000</td>\n",
       "    </tr>\n",
       "    <tr>\n",
       "        <td>India</td>\n",
       "        <td>1013662000</td>\n",
       "    </tr>\n",
       "    <tr>\n",
       "        <td>United States</td>\n",
       "        <td>278357000</td>\n",
       "    </tr>\n",
       "    <tr>\n",
       "        <td>Indonesia</td>\n",
       "        <td>212107000</td>\n",
       "    </tr>\n",
       "    <tr>\n",
       "        <td>Brazil</td>\n",
       "        <td>170115000</td>\n",
       "    </tr>\n",
       "    <tr>\n",
       "        <td>Pakistan</td>\n",
       "        <td>156483000</td>\n",
       "    </tr>\n",
       "    <tr>\n",
       "        <td>Russian Federation</td>\n",
       "        <td>146934000</td>\n",
       "    </tr>\n",
       "    <tr>\n",
       "        <td>Bangladesh</td>\n",
       "        <td>129155000</td>\n",
       "    </tr>\n",
       "    <tr>\n",
       "        <td>Japan</td>\n",
       "        <td>126714000</td>\n",
       "    </tr>\n",
       "    <tr>\n",
       "        <td>Nigeria</td>\n",
       "        <td>111506000</td>\n",
       "    </tr>\n",
       "</table>"
      ],
      "text/plain": [
       "[('China', 1277558000),\n",
       " ('India', 1013662000),\n",
       " ('United States', 278357000),\n",
       " ('Indonesia', 212107000),\n",
       " ('Brazil', 170115000),\n",
       " ('Pakistan', 156483000),\n",
       " ('Russian Federation', 146934000),\n",
       " ('Bangladesh', 129155000),\n",
       " ('Japan', 126714000),\n",
       " ('Nigeria', 111506000)]"
      ]
     },
     "execution_count": 30,
     "metadata": {},
     "output_type": "execute_result"
    }
   ],
   "source": [
    "%%sql\n",
    "\n",
    "select name, population\n",
    "from country\n",
    "where population > 1000000 \n",
    "order by population desc\n",
    "limit 10"
   ]
  },
  {
   "cell_type": "markdown",
   "metadata": {},
   "source": [
    "### Translating a groupby\n",
    "\n",
    "The groupby is the first operator that is a bit more tricky to translate:\n",
    "\n",
    "1.  The grouping column must be a part of the select, Other columns may not be part of the select.\n",
    "2.  Aggregate operators may also be part of the select or they may be used in the order by clause.  \n",
    "\n",
    "```\n",
    "country.groupby(['region']).count('name')\n",
    "```\n",
    "\n",
    "```sql\n",
    "select region, count(*)\n",
    "from country\n",
    "group by region\n",
    "```\n",
    "\n",
    "We can limit our count of cities to regions in a single continent as follows:\n",
    "\n",
    "```\n",
    "country.query(\"continent == 'Africa'\").groupby(['region']).count('name')\n",
    "```\n",
    "\n",
    "In SQL:\n",
    "\n",
    "```sql\n",
    "select region, count(*)\n",
    "from country\n",
    "where continent = 'Asia'\n",
    "group by region\n",
    "```\n"
   ]
  },
  {
   "cell_type": "code",
   "execution_count": 31,
   "metadata": {
    "collapsed": false
   },
   "outputs": [
    {
     "name": "stdout",
     "output_type": "stream",
     "text": [
      "4 rows affected.\n"
     ]
    },
    {
     "data": {
      "text/html": [
       "<table>\n",
       "    <tr>\n",
       "        <th>region</th>\n",
       "        <th>count</th>\n",
       "    </tr>\n",
       "    <tr>\n",
       "        <td>Middle East</td>\n",
       "        <td>18</td>\n",
       "    </tr>\n",
       "    <tr>\n",
       "        <td>Southern and Central Asia</td>\n",
       "        <td>14</td>\n",
       "    </tr>\n",
       "    <tr>\n",
       "        <td>Southeast Asia</td>\n",
       "        <td>11</td>\n",
       "    </tr>\n",
       "    <tr>\n",
       "        <td>Eastern Asia</td>\n",
       "        <td>8</td>\n",
       "    </tr>\n",
       "</table>"
      ],
      "text/plain": [
       "[('Middle East', 18),\n",
       " ('Southern and Central Asia', 14),\n",
       " ('Southeast Asia', 11),\n",
       " ('Eastern Asia', 8)]"
      ]
     },
     "execution_count": 31,
     "metadata": {},
     "output_type": "execute_result"
    }
   ],
   "source": [
    "%%sql\n",
    "\n",
    "select region, count(*)\n",
    "from country\n",
    "where continent = 'Asia'\n",
    "group by region"
   ]
  },
  {
   "cell_type": "markdown",
   "metadata": {},
   "source": [
    "### Translating a groupby followed by a query\n",
    "\n",
    "Some times you want to make a further query after you have the results of a groupby.  For example, calculate the total surface area of each region in Asia, and report the regions that have more than 12000000 in surface area.\n",
    "\n",
    "```\n",
    "country.query(\"continent == 'Asia'\").groupby(['region']).sum('surfacearea').query(\"sum_surfacearea > 12000000\")\n",
    "```\n",
    "\n",
    "Translating this to SQL will require both a where clause and a having clause.\n",
    "\n",
    "```sql\n",
    "select region, sum(surfacearea)\n",
    "from country\n",
    "where continent = 'Asia'\n",
    "group by region\n",
    "having sum(surfacearea) > 12000000\n",
    "```\n"
   ]
  },
  {
   "cell_type": "code",
   "execution_count": 32,
   "metadata": {
    "collapsed": false
   },
   "outputs": [
    {
     "name": "stdout",
     "output_type": "stream",
     "text": [
      "2 rows affected.\n"
     ]
    },
    {
     "data": {
      "text/html": [
       "<table>\n",
       "    <tr>\n",
       "        <th>region</th>\n",
       "        <th>sum</th>\n",
       "    </tr>\n",
       "    <tr>\n",
       "        <td>Southern and Central Asia</td>\n",
       "        <td>10791100.0</td>\n",
       "    </tr>\n",
       "    <tr>\n",
       "        <td>Eastern Asia</td>\n",
       "        <td>11774500.0</td>\n",
       "    </tr>\n",
       "</table>"
      ],
      "text/plain": [
       "[('Southern and Central Asia', 10791100.0), ('Eastern Asia', 11774500.0)]"
      ]
     },
     "execution_count": 32,
     "metadata": {},
     "output_type": "execute_result"
    }
   ],
   "source": [
    "%%sql\n",
    "\n",
    "select region, sum(surfacearea)\n",
    "from country\n",
    "where continent = 'Asia'\n",
    "group by region\n",
    "having sum(surfacearea) > 10791100\n"
   ]
  },
  {
   "cell_type": "markdown",
   "metadata": {},
   "source": [
    "### Translating a cartesian product\n",
    "\n",
    "Translating a cartesian product is easy, just remember that this not not usually what you want to do.\n",
    "\n",
    "```\n",
    "country.cartesian_product(city).query(\"countrycode == code\")\n",
    "```\n",
    "\n",
    "This tranlates into:\n",
    "\n",
    "```sql\n",
    "select *\n",
    "from city, country\n",
    "where countrycode = code\n",
    "```\n",
    "\n",
    "Lets first try a query without a where clause:"
   ]
  },
  {
   "cell_type": "code",
   "execution_count": 33,
   "metadata": {
    "collapsed": false
   },
   "outputs": [
    {
     "name": "stdout",
     "output_type": "stream",
     "text": [
      "10 rows affected.\n"
     ]
    },
    {
     "data": {
      "text/html": [
       "<table>\n",
       "    <tr>\n",
       "        <th>name</th>\n",
       "        <th>countrycode</th>\n",
       "        <th>name_1</th>\n",
       "        <th>code</th>\n",
       "    </tr>\n",
       "    <tr>\n",
       "        <td>Kabul</td>\n",
       "        <td>AFG</td>\n",
       "        <td>Afghanistan</td>\n",
       "        <td>AFG</td>\n",
       "    </tr>\n",
       "    <tr>\n",
       "        <td>Kabul</td>\n",
       "        <td>AFG</td>\n",
       "        <td>Netherlands</td>\n",
       "        <td>NLD</td>\n",
       "    </tr>\n",
       "    <tr>\n",
       "        <td>Kabul</td>\n",
       "        <td>AFG</td>\n",
       "        <td>Netherlands Antilles</td>\n",
       "        <td>ANT</td>\n",
       "    </tr>\n",
       "    <tr>\n",
       "        <td>Kabul</td>\n",
       "        <td>AFG</td>\n",
       "        <td>Albania</td>\n",
       "        <td>ALB</td>\n",
       "    </tr>\n",
       "    <tr>\n",
       "        <td>Kabul</td>\n",
       "        <td>AFG</td>\n",
       "        <td>Algeria</td>\n",
       "        <td>DZA</td>\n",
       "    </tr>\n",
       "    <tr>\n",
       "        <td>Kabul</td>\n",
       "        <td>AFG</td>\n",
       "        <td>American Samoa</td>\n",
       "        <td>ASM</td>\n",
       "    </tr>\n",
       "    <tr>\n",
       "        <td>Kabul</td>\n",
       "        <td>AFG</td>\n",
       "        <td>Andorra</td>\n",
       "        <td>AND</td>\n",
       "    </tr>\n",
       "    <tr>\n",
       "        <td>Kabul</td>\n",
       "        <td>AFG</td>\n",
       "        <td>Angola</td>\n",
       "        <td>AGO</td>\n",
       "    </tr>\n",
       "    <tr>\n",
       "        <td>Kabul</td>\n",
       "        <td>AFG</td>\n",
       "        <td>Anguilla</td>\n",
       "        <td>AIA</td>\n",
       "    </tr>\n",
       "    <tr>\n",
       "        <td>Kabul</td>\n",
       "        <td>AFG</td>\n",
       "        <td>Antigua and Barbuda</td>\n",
       "        <td>ATG</td>\n",
       "    </tr>\n",
       "</table>"
      ],
      "text/plain": [
       "[('Kabul', 'AFG', 'Afghanistan', 'AFG'),\n",
       " ('Kabul', 'AFG', 'Netherlands', 'NLD'),\n",
       " ('Kabul', 'AFG', 'Netherlands Antilles', 'ANT'),\n",
       " ('Kabul', 'AFG', 'Albania', 'ALB'),\n",
       " ('Kabul', 'AFG', 'Algeria', 'DZA'),\n",
       " ('Kabul', 'AFG', 'American Samoa', 'ASM'),\n",
       " ('Kabul', 'AFG', 'Andorra', 'AND'),\n",
       " ('Kabul', 'AFG', 'Angola', 'AGO'),\n",
       " ('Kabul', 'AFG', 'Anguilla', 'AIA'),\n",
       " ('Kabul', 'AFG', 'Antigua and Barbuda', 'ATG')]"
      ]
     },
     "execution_count": 33,
     "metadata": {},
     "output_type": "execute_result"
    }
   ],
   "source": [
    "%%sql\n",
    "\n",
    "select city.name, countrycode, country.name, code\n",
    "from country, city\n",
    "limit 10"
   ]
  },
  {
   "cell_type": "markdown",
   "metadata": {},
   "source": [
    "You would probably agree that it is a strange looking result.  Why have Kabul on the same row as Antigua?  That is why we need the where clause, so that we limit the information on the same row to be cities that are in the right country, that is where code = countrycode!"
   ]
  },
  {
   "cell_type": "code",
   "execution_count": 34,
   "metadata": {
    "collapsed": false
   },
   "outputs": [
    {
     "name": "stdout",
     "output_type": "stream",
     "text": [
      "10 rows affected.\n"
     ]
    },
    {
     "data": {
      "text/html": [
       "<table>\n",
       "    <tr>\n",
       "        <th>name</th>\n",
       "        <th>countrycode</th>\n",
       "        <th>name_1</th>\n",
       "        <th>code</th>\n",
       "    </tr>\n",
       "    <tr>\n",
       "        <td>Kabul</td>\n",
       "        <td>AFG</td>\n",
       "        <td>Afghanistan</td>\n",
       "        <td>AFG</td>\n",
       "    </tr>\n",
       "    <tr>\n",
       "        <td>Qandahar</td>\n",
       "        <td>AFG</td>\n",
       "        <td>Afghanistan</td>\n",
       "        <td>AFG</td>\n",
       "    </tr>\n",
       "    <tr>\n",
       "        <td>Herat</td>\n",
       "        <td>AFG</td>\n",
       "        <td>Afghanistan</td>\n",
       "        <td>AFG</td>\n",
       "    </tr>\n",
       "    <tr>\n",
       "        <td>Mazar-e-Sharif</td>\n",
       "        <td>AFG</td>\n",
       "        <td>Afghanistan</td>\n",
       "        <td>AFG</td>\n",
       "    </tr>\n",
       "    <tr>\n",
       "        <td>Amsterdam</td>\n",
       "        <td>NLD</td>\n",
       "        <td>Netherlands</td>\n",
       "        <td>NLD</td>\n",
       "    </tr>\n",
       "    <tr>\n",
       "        <td>Rotterdam</td>\n",
       "        <td>NLD</td>\n",
       "        <td>Netherlands</td>\n",
       "        <td>NLD</td>\n",
       "    </tr>\n",
       "    <tr>\n",
       "        <td>Haag</td>\n",
       "        <td>NLD</td>\n",
       "        <td>Netherlands</td>\n",
       "        <td>NLD</td>\n",
       "    </tr>\n",
       "    <tr>\n",
       "        <td>Utrecht</td>\n",
       "        <td>NLD</td>\n",
       "        <td>Netherlands</td>\n",
       "        <td>NLD</td>\n",
       "    </tr>\n",
       "    <tr>\n",
       "        <td>Eindhoven</td>\n",
       "        <td>NLD</td>\n",
       "        <td>Netherlands</td>\n",
       "        <td>NLD</td>\n",
       "    </tr>\n",
       "    <tr>\n",
       "        <td>Tilburg</td>\n",
       "        <td>NLD</td>\n",
       "        <td>Netherlands</td>\n",
       "        <td>NLD</td>\n",
       "    </tr>\n",
       "</table>"
      ],
      "text/plain": [
       "[('Kabul', 'AFG', 'Afghanistan', 'AFG'),\n",
       " ('Qandahar', 'AFG', 'Afghanistan', 'AFG'),\n",
       " ('Herat', 'AFG', 'Afghanistan', 'AFG'),\n",
       " ('Mazar-e-Sharif', 'AFG', 'Afghanistan', 'AFG'),\n",
       " ('Amsterdam', 'NLD', 'Netherlands', 'NLD'),\n",
       " ('Rotterdam', 'NLD', 'Netherlands', 'NLD'),\n",
       " ('Haag', 'NLD', 'Netherlands', 'NLD'),\n",
       " ('Utrecht', 'NLD', 'Netherlands', 'NLD'),\n",
       " ('Eindhoven', 'NLD', 'Netherlands', 'NLD'),\n",
       " ('Tilburg', 'NLD', 'Netherlands', 'NLD')]"
      ]
     },
     "execution_count": 34,
     "metadata": {},
     "output_type": "execute_result"
    }
   ],
   "source": [
    "%%sql\n",
    "\n",
    "select city.name, countrycode, country.name, code\n",
    "from country, city\n",
    "where code = countrycode\n",
    "limit 10\n"
   ]
  },
  {
   "cell_type": "code",
   "execution_count": 35,
   "metadata": {
    "collapsed": false
   },
   "outputs": [
    {
     "name": "stdout",
     "output_type": "stream",
     "text": [
      "10 rows affected.\n"
     ]
    },
    {
     "data": {
      "text/html": [
       "<table>\n",
       "    <tr>\n",
       "        <th>id</th>\n",
       "        <th>name</th>\n",
       "        <th>countrycode</th>\n",
       "        <th>district</th>\n",
       "        <th>population</th>\n",
       "        <th>code</th>\n",
       "        <th>name_1</th>\n",
       "        <th>continent</th>\n",
       "        <th>region</th>\n",
       "        <th>surfacearea</th>\n",
       "        <th>indepyear</th>\n",
       "        <th>population_1</th>\n",
       "        <th>lifeexpectancy</th>\n",
       "        <th>gnp</th>\n",
       "        <th>gnpold</th>\n",
       "        <th>localname</th>\n",
       "        <th>governmentform</th>\n",
       "        <th>headofstate</th>\n",
       "        <th>capital</th>\n",
       "        <th>code2</th>\n",
       "    </tr>\n",
       "    <tr>\n",
       "        <td>1</td>\n",
       "        <td>Kabul</td>\n",
       "        <td>AFG</td>\n",
       "        <td>Kabol</td>\n",
       "        <td>1780000</td>\n",
       "        <td>AFG</td>\n",
       "        <td>Afghanistan</td>\n",
       "        <td>Asia</td>\n",
       "        <td>Southern and Central Asia</td>\n",
       "        <td>652090.0</td>\n",
       "        <td>1919</td>\n",
       "        <td>22720000</td>\n",
       "        <td>45.9</td>\n",
       "        <td>5976.00</td>\n",
       "        <td>None</td>\n",
       "        <td>Afganistan/Afqanestan</td>\n",
       "        <td>Islamic Emirate</td>\n",
       "        <td>Mohammad Omar</td>\n",
       "        <td>1</td>\n",
       "        <td>AF</td>\n",
       "    </tr>\n",
       "    <tr>\n",
       "        <td>2</td>\n",
       "        <td>Qandahar</td>\n",
       "        <td>AFG</td>\n",
       "        <td>Qandahar</td>\n",
       "        <td>237500</td>\n",
       "        <td>AFG</td>\n",
       "        <td>Afghanistan</td>\n",
       "        <td>Asia</td>\n",
       "        <td>Southern and Central Asia</td>\n",
       "        <td>652090.0</td>\n",
       "        <td>1919</td>\n",
       "        <td>22720000</td>\n",
       "        <td>45.9</td>\n",
       "        <td>5976.00</td>\n",
       "        <td>None</td>\n",
       "        <td>Afganistan/Afqanestan</td>\n",
       "        <td>Islamic Emirate</td>\n",
       "        <td>Mohammad Omar</td>\n",
       "        <td>1</td>\n",
       "        <td>AF</td>\n",
       "    </tr>\n",
       "    <tr>\n",
       "        <td>3</td>\n",
       "        <td>Herat</td>\n",
       "        <td>AFG</td>\n",
       "        <td>Herat</td>\n",
       "        <td>186800</td>\n",
       "        <td>AFG</td>\n",
       "        <td>Afghanistan</td>\n",
       "        <td>Asia</td>\n",
       "        <td>Southern and Central Asia</td>\n",
       "        <td>652090.0</td>\n",
       "        <td>1919</td>\n",
       "        <td>22720000</td>\n",
       "        <td>45.9</td>\n",
       "        <td>5976.00</td>\n",
       "        <td>None</td>\n",
       "        <td>Afganistan/Afqanestan</td>\n",
       "        <td>Islamic Emirate</td>\n",
       "        <td>Mohammad Omar</td>\n",
       "        <td>1</td>\n",
       "        <td>AF</td>\n",
       "    </tr>\n",
       "    <tr>\n",
       "        <td>4</td>\n",
       "        <td>Mazar-e-Sharif</td>\n",
       "        <td>AFG</td>\n",
       "        <td>Balkh</td>\n",
       "        <td>127800</td>\n",
       "        <td>AFG</td>\n",
       "        <td>Afghanistan</td>\n",
       "        <td>Asia</td>\n",
       "        <td>Southern and Central Asia</td>\n",
       "        <td>652090.0</td>\n",
       "        <td>1919</td>\n",
       "        <td>22720000</td>\n",
       "        <td>45.9</td>\n",
       "        <td>5976.00</td>\n",
       "        <td>None</td>\n",
       "        <td>Afganistan/Afqanestan</td>\n",
       "        <td>Islamic Emirate</td>\n",
       "        <td>Mohammad Omar</td>\n",
       "        <td>1</td>\n",
       "        <td>AF</td>\n",
       "    </tr>\n",
       "    <tr>\n",
       "        <td>5</td>\n",
       "        <td>Amsterdam</td>\n",
       "        <td>NLD</td>\n",
       "        <td>Noord-Holland</td>\n",
       "        <td>731200</td>\n",
       "        <td>NLD</td>\n",
       "        <td>Netherlands</td>\n",
       "        <td>Europe</td>\n",
       "        <td>Western Europe</td>\n",
       "        <td>41526.0</td>\n",
       "        <td>1581</td>\n",
       "        <td>15864000</td>\n",
       "        <td>78.3</td>\n",
       "        <td>371362.00</td>\n",
       "        <td>360478.00</td>\n",
       "        <td>Nederland</td>\n",
       "        <td>Constitutional Monarchy</td>\n",
       "        <td>Beatrix</td>\n",
       "        <td>5</td>\n",
       "        <td>NL</td>\n",
       "    </tr>\n",
       "    <tr>\n",
       "        <td>6</td>\n",
       "        <td>Rotterdam</td>\n",
       "        <td>NLD</td>\n",
       "        <td>Zuid-Holland</td>\n",
       "        <td>593321</td>\n",
       "        <td>NLD</td>\n",
       "        <td>Netherlands</td>\n",
       "        <td>Europe</td>\n",
       "        <td>Western Europe</td>\n",
       "        <td>41526.0</td>\n",
       "        <td>1581</td>\n",
       "        <td>15864000</td>\n",
       "        <td>78.3</td>\n",
       "        <td>371362.00</td>\n",
       "        <td>360478.00</td>\n",
       "        <td>Nederland</td>\n",
       "        <td>Constitutional Monarchy</td>\n",
       "        <td>Beatrix</td>\n",
       "        <td>5</td>\n",
       "        <td>NL</td>\n",
       "    </tr>\n",
       "    <tr>\n",
       "        <td>7</td>\n",
       "        <td>Haag</td>\n",
       "        <td>NLD</td>\n",
       "        <td>Zuid-Holland</td>\n",
       "        <td>440900</td>\n",
       "        <td>NLD</td>\n",
       "        <td>Netherlands</td>\n",
       "        <td>Europe</td>\n",
       "        <td>Western Europe</td>\n",
       "        <td>41526.0</td>\n",
       "        <td>1581</td>\n",
       "        <td>15864000</td>\n",
       "        <td>78.3</td>\n",
       "        <td>371362.00</td>\n",
       "        <td>360478.00</td>\n",
       "        <td>Nederland</td>\n",
       "        <td>Constitutional Monarchy</td>\n",
       "        <td>Beatrix</td>\n",
       "        <td>5</td>\n",
       "        <td>NL</td>\n",
       "    </tr>\n",
       "    <tr>\n",
       "        <td>8</td>\n",
       "        <td>Utrecht</td>\n",
       "        <td>NLD</td>\n",
       "        <td>Utrecht</td>\n",
       "        <td>234323</td>\n",
       "        <td>NLD</td>\n",
       "        <td>Netherlands</td>\n",
       "        <td>Europe</td>\n",
       "        <td>Western Europe</td>\n",
       "        <td>41526.0</td>\n",
       "        <td>1581</td>\n",
       "        <td>15864000</td>\n",
       "        <td>78.3</td>\n",
       "        <td>371362.00</td>\n",
       "        <td>360478.00</td>\n",
       "        <td>Nederland</td>\n",
       "        <td>Constitutional Monarchy</td>\n",
       "        <td>Beatrix</td>\n",
       "        <td>5</td>\n",
       "        <td>NL</td>\n",
       "    </tr>\n",
       "    <tr>\n",
       "        <td>9</td>\n",
       "        <td>Eindhoven</td>\n",
       "        <td>NLD</td>\n",
       "        <td>Noord-Brabant</td>\n",
       "        <td>201843</td>\n",
       "        <td>NLD</td>\n",
       "        <td>Netherlands</td>\n",
       "        <td>Europe</td>\n",
       "        <td>Western Europe</td>\n",
       "        <td>41526.0</td>\n",
       "        <td>1581</td>\n",
       "        <td>15864000</td>\n",
       "        <td>78.3</td>\n",
       "        <td>371362.00</td>\n",
       "        <td>360478.00</td>\n",
       "        <td>Nederland</td>\n",
       "        <td>Constitutional Monarchy</td>\n",
       "        <td>Beatrix</td>\n",
       "        <td>5</td>\n",
       "        <td>NL</td>\n",
       "    </tr>\n",
       "    <tr>\n",
       "        <td>10</td>\n",
       "        <td>Tilburg</td>\n",
       "        <td>NLD</td>\n",
       "        <td>Noord-Brabant</td>\n",
       "        <td>193238</td>\n",
       "        <td>NLD</td>\n",
       "        <td>Netherlands</td>\n",
       "        <td>Europe</td>\n",
       "        <td>Western Europe</td>\n",
       "        <td>41526.0</td>\n",
       "        <td>1581</td>\n",
       "        <td>15864000</td>\n",
       "        <td>78.3</td>\n",
       "        <td>371362.00</td>\n",
       "        <td>360478.00</td>\n",
       "        <td>Nederland</td>\n",
       "        <td>Constitutional Monarchy</td>\n",
       "        <td>Beatrix</td>\n",
       "        <td>5</td>\n",
       "        <td>NL</td>\n",
       "    </tr>\n",
       "</table>"
      ],
      "text/plain": [
       "[(1, 'Kabul', 'AFG', 'Kabol', 1780000, 'AFG', 'Afghanistan', 'Asia', 'Southern and Central Asia', 652090.0, 1919, 22720000, 45.9, Decimal('5976.00'), None, 'Afganistan/Afqanestan', 'Islamic Emirate', 'Mohammad Omar', 1, 'AF'),\n",
       " (2, 'Qandahar', 'AFG', 'Qandahar', 237500, 'AFG', 'Afghanistan', 'Asia', 'Southern and Central Asia', 652090.0, 1919, 22720000, 45.9, Decimal('5976.00'), None, 'Afganistan/Afqanestan', 'Islamic Emirate', 'Mohammad Omar', 1, 'AF'),\n",
       " (3, 'Herat', 'AFG', 'Herat', 186800, 'AFG', 'Afghanistan', 'Asia', 'Southern and Central Asia', 652090.0, 1919, 22720000, 45.9, Decimal('5976.00'), None, 'Afganistan/Afqanestan', 'Islamic Emirate', 'Mohammad Omar', 1, 'AF'),\n",
       " (4, 'Mazar-e-Sharif', 'AFG', 'Balkh', 127800, 'AFG', 'Afghanistan', 'Asia', 'Southern and Central Asia', 652090.0, 1919, 22720000, 45.9, Decimal('5976.00'), None, 'Afganistan/Afqanestan', 'Islamic Emirate', 'Mohammad Omar', 1, 'AF'),\n",
       " (5, 'Amsterdam', 'NLD', 'Noord-Holland', 731200, 'NLD', 'Netherlands', 'Europe', 'Western Europe', 41526.0, 1581, 15864000, 78.3, Decimal('371362.00'), Decimal('360478.00'), 'Nederland', 'Constitutional Monarchy', 'Beatrix', 5, 'NL'),\n",
       " (6, 'Rotterdam', 'NLD', 'Zuid-Holland', 593321, 'NLD', 'Netherlands', 'Europe', 'Western Europe', 41526.0, 1581, 15864000, 78.3, Decimal('371362.00'), Decimal('360478.00'), 'Nederland', 'Constitutional Monarchy', 'Beatrix', 5, 'NL'),\n",
       " (7, 'Haag', 'NLD', 'Zuid-Holland', 440900, 'NLD', 'Netherlands', 'Europe', 'Western Europe', 41526.0, 1581, 15864000, 78.3, Decimal('371362.00'), Decimal('360478.00'), 'Nederland', 'Constitutional Monarchy', 'Beatrix', 5, 'NL'),\n",
       " (8, 'Utrecht', 'NLD', 'Utrecht', 234323, 'NLD', 'Netherlands', 'Europe', 'Western Europe', 41526.0, 1581, 15864000, 78.3, Decimal('371362.00'), Decimal('360478.00'), 'Nederland', 'Constitutional Monarchy', 'Beatrix', 5, 'NL'),\n",
       " (9, 'Eindhoven', 'NLD', 'Noord-Brabant', 201843, 'NLD', 'Netherlands', 'Europe', 'Western Europe', 41526.0, 1581, 15864000, 78.3, Decimal('371362.00'), Decimal('360478.00'), 'Nederland', 'Constitutional Monarchy', 'Beatrix', 5, 'NL'),\n",
       " (10, 'Tilburg', 'NLD', 'Noord-Brabant', 193238, 'NLD', 'Netherlands', 'Europe', 'Western Europe', 41526.0, 1581, 15864000, 78.3, Decimal('371362.00'), Decimal('360478.00'), 'Nederland', 'Constitutional Monarchy', 'Beatrix', 5, 'NL')]"
      ]
     },
     "execution_count": 35,
     "metadata": {},
     "output_type": "execute_result"
    }
   ],
   "source": [
    "%%sql\n",
    "\n",
    "select *\n",
    "from city, country\n",
    "where countrycode = code\n",
    "limit 10"
   ]
  }
 ],
 "metadata": {
  "kernelspec": {
   "display_name": "Python 3",
   "language": "python",
   "name": "python3"
  },
  "language_info": {
   "codemirror_mode": {
    "name": "ipython",
    "version": 3
   },
   "file_extension": ".py",
   "mimetype": "text/x-python",
   "name": "python",
   "nbconvert_exporter": "python",
   "pygments_lexer": "ipython3",
   "version": "3.4.3"
  }
 },
 "nbformat": 4,
 "nbformat_minor": 0
}
